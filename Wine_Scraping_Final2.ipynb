{
 "cells": [
  {
   "cell_type": "markdown",
   "id": "9d703d08",
   "metadata": {},
   "source": [
    "# Wine Scraping with BeautifulSoup & Selenium - PAGE 2"
   ]
  },
  {
   "cell_type": "code",
   "execution_count": 1,
   "id": "7ddb573e",
   "metadata": {},
   "outputs": [],
   "source": [
    "import pandas as pd\n",
    "import numpy as np\n",
    "from selenium import webdriver\n",
    "from selenium.webdriver.common.by import By\n",
    "from bs4 import BeautifulSoup as bs\n",
    "import html.parser\n",
    "import time\n",
    "import locale\n",
    "from tqdm import tqdm\n",
    "import requests\n",
    "import re\n",
    "import html.parser\n",
    "from tqdm import tqdm\n",
    "# for i in tqdm(range(100)):"
   ]
  },
  {
   "cell_type": "code",
   "execution_count": 2,
   "id": "27ca740d",
   "metadata": {},
   "outputs": [],
   "source": [
    "driver = webdriver.Chrome(executable_path='chromedriver.exe')"
   ]
  },
  {
   "cell_type": "code",
   "execution_count": 3,
   "id": "264a8323",
   "metadata": {},
   "outputs": [],
   "source": [
    "url = 'https://www.totalwine.com/wine/red-wine/c/000009?&page=2&pageSize=120&ratingsource=Wine%20Advocate&aty=1,1,0,1'\n",
    "driver.get(url)\n",
    "time.sleep(2)"
   ]
  },
  {
   "cell_type": "code",
   "execution_count": 4,
   "id": "d41187e6",
   "metadata": {},
   "outputs": [],
   "source": [
    "pageonesoup = bs(driver.page_source)"
   ]
  },
  {
   "cell_type": "code",
   "execution_count": 5,
   "id": "903867bb",
   "metadata": {},
   "outputs": [
    {
     "data": {
      "text/plain": [
       "360"
      ]
     },
     "execution_count": 5,
     "metadata": {},
     "output_type": "execute_result"
    }
   ],
   "source": [
    "list_links = [link['href'] for link in pageonesoup.find(class_=\"grid__1eZnNfL-\").find_all('a')]\n",
    "len(list_links)\n",
    "#triple reference for the 120 wines on the webpage"
   ]
  },
  {
   "cell_type": "code",
   "execution_count": 6,
   "id": "c03fe863",
   "metadata": {},
   "outputs": [],
   "source": [
    "list_links = list(set([link.split('&tab')[0] for link in list_links]))"
   ]
  },
  {
   "cell_type": "code",
   "execution_count": 7,
   "id": "80574c37",
   "metadata": {},
   "outputs": [],
   "source": [
    "list_links = [\"https://www.totalwine.com\"+link for link in list_links]"
   ]
  },
  {
   "cell_type": "code",
   "execution_count": 8,
   "id": "9db2be86",
   "metadata": {},
   "outputs": [],
   "source": [
    "#need to sort list in place so I can pick up where I left off if site crashes\n",
    "list_links.sort()"
   ]
  },
  {
   "cell_type": "code",
   "execution_count": 9,
   "id": "6a01df2c",
   "metadata": {},
   "outputs": [
    {
     "data": {
      "text/plain": [
       "120"
      ]
     },
     "execution_count": 9,
     "metadata": {},
     "output_type": "execute_result"
    }
   ],
   "source": [
    "len(list_links)"
   ]
  },
  {
   "cell_type": "code",
   "execution_count": 10,
   "id": "fc97f053",
   "metadata": {},
   "outputs": [],
   "source": [
    "driver.close()"
   ]
  },
  {
   "cell_type": "code",
   "execution_count": 11,
   "id": "821044f5",
   "metadata": {},
   "outputs": [],
   "source": [
    "#define 10 helper functions for handling sale price and feature nulls\n",
    "def find_price(soup):\n",
    "    try:\n",
    "        wineprice = newsoup.find(id=\"edlpPrice\").text.strip(\"$\")\n",
    "    except:\n",
    "        wineprice = newsoup.find(attrs={\"data-at\":\"product-mix6price-text\"}).text.strip(\"$\")\n",
    "    return wineprice\n",
    "\n",
    "def find_countrystate(soup):\n",
    "    try:\n",
    "        winecountrystate = newsoup.find(text='COUNTRY / STATE').findNext().text\n",
    "    except:\n",
    "        winecountrystate = ''\n",
    "    return winecountrystate\n",
    "\n",
    "def find_region(soup):\n",
    "    try:\n",
    "        wineregion = newsoup.find(text='REGION').findNext().text\n",
    "    except:\n",
    "        wineregion = ''\n",
    "    return wineregion\n",
    "\n",
    "def find_appellation(soup):\n",
    "    try:\n",
    "        wineappellation = newsoup.find(text='APPELLATION').findNext().text\n",
    "    except:\n",
    "        wineappellation = ''\n",
    "    return wineappellation\n",
    "\n",
    "def find_varietal(soup):\n",
    "    try:\n",
    "        winevarietal = newsoup.find(text='VARIETAL').findNext().text\n",
    "    except:\n",
    "        winevarietal = ''\n",
    "    return winevarietal\n",
    "\n",
    "def find_style(soup):\n",
    "    try:\n",
    "        winestyle = newsoup.find(text='STYLE').findNext().text\n",
    "    except:\n",
    "        winestyle = ''\n",
    "    return winestyle\n",
    "\n",
    "def find_abv(soup):\n",
    "    try:\n",
    "        wineabv = newsoup.find(text='ABV').findNext().text.strip(\"%\")\n",
    "    except:\n",
    "        wineabv = ''\n",
    "    return wineabv\n",
    "\n",
    "def find_taste(soup):\n",
    "    try:\n",
    "        winetaste = newsoup.find(text='TASTE').findNext().text\n",
    "    except:\n",
    "        winetaste = ''\n",
    "    return winetaste\n",
    "\n",
    "def find_body(soup):\n",
    "    try:\n",
    "        winebody = newsoup.find(text='BODY').findNext().text\n",
    "    except:\n",
    "        winebody = ''\n",
    "    return winebody\n",
    "\n",
    "def find_avgrating(soup):\n",
    "    try:\n",
    "        customeravgrating = newsoup.find(class_='bv_avgRating_component_container notranslate').text\n",
    "    except:\n",
    "        customeravgrating = ''\n",
    "    return customeravgrating"
   ]
  },
  {
   "cell_type": "code",
   "execution_count": 12,
   "id": "177e691e",
   "metadata": {},
   "outputs": [],
   "source": [
    "#define function used to update list of dictionaries (1 dictionary per product page)\n",
    "def update_list_w_dict(soup):\n",
    "    headers = ['price','name','brand','country_state','region','appellation','varietal','style','abv','taste','body',\n",
    "           'wine_adv_rating','customer_avg_rating','customer_total_ratings']\n",
    "    product_dict = dict(zip(headers, [wineprice, winename, winebrand, winecountrystate, wineregion, wineappellation,\n",
    "                                  winevarietal, winestyle, wineabv, winetaste, winebody, warating, customeravgrating,\n",
    "                                  customertotalratings]))\n",
    "    product_data.append(product_dict)\n",
    "    return product_data"
   ]
  },
  {
   "cell_type": "code",
   "execution_count": 13,
   "id": "b999e451",
   "metadata": {},
   "outputs": [],
   "source": [
    "#product data needs to be established as empty list, will be appended with dictionaries\n",
    "product_data=[]"
   ]
  },
  {
   "cell_type": "code",
   "execution_count": 14,
   "id": "ef2e1ca7-e235-4737-93f2-469d1f0da8ee",
   "metadata": {},
   "outputs": [],
   "source": [
    "mini_list1 = list_links[:5]\n",
    "mini_list2 = list_links[5:10]\n",
    "mini_list3 = list_links[10:15]\n",
    "mini_list4 = list_links[15:20]\n",
    "mini_list5 = list_links[20:25]\n",
    "mini_list6 = list_links[25:30]\n",
    "mini_list7 = list_links[30:35]\n",
    "mini_list8 = list_links[35:40]\n",
    "mini_list9 = list_links[40:45]\n",
    "mini_list10 = list_links[45:50]\n",
    "mini_list11 = list_links[50:55]\n",
    "mini_list12 = list_links[55:60]\n",
    "mini_list13 = list_links[60:65]\n",
    "mini_list14 = list_links[65:70]\n",
    "mini_list15 = list_links[70:75]\n",
    "mini_list16 = list_links[75:80]\n",
    "mini_list17 = list_links[80:85]\n",
    "mini_list18 = list_links[85:90]\n",
    "mini_list19 = list_links[90:95]\n",
    "mini_list20 = list_links[95:100]\n",
    "mini_list21 = list_links[100:105]\n",
    "mini_list22 = list_links[105:110]\n",
    "mini_list23 = list_links[110:115]\n",
    "mini_list24 = list_links[115:]"
   ]
  },
  {
   "cell_type": "code",
   "execution_count": 15,
   "id": "222f264b",
   "metadata": {},
   "outputs": [
    {
     "name": "stderr",
     "output_type": "stream",
     "text": [
      "100%|██████████| 5/5 [02:10<00:00, 26.06s/it]\n"
     ]
    }
   ],
   "source": [
    "for url in tqdm(mini_list1):\n",
    "    driver = webdriver.Chrome(executable_path='chromedriver.exe')\n",
    "    time.sleep(np.random.uniform(2.5,5))\n",
    "    driver.get(url)\n",
    "    time.sleep(np.random.uniform(2,4.5))\n",
    "    newsoup = bs(driver.page_source)\n",
    "    time.sleep(np.random.uniform(2,4.5))\n",
    "    wineprice = find_price(newsoup)\n",
    "    winename = newsoup.find(attrs={\"data-at\":\"product-breadcrumb-productname-text\"}).text\n",
    "    winebrand = newsoup.find(text='BRAND').findNext().text\n",
    "    winecountrystate = find_countrystate(newsoup)\n",
    "    wineregion = find_region(newsoup)\n",
    "    wineappellation = find_appellation(newsoup)\n",
    "    winevarietal = find_varietal(newsoup)\n",
    "    winestyle = find_style(newsoup)\n",
    "    wineabv = find_abv(newsoup)\n",
    "    winetaste = find_taste(newsoup)\n",
    "    winebody = find_body(newsoup)\n",
    "    warating = newsoup.find(attrs={\"data-at\":\"product-badge-container\"}).text\n",
    "    customeravgrating = find_avgrating(newsoup)\n",
    "    customertotalratings = newsoup.find(class_=\"bv_numReviews_text\").text.strip(\"()\")\n",
    "    update_list_w_dict(newsoup)\n",
    "    driver.quit()\n",
    "    time.sleep(np.random.uniform(2,4))"
   ]
  },
  {
   "cell_type": "code",
   "execution_count": 16,
   "id": "9bce0840",
   "metadata": {},
   "outputs": [
    {
     "data": {
      "text/plain": [
       "5"
      ]
     },
     "execution_count": 16,
     "metadata": {},
     "output_type": "execute_result"
    }
   ],
   "source": [
    "len(product_data)"
   ]
  },
  {
   "cell_type": "code",
   "execution_count": 17,
   "id": "cf3b7988",
   "metadata": {},
   "outputs": [],
   "source": [
    "#turn list of dictionaries into dataframe\n",
    "#we're appending csv that was created from page 1\n",
    "df = pd.DataFrame(product_data)\n",
    "df.to_csv('wine_data1.csv', mode='a', header=False)"
   ]
  },
  {
   "cell_type": "code",
   "execution_count": 15,
   "id": "a75076cc-19be-4608-a1fe-c7b885088270",
   "metadata": {},
   "outputs": [
    {
     "name": "stderr",
     "output_type": "stream",
     "text": [
      "100%|██████████| 5/5 [02:20<00:00, 28.02s/it]\n"
     ]
    }
   ],
   "source": [
    "product_data=[]\n",
    "for url in tqdm(mini_list2):\n",
    "    driver = webdriver.Chrome(executable_path='chromedriver.exe')\n",
    "    time.sleep(np.random.uniform(2.2,5))\n",
    "    driver.get(url)\n",
    "    time.sleep(np.random.uniform(2,4.5))\n",
    "    newsoup = bs(driver.page_source)\n",
    "    time.sleep(np.random.uniform(2,4.5))\n",
    "    wineprice = find_price(newsoup)\n",
    "    winename = newsoup.find(attrs={\"data-at\":\"product-breadcrumb-productname-text\"}).text\n",
    "    winebrand = newsoup.find(text='BRAND').findNext().text\n",
    "    winecountrystate = find_countrystate(newsoup)\n",
    "    wineregion = find_region(newsoup)\n",
    "    wineappellation = find_appellation(newsoup)\n",
    "    winevarietal = find_varietal(newsoup)\n",
    "    winestyle = find_style(newsoup)\n",
    "    wineabv = find_abv(newsoup)\n",
    "    winetaste = find_taste(newsoup)\n",
    "    winebody = find_body(newsoup)\n",
    "    warating = newsoup.find(attrs={\"data-at\":\"product-badge-container\"}).text\n",
    "    customeravgrating = find_avgrating(newsoup)\n",
    "    customertotalratings = newsoup.find(class_=\"bv_numReviews_text\").text.strip(\"()\")\n",
    "    update_list_w_dict(newsoup)\n",
    "    driver.quit()\n",
    "    time.sleep(np.random.uniform(2,4))"
   ]
  },
  {
   "cell_type": "code",
   "execution_count": 16,
   "id": "14d65e7f-62d9-41b5-ab56-11a363b2654b",
   "metadata": {},
   "outputs": [
    {
     "data": {
      "text/plain": [
       "5"
      ]
     },
     "execution_count": 16,
     "metadata": {},
     "output_type": "execute_result"
    }
   ],
   "source": [
    "len(product_data)"
   ]
  },
  {
   "cell_type": "code",
   "execution_count": 17,
   "id": "58eed89c-d7ac-4f04-92e3-da552e33e48d",
   "metadata": {},
   "outputs": [],
   "source": [
    "df = pd.DataFrame(product_data)\n",
    "df.to_csv('wine_data1.csv', mode='a', header=False)"
   ]
  },
  {
   "cell_type": "code",
   "execution_count": 15,
   "id": "ddbe63ad",
   "metadata": {},
   "outputs": [
    {
     "name": "stderr",
     "output_type": "stream",
     "text": [
      "100%|████████████████████████████████████████████████████████████████████████████████████| 5/5 [02:10<00:00, 26.07s/it]\n"
     ]
    }
   ],
   "source": [
    "product_data=[]\n",
    "for url in tqdm(mini_list3):\n",
    "    driver = webdriver.Chrome(executable_path='chromedriver.exe')\n",
    "    time.sleep(np.random.uniform(3,6))\n",
    "    driver.get(url)\n",
    "    time.sleep(np.random.uniform(2,4.5))\n",
    "    newsoup = bs(driver.page_source)\n",
    "    time.sleep(np.random.uniform(2,4.5))\n",
    "    wineprice = find_price(newsoup)\n",
    "    winename = newsoup.find(attrs={\"data-at\":\"product-breadcrumb-productname-text\"}).text\n",
    "    winebrand = newsoup.find(text='BRAND').findNext().text\n",
    "    winecountrystate = find_countrystate(newsoup)\n",
    "    wineregion = find_region(newsoup)\n",
    "    wineappellation = find_appellation(newsoup)\n",
    "    winevarietal = find_varietal(newsoup)\n",
    "    winestyle = find_style(newsoup)\n",
    "    wineabv = find_abv(newsoup)\n",
    "    winetaste = find_taste(newsoup)\n",
    "    winebody = find_body(newsoup)\n",
    "    warating = newsoup.find(attrs={\"data-at\":\"product-badge-container\"}).text\n",
    "    customeravgrating = find_avgrating(newsoup)\n",
    "    customertotalratings = newsoup.find(class_=\"bv_numReviews_text\").text.strip(\"()\")\n",
    "    update_list_w_dict(newsoup)\n",
    "    driver.quit()\n",
    "    time.sleep(np.random.uniform(2,4))"
   ]
  },
  {
   "cell_type": "code",
   "execution_count": 16,
   "id": "08aab0be-9ecd-450f-bd2c-cd1bf0833258",
   "metadata": {},
   "outputs": [
    {
     "data": {
      "text/plain": [
       "5"
      ]
     },
     "execution_count": 16,
     "metadata": {},
     "output_type": "execute_result"
    }
   ],
   "source": [
    "len(product_data)"
   ]
  },
  {
   "cell_type": "code",
   "execution_count": 17,
   "id": "e5cd842c-ba4f-4b63-829f-26a4a11148e7",
   "metadata": {},
   "outputs": [],
   "source": [
    "df = pd.DataFrame(product_data)\n",
    "df.to_csv('wine_data1.csv', mode='a', header=False)"
   ]
  },
  {
   "cell_type": "code",
   "execution_count": 18,
   "id": "0ab194c0-1583-466b-8b4b-d3fa16ac56b2",
   "metadata": {},
   "outputs": [
    {
     "name": "stderr",
     "output_type": "stream",
     "text": [
      "100%|████████████████████████████████████████████████████████████████████████████████████| 5/5 [02:19<00:00, 27.81s/it]\n"
     ]
    }
   ],
   "source": [
    "product_data=[]\n",
    "for url in tqdm(mini_list4):\n",
    "    driver = webdriver.Chrome(executable_path='chromedriver.exe')\n",
    "    time.sleep(np.random.uniform(3,6))\n",
    "    driver.get(url)\n",
    "    time.sleep(np.random.uniform(2,4.5))\n",
    "    newsoup = bs(driver.page_source)\n",
    "    time.sleep(np.random.uniform(2,4.5))\n",
    "    wineprice = find_price(newsoup)\n",
    "    winename = newsoup.find(attrs={\"data-at\":\"product-breadcrumb-productname-text\"}).text\n",
    "    winebrand = newsoup.find(text='BRAND').findNext().text\n",
    "    winecountrystate = find_countrystate(newsoup)\n",
    "    wineregion = find_region(newsoup)\n",
    "    wineappellation = find_appellation(newsoup)\n",
    "    winevarietal = find_varietal(newsoup)\n",
    "    winestyle = find_style(newsoup)\n",
    "    wineabv = find_abv(newsoup)\n",
    "    winetaste = find_taste(newsoup)\n",
    "    winebody = find_body(newsoup)\n",
    "    warating = newsoup.find(attrs={\"data-at\":\"product-badge-container\"}).text\n",
    "    customeravgrating = find_avgrating(newsoup)\n",
    "    customertotalratings = newsoup.find(class_=\"bv_numReviews_text\").text.strip(\"()\")\n",
    "    update_list_w_dict(newsoup)\n",
    "    driver.quit()\n",
    "    time.sleep(np.random.uniform(2,4))"
   ]
  },
  {
   "cell_type": "code",
   "execution_count": 19,
   "id": "51a8ec25-b15a-4932-8e48-b76d201f54e7",
   "metadata": {},
   "outputs": [
    {
     "data": {
      "text/plain": [
       "5"
      ]
     },
     "execution_count": 19,
     "metadata": {},
     "output_type": "execute_result"
    }
   ],
   "source": [
    "len(product_data)"
   ]
  },
  {
   "cell_type": "code",
   "execution_count": 20,
   "id": "08972ef8-a0af-486a-aa3c-b168d5f24a8b",
   "metadata": {},
   "outputs": [],
   "source": [
    "df = pd.DataFrame(product_data)\n",
    "df.to_csv('wine_data1.csv', mode='a', header=False)"
   ]
  },
  {
   "cell_type": "code",
   "execution_count": 18,
   "id": "81285295-76d6-4214-b143-816240f4ac7d",
   "metadata": {},
   "outputs": [
    {
     "name": "stderr",
     "output_type": "stream",
     "text": [
      "100%|██████████| 5/5 [02:39<00:00, 31.99s/it]\n"
     ]
    }
   ],
   "source": [
    "product_data=[]\n",
    "for url in tqdm(mini_list5):\n",
    "    driver = webdriver.Chrome(executable_path='chromedriver.exe')\n",
    "    time.sleep(np.random.uniform(2.3,6))\n",
    "    driver.get(url)\n",
    "    time.sleep(np.random.uniform(2,4.5))\n",
    "    newsoup = bs(driver.page_source)\n",
    "    time.sleep(np.random.uniform(2,4.5))\n",
    "    wineprice = find_price(newsoup)\n",
    "    winename = newsoup.find(attrs={\"data-at\":\"product-breadcrumb-productname-text\"}).text\n",
    "    winebrand = newsoup.find(text='BRAND').findNext().text\n",
    "    winecountrystate = find_countrystate(newsoup)\n",
    "    wineregion = find_region(newsoup)\n",
    "    wineappellation = find_appellation(newsoup)\n",
    "    winevarietal = find_varietal(newsoup)\n",
    "    winestyle = find_style(newsoup)\n",
    "    wineabv = find_abv(newsoup)\n",
    "    winetaste = find_taste(newsoup)\n",
    "    winebody = find_body(newsoup)\n",
    "    warating = newsoup.find(attrs={\"data-at\":\"product-badge-container\"}).text\n",
    "    customeravgrating = find_avgrating(newsoup)\n",
    "    customertotalratings = newsoup.find(class_=\"bv_numReviews_text\").text.strip(\"()\")\n",
    "    update_list_w_dict(newsoup)\n",
    "    driver.quit()\n",
    "    time.sleep(np.random.uniform(2.2,4))"
   ]
  },
  {
   "cell_type": "code",
   "execution_count": 19,
   "id": "e134b36e-4170-4b61-945f-5c5e96a7a2a5",
   "metadata": {},
   "outputs": [
    {
     "data": {
      "text/plain": [
       "5"
      ]
     },
     "execution_count": 19,
     "metadata": {},
     "output_type": "execute_result"
    }
   ],
   "source": [
    "len(product_data)"
   ]
  },
  {
   "cell_type": "code",
   "execution_count": 20,
   "id": "a9c579a6-3530-4467-ad18-196c72ba7f5a",
   "metadata": {},
   "outputs": [],
   "source": [
    "df = pd.DataFrame(product_data)\n",
    "df.to_csv('wine_data1.csv', mode='a', header=False)"
   ]
  },
  {
   "cell_type": "code",
   "execution_count": 20,
   "id": "e4b9c7fa-8431-4ae7-83a1-348869721947",
   "metadata": {},
   "outputs": [
    {
     "name": "stderr",
     "output_type": "stream",
     "text": [
      " 40%|████      | 2/5 [01:08<01:42, 34.29s/it]\n"
     ]
    },
    {
     "ename": "NoSuchWindowException",
     "evalue": "Message: no such window: target window already closed\nfrom unknown error: web view not found\n  (Session info: chrome=101.0.4951.67)\n",
     "output_type": "error",
     "traceback": [
      "\u001b[1;31m---------------------------------------------------------------------------\u001b[0m",
      "\u001b[1;31mNoSuchWindowException\u001b[0m                     Traceback (most recent call last)",
      "Input \u001b[1;32mIn [20]\u001b[0m, in \u001b[0;36m<cell line: 3>\u001b[1;34m()\u001b[0m\n\u001b[0;32m      6\u001b[0m driver\u001b[38;5;241m.\u001b[39mget(url)\n\u001b[0;32m      7\u001b[0m time\u001b[38;5;241m.\u001b[39msleep(np\u001b[38;5;241m.\u001b[39mrandom\u001b[38;5;241m.\u001b[39muniform(\u001b[38;5;241m2\u001b[39m,\u001b[38;5;241m4\u001b[39m))\n\u001b[1;32m----> 8\u001b[0m newsoup \u001b[38;5;241m=\u001b[39m bs(\u001b[43mdriver\u001b[49m\u001b[38;5;241;43m.\u001b[39;49m\u001b[43mpage_source\u001b[49m)\n\u001b[0;32m      9\u001b[0m time\u001b[38;5;241m.\u001b[39msleep(np\u001b[38;5;241m.\u001b[39mrandom\u001b[38;5;241m.\u001b[39muniform(\u001b[38;5;241m2\u001b[39m,\u001b[38;5;241m4\u001b[39m))\n\u001b[0;32m     10\u001b[0m wineprice \u001b[38;5;241m=\u001b[39m find_price(newsoup)\n",
      "File \u001b[1;32m~\\anaconda3\\lib\\site-packages\\selenium\\webdriver\\remote\\webdriver.py:679\u001b[0m, in \u001b[0;36mWebDriver.page_source\u001b[1;34m(self)\u001b[0m\n\u001b[0;32m    671\u001b[0m \u001b[38;5;129m@property\u001b[39m\n\u001b[0;32m    672\u001b[0m \u001b[38;5;28;01mdef\u001b[39;00m \u001b[38;5;21mpage_source\u001b[39m(\u001b[38;5;28mself\u001b[39m):\n\u001b[0;32m    673\u001b[0m     \u001b[38;5;124;03m\"\"\"\u001b[39;00m\n\u001b[0;32m    674\u001b[0m \u001b[38;5;124;03m    Gets the source of the current page.\u001b[39;00m\n\u001b[0;32m    675\u001b[0m \n\u001b[0;32m    676\u001b[0m \u001b[38;5;124;03m    :Usage:\u001b[39;00m\n\u001b[0;32m    677\u001b[0m \u001b[38;5;124;03m        driver.page_source\u001b[39;00m\n\u001b[0;32m    678\u001b[0m \u001b[38;5;124;03m    \"\"\"\u001b[39;00m\n\u001b[1;32m--> 679\u001b[0m     \u001b[38;5;28;01mreturn\u001b[39;00m \u001b[38;5;28;43mself\u001b[39;49m\u001b[38;5;241;43m.\u001b[39;49m\u001b[43mexecute\u001b[49m\u001b[43m(\u001b[49m\u001b[43mCommand\u001b[49m\u001b[38;5;241;43m.\u001b[39;49m\u001b[43mGET_PAGE_SOURCE\u001b[49m\u001b[43m)\u001b[49m[\u001b[38;5;124m'\u001b[39m\u001b[38;5;124mvalue\u001b[39m\u001b[38;5;124m'\u001b[39m]\n",
      "File \u001b[1;32m~\\anaconda3\\lib\\site-packages\\selenium\\webdriver\\remote\\webdriver.py:321\u001b[0m, in \u001b[0;36mWebDriver.execute\u001b[1;34m(self, driver_command, params)\u001b[0m\n\u001b[0;32m    319\u001b[0m response \u001b[38;5;241m=\u001b[39m \u001b[38;5;28mself\u001b[39m\u001b[38;5;241m.\u001b[39mcommand_executor\u001b[38;5;241m.\u001b[39mexecute(driver_command, params)\n\u001b[0;32m    320\u001b[0m \u001b[38;5;28;01mif\u001b[39;00m response:\n\u001b[1;32m--> 321\u001b[0m     \u001b[38;5;28;43mself\u001b[39;49m\u001b[38;5;241;43m.\u001b[39;49m\u001b[43merror_handler\u001b[49m\u001b[38;5;241;43m.\u001b[39;49m\u001b[43mcheck_response\u001b[49m\u001b[43m(\u001b[49m\u001b[43mresponse\u001b[49m\u001b[43m)\u001b[49m\n\u001b[0;32m    322\u001b[0m     response[\u001b[38;5;124m'\u001b[39m\u001b[38;5;124mvalue\u001b[39m\u001b[38;5;124m'\u001b[39m] \u001b[38;5;241m=\u001b[39m \u001b[38;5;28mself\u001b[39m\u001b[38;5;241m.\u001b[39m_unwrap_value(\n\u001b[0;32m    323\u001b[0m         response\u001b[38;5;241m.\u001b[39mget(\u001b[38;5;124m'\u001b[39m\u001b[38;5;124mvalue\u001b[39m\u001b[38;5;124m'\u001b[39m, \u001b[38;5;28;01mNone\u001b[39;00m))\n\u001b[0;32m    324\u001b[0m     \u001b[38;5;28;01mreturn\u001b[39;00m response\n",
      "File \u001b[1;32m~\\anaconda3\\lib\\site-packages\\selenium\\webdriver\\remote\\errorhandler.py:242\u001b[0m, in \u001b[0;36mErrorHandler.check_response\u001b[1;34m(self, response)\u001b[0m\n\u001b[0;32m    240\u001b[0m         alert_text \u001b[38;5;241m=\u001b[39m value[\u001b[38;5;124m'\u001b[39m\u001b[38;5;124malert\u001b[39m\u001b[38;5;124m'\u001b[39m]\u001b[38;5;241m.\u001b[39mget(\u001b[38;5;124m'\u001b[39m\u001b[38;5;124mtext\u001b[39m\u001b[38;5;124m'\u001b[39m)\n\u001b[0;32m    241\u001b[0m     \u001b[38;5;28;01mraise\u001b[39;00m exception_class(message, screen, stacktrace, alert_text)\n\u001b[1;32m--> 242\u001b[0m \u001b[38;5;28;01mraise\u001b[39;00m exception_class(message, screen, stacktrace)\n",
      "\u001b[1;31mNoSuchWindowException\u001b[0m: Message: no such window: target window already closed\nfrom unknown error: web view not found\n  (Session info: chrome=101.0.4951.67)\n"
     ]
    }
   ],
   "source": [
    "#SKIP ML6\n",
    "product_data=[]\n",
    "for url in tqdm(mini_list6):\n",
    "    driver = webdriver.Chrome(executable_path='chromedriver.exe')\n",
    "    time.sleep(np.random.uniform(2.5,5))\n",
    "    driver.get(url)\n",
    "    time.sleep(np.random.uniform(2,4))\n",
    "    newsoup = bs(driver.page_source)\n",
    "    time.sleep(np.random.uniform(2,4))\n",
    "    wineprice = find_price(newsoup)\n",
    "    winename = newsoup.find(attrs={\"data-at\":\"product-breadcrumb-productname-text\"}).text\n",
    "    winebrand = newsoup.find(text='BRAND').findNext().text\n",
    "    winecountrystate = find_countrystate(newsoup)\n",
    "    wineregion = find_region(newsoup)\n",
    "    wineappellation = find_appellation(newsoup)\n",
    "    winevarietal = find_varietal(newsoup)\n",
    "    winestyle = find_style(newsoup)\n",
    "    wineabv = find_abv(newsoup)\n",
    "    winetaste = find_taste(newsoup)\n",
    "    winebody = find_body(newsoup)\n",
    "    warating = newsoup.find(attrs={\"data-at\":\"product-badge-container\"}).text\n",
    "    customeravgrating = find_avgrating(newsoup)\n",
    "    customertotalratings = newsoup.find(class_=\"bv_numReviews_text\").text.strip(\"()\")\n",
    "    update_list_w_dict(newsoup)\n",
    "    driver.quit()\n",
    "    time.sleep(np.random.uniform(2,4))"
   ]
  },
  {
   "cell_type": "code",
   "execution_count": null,
   "id": "16fda95d-ee34-4c89-9950-87b2795458bc",
   "metadata": {},
   "outputs": [],
   "source": [
    "len(product_data)"
   ]
  },
  {
   "cell_type": "code",
   "execution_count": null,
   "id": "37bb871c-88c9-4889-965e-1a550ae9ba40",
   "metadata": {},
   "outputs": [],
   "source": [
    "df = pd.DataFrame(product_data)\n",
    "df.to_csv('wine_data1.csv', mode='a', header=False)"
   ]
  },
  {
   "cell_type": "code",
   "execution_count": 18,
   "id": "eddd9bb2-687a-4239-bab0-85fa1d15ca5a",
   "metadata": {},
   "outputs": [
    {
     "name": "stderr",
     "output_type": "stream",
     "text": [
      "100%|██████████| 5/5 [02:10<00:00, 26.13s/it]\n"
     ]
    }
   ],
   "source": [
    "product_data=[]\n",
    "for url in tqdm(mini_list7):\n",
    "    driver = webdriver.Chrome(executable_path='chromedriver.exe')\n",
    "    time.sleep(np.random.uniform(2,5))\n",
    "    driver.get(url)\n",
    "    time.sleep(np.random.uniform(2,5))\n",
    "    newsoup = bs(driver.page_source)\n",
    "    time.sleep(np.random.uniform(2,4.5))\n",
    "    wineprice = find_price(newsoup)\n",
    "    winename = newsoup.find(attrs={\"data-at\":\"product-breadcrumb-productname-text\"}).text\n",
    "    winebrand = newsoup.find(text='BRAND').findNext().text\n",
    "    winecountrystate = find_countrystate(newsoup)\n",
    "    wineregion = find_region(newsoup)\n",
    "    wineappellation = find_appellation(newsoup)\n",
    "    winevarietal = find_varietal(newsoup)\n",
    "    winestyle = find_style(newsoup)\n",
    "    wineabv = find_abv(newsoup)\n",
    "    winetaste = find_taste(newsoup)\n",
    "    winebody = find_body(newsoup)\n",
    "    warating = newsoup.find(attrs={\"data-at\":\"product-badge-container\"}).text\n",
    "    customeravgrating = find_avgrating(newsoup)\n",
    "    customertotalratings = newsoup.find(class_=\"bv_numReviews_text\").text.strip(\"()\")\n",
    "    update_list_w_dict(newsoup)\n",
    "    driver.quit()\n",
    "    time.sleep(np.random.uniform(2,4))"
   ]
  },
  {
   "cell_type": "code",
   "execution_count": 19,
   "id": "3fde6cce-9d95-49e9-8cc3-a11235a7eaa2",
   "metadata": {},
   "outputs": [
    {
     "data": {
      "text/plain": [
       "5"
      ]
     },
     "execution_count": 19,
     "metadata": {},
     "output_type": "execute_result"
    }
   ],
   "source": [
    "len(product_data)"
   ]
  },
  {
   "cell_type": "code",
   "execution_count": 20,
   "id": "a806c3c5-e5ee-42fb-a74f-b777c2f50481",
   "metadata": {},
   "outputs": [],
   "source": [
    "df = pd.DataFrame(product_data)\n",
    "df.to_csv('wine_data1.csv', mode='a', header=False)"
   ]
  },
  {
   "cell_type": "code",
   "execution_count": 22,
   "id": "374b74c4-88f3-42de-bdc1-997d0a55d8cd",
   "metadata": {},
   "outputs": [
    {
     "name": "stderr",
     "output_type": "stream",
     "text": [
      "100%|██████████| 5/5 [02:15<00:00, 27.06s/it]\n"
     ]
    }
   ],
   "source": [
    "product_data=[]\n",
    "for url in tqdm(mini_list8):\n",
    "    driver = webdriver.Chrome(executable_path='chromedriver.exe')\n",
    "    time.sleep(np.random.uniform(2.5,5))\n",
    "    driver.get(url)\n",
    "    time.sleep(np.random.uniform(2,4.5))\n",
    "    newsoup = bs(driver.page_source)\n",
    "    time.sleep(np.random.uniform(2,4.5))\n",
    "    wineprice = find_price(newsoup)\n",
    "    winename = newsoup.find(attrs={\"data-at\":\"product-breadcrumb-productname-text\"}).text\n",
    "    winebrand = newsoup.find(text='BRAND').findNext().text\n",
    "    winecountrystate = find_countrystate(newsoup)\n",
    "    wineregion = find_region(newsoup)\n",
    "    wineappellation = find_appellation(newsoup)\n",
    "    winevarietal = find_varietal(newsoup)\n",
    "    winestyle = find_style(newsoup)\n",
    "    wineabv = find_abv(newsoup)\n",
    "    winetaste = find_taste(newsoup)\n",
    "    winebody = find_body(newsoup)\n",
    "    warating = newsoup.find(attrs={\"data-at\":\"product-badge-container\"}).text\n",
    "    customeravgrating = find_avgrating(newsoup)\n",
    "    customertotalratings = newsoup.find(class_=\"bv_numReviews_text\").text.strip(\"()\")\n",
    "    update_list_w_dict(newsoup)\n",
    "    driver.quit()\n",
    "    time.sleep(np.random.uniform(2,4.2))"
   ]
  },
  {
   "cell_type": "code",
   "execution_count": 23,
   "id": "b867b8ec-09c7-4d32-b446-ee72b2563e37",
   "metadata": {},
   "outputs": [
    {
     "data": {
      "text/plain": [
       "5"
      ]
     },
     "execution_count": 23,
     "metadata": {},
     "output_type": "execute_result"
    }
   ],
   "source": [
    "len(product_data)"
   ]
  },
  {
   "cell_type": "code",
   "execution_count": 24,
   "id": "be4fd720-a6b5-450d-9d0a-f90196edb76b",
   "metadata": {},
   "outputs": [],
   "source": [
    "df = pd.DataFrame(product_data)\n",
    "df.to_csv('wine_data1.csv', mode='a', header=False)"
   ]
  },
  {
   "cell_type": "code",
   "execution_count": 18,
   "id": "7b17c81b-874f-4698-b4fa-94447c07b48f",
   "metadata": {},
   "outputs": [
    {
     "name": "stderr",
     "output_type": "stream",
     "text": [
      "100%|██████████| 5/5 [02:16<00:00, 27.30s/it]\n"
     ]
    }
   ],
   "source": [
    "product_data=[]\n",
    "for url in tqdm(mini_list9):\n",
    "    driver = webdriver.Chrome(executable_path='chromedriver.exe')\n",
    "    time.sleep(np.random.uniform(2,5.5))\n",
    "    driver.get(url)\n",
    "    time.sleep(np.random.uniform(2,4.5))\n",
    "    newsoup = bs(driver.page_source)\n",
    "    time.sleep(np.random.uniform(2,4.5))\n",
    "    wineprice = find_price(newsoup)\n",
    "    winename = newsoup.find(attrs={\"data-at\":\"product-breadcrumb-productname-text\"}).text\n",
    "    winebrand = newsoup.find(text='BRAND').findNext().text\n",
    "    winecountrystate = find_countrystate(newsoup)\n",
    "    wineregion = find_region(newsoup)\n",
    "    wineappellation = find_appellation(newsoup)\n",
    "    winevarietal = find_varietal(newsoup)\n",
    "    winestyle = find_style(newsoup)\n",
    "    wineabv = find_abv(newsoup)\n",
    "    winetaste = find_taste(newsoup)\n",
    "    winebody = find_body(newsoup)\n",
    "    warating = newsoup.find(attrs={\"data-at\":\"product-badge-container\"}).text\n",
    "    customeravgrating = find_avgrating(newsoup)\n",
    "    customertotalratings = newsoup.find(class_=\"bv_numReviews_text\").text.strip(\"()\")\n",
    "    update_list_w_dict(newsoup)\n",
    "    driver.quit()\n",
    "    time.sleep(np.random.uniform(2,4))"
   ]
  },
  {
   "cell_type": "code",
   "execution_count": 19,
   "id": "0b8ab5e6-5f67-4f6c-8068-c2727d6d73bc",
   "metadata": {},
   "outputs": [
    {
     "data": {
      "text/plain": [
       "5"
      ]
     },
     "execution_count": 19,
     "metadata": {},
     "output_type": "execute_result"
    }
   ],
   "source": [
    "len(product_data)"
   ]
  },
  {
   "cell_type": "code",
   "execution_count": 20,
   "id": "d236cb81-cdcc-407d-8d20-a7e53586f4d5",
   "metadata": {},
   "outputs": [],
   "source": [
    "df = pd.DataFrame(product_data)\n",
    "df.to_csv('wine_data1.csv', mode='a', header=False)"
   ]
  },
  {
   "cell_type": "code",
   "execution_count": 20,
   "id": "a9893bda-9fd1-4648-9070-ce2d773e1881",
   "metadata": {},
   "outputs": [
    {
     "name": "stderr",
     "output_type": "stream",
     "text": [
      "  0%|          | 0/5 [00:23<?, ?it/s]\n"
     ]
    },
    {
     "ename": "WebDriverException",
     "evalue": "Message: chrome not reachable\n  (Session info: chrome=101.0.4951.67)\n",
     "output_type": "error",
     "traceback": [
      "\u001b[1;31m---------------------------------------------------------------------------\u001b[0m",
      "\u001b[1;31mWebDriverException\u001b[0m                        Traceback (most recent call last)",
      "Input \u001b[1;32mIn [20]\u001b[0m, in \u001b[0;36m<cell line: 2>\u001b[1;34m()\u001b[0m\n\u001b[0;32m      5\u001b[0m driver\u001b[38;5;241m.\u001b[39mget(url)\n\u001b[0;32m      6\u001b[0m time\u001b[38;5;241m.\u001b[39msleep(np\u001b[38;5;241m.\u001b[39mrandom\u001b[38;5;241m.\u001b[39muniform(\u001b[38;5;241m2.5\u001b[39m,\u001b[38;5;241m5\u001b[39m))\n\u001b[1;32m----> 7\u001b[0m newsoup \u001b[38;5;241m=\u001b[39m bs(\u001b[43mdriver\u001b[49m\u001b[38;5;241;43m.\u001b[39;49m\u001b[43mpage_source\u001b[49m)\n\u001b[0;32m      8\u001b[0m time\u001b[38;5;241m.\u001b[39msleep(np\u001b[38;5;241m.\u001b[39mrandom\u001b[38;5;241m.\u001b[39muniform(\u001b[38;5;241m2.5\u001b[39m,\u001b[38;5;241m5\u001b[39m))\n\u001b[0;32m      9\u001b[0m wineprice \u001b[38;5;241m=\u001b[39m find_price(newsoup)\n",
      "File \u001b[1;32m~\\anaconda3\\lib\\site-packages\\selenium\\webdriver\\remote\\webdriver.py:679\u001b[0m, in \u001b[0;36mWebDriver.page_source\u001b[1;34m(self)\u001b[0m\n\u001b[0;32m    671\u001b[0m \u001b[38;5;129m@property\u001b[39m\n\u001b[0;32m    672\u001b[0m \u001b[38;5;28;01mdef\u001b[39;00m \u001b[38;5;21mpage_source\u001b[39m(\u001b[38;5;28mself\u001b[39m):\n\u001b[0;32m    673\u001b[0m     \u001b[38;5;124;03m\"\"\"\u001b[39;00m\n\u001b[0;32m    674\u001b[0m \u001b[38;5;124;03m    Gets the source of the current page.\u001b[39;00m\n\u001b[0;32m    675\u001b[0m \n\u001b[0;32m    676\u001b[0m \u001b[38;5;124;03m    :Usage:\u001b[39;00m\n\u001b[0;32m    677\u001b[0m \u001b[38;5;124;03m        driver.page_source\u001b[39;00m\n\u001b[0;32m    678\u001b[0m \u001b[38;5;124;03m    \"\"\"\u001b[39;00m\n\u001b[1;32m--> 679\u001b[0m     \u001b[38;5;28;01mreturn\u001b[39;00m \u001b[38;5;28;43mself\u001b[39;49m\u001b[38;5;241;43m.\u001b[39;49m\u001b[43mexecute\u001b[49m\u001b[43m(\u001b[49m\u001b[43mCommand\u001b[49m\u001b[38;5;241;43m.\u001b[39;49m\u001b[43mGET_PAGE_SOURCE\u001b[49m\u001b[43m)\u001b[49m[\u001b[38;5;124m'\u001b[39m\u001b[38;5;124mvalue\u001b[39m\u001b[38;5;124m'\u001b[39m]\n",
      "File \u001b[1;32m~\\anaconda3\\lib\\site-packages\\selenium\\webdriver\\remote\\webdriver.py:321\u001b[0m, in \u001b[0;36mWebDriver.execute\u001b[1;34m(self, driver_command, params)\u001b[0m\n\u001b[0;32m    319\u001b[0m response \u001b[38;5;241m=\u001b[39m \u001b[38;5;28mself\u001b[39m\u001b[38;5;241m.\u001b[39mcommand_executor\u001b[38;5;241m.\u001b[39mexecute(driver_command, params)\n\u001b[0;32m    320\u001b[0m \u001b[38;5;28;01mif\u001b[39;00m response:\n\u001b[1;32m--> 321\u001b[0m     \u001b[38;5;28;43mself\u001b[39;49m\u001b[38;5;241;43m.\u001b[39;49m\u001b[43merror_handler\u001b[49m\u001b[38;5;241;43m.\u001b[39;49m\u001b[43mcheck_response\u001b[49m\u001b[43m(\u001b[49m\u001b[43mresponse\u001b[49m\u001b[43m)\u001b[49m\n\u001b[0;32m    322\u001b[0m     response[\u001b[38;5;124m'\u001b[39m\u001b[38;5;124mvalue\u001b[39m\u001b[38;5;124m'\u001b[39m] \u001b[38;5;241m=\u001b[39m \u001b[38;5;28mself\u001b[39m\u001b[38;5;241m.\u001b[39m_unwrap_value(\n\u001b[0;32m    323\u001b[0m         response\u001b[38;5;241m.\u001b[39mget(\u001b[38;5;124m'\u001b[39m\u001b[38;5;124mvalue\u001b[39m\u001b[38;5;124m'\u001b[39m, \u001b[38;5;28;01mNone\u001b[39;00m))\n\u001b[0;32m    324\u001b[0m     \u001b[38;5;28;01mreturn\u001b[39;00m response\n",
      "File \u001b[1;32m~\\anaconda3\\lib\\site-packages\\selenium\\webdriver\\remote\\errorhandler.py:242\u001b[0m, in \u001b[0;36mErrorHandler.check_response\u001b[1;34m(self, response)\u001b[0m\n\u001b[0;32m    240\u001b[0m         alert_text \u001b[38;5;241m=\u001b[39m value[\u001b[38;5;124m'\u001b[39m\u001b[38;5;124malert\u001b[39m\u001b[38;5;124m'\u001b[39m]\u001b[38;5;241m.\u001b[39mget(\u001b[38;5;124m'\u001b[39m\u001b[38;5;124mtext\u001b[39m\u001b[38;5;124m'\u001b[39m)\n\u001b[0;32m    241\u001b[0m     \u001b[38;5;28;01mraise\u001b[39;00m exception_class(message, screen, stacktrace, alert_text)\n\u001b[1;32m--> 242\u001b[0m \u001b[38;5;28;01mraise\u001b[39;00m exception_class(message, screen, stacktrace)\n",
      "\u001b[1;31mWebDriverException\u001b[0m: Message: chrome not reachable\n  (Session info: chrome=101.0.4951.67)\n"
     ]
    }
   ],
   "source": [
    "product_data=[]\n",
    "for url in tqdm(mini_list10):\n",
    "    driver = webdriver.Chrome(executable_path='chromedriver.exe')\n",
    "    time.sleep(np.random.uniform(2.5,5))\n",
    "    driver.get(url)\n",
    "    time.sleep(np.random.uniform(2.5,5))\n",
    "    newsoup = bs(driver.page_source)\n",
    "    time.sleep(np.random.uniform(2.5,5))\n",
    "    wineprice = find_price(newsoup)\n",
    "    winename = newsoup.find(attrs={\"data-at\":\"product-breadcrumb-productname-text\"}).text\n",
    "    winebrand = newsoup.find(text='BRAND').findNext().text\n",
    "    winecountrystate = find_countrystate(newsoup)\n",
    "    wineregion = find_region(newsoup)\n",
    "    wineappellation = find_appellation(newsoup)\n",
    "    winevarietal = find_varietal(newsoup)\n",
    "    winestyle = find_style(newsoup)\n",
    "    wineabv = find_abv(newsoup)\n",
    "    winetaste = find_taste(newsoup)\n",
    "    winebody = find_body(newsoup)\n",
    "    warating = newsoup.find(attrs={\"data-at\":\"product-badge-container\"}).text\n",
    "    customeravgrating = find_avgrating(newsoup)\n",
    "    customertotalratings = newsoup.find(class_=\"bv_numReviews_text\").text.strip(\"()\")\n",
    "    update_list_w_dict(newsoup)\n",
    "    driver.quit()\n",
    "    time.sleep(np.random.uniform(2.5,5))"
   ]
  },
  {
   "cell_type": "code",
   "execution_count": null,
   "id": "de93cf2e-a760-4ace-a04b-59585ab5ba31",
   "metadata": {},
   "outputs": [],
   "source": [
    "len(product_data)"
   ]
  },
  {
   "cell_type": "code",
   "execution_count": null,
   "id": "322bf1b9-22dd-4b05-81b3-a64afa2f84de",
   "metadata": {},
   "outputs": [],
   "source": [
    "df = pd.DataFrame(product_data)\n",
    "df.to_csv('wine_data1.csv', mode='a', header=False)"
   ]
  },
  {
   "cell_type": "code",
   "execution_count": 22,
   "id": "ff30e6f8",
   "metadata": {},
   "outputs": [
    {
     "ename": "IndexError",
     "evalue": "list index out of range",
     "output_type": "error",
     "traceback": [
      "\u001b[1;31m---------------------------------------------------------------------------\u001b[0m",
      "\u001b[1;31mIndexError\u001b[0m                                Traceback (most recent call last)",
      "Input \u001b[1;32mIn [22]\u001b[0m, in \u001b[0;36m<cell line: 1>\u001b[1;34m()\u001b[0m\n\u001b[1;32m----> 1\u001b[0m \u001b[43mmini_list10\u001b[49m\u001b[43m[\u001b[49m\u001b[38;5;241;43m5\u001b[39;49m\u001b[43m]\u001b[49m\n",
      "\u001b[1;31mIndexError\u001b[0m: list index out of range"
     ]
    }
   ],
   "source": [
    "mini_list10[5]"
   ]
  },
  {
   "cell_type": "code",
   "execution_count": 23,
   "id": "fc47a38a",
   "metadata": {},
   "outputs": [],
   "source": [
    "product_data=[]\n",
    "url = mini_list10[0]\n",
    "driver = webdriver.Chrome(executable_path='chromedriver.exe')\n",
    "time.sleep(np.random.uniform(2.5,5))\n",
    "driver.get(url)\n",
    "time.sleep(np.random.uniform(2.5,5))\n",
    "newsoup = bs(driver.page_source)\n",
    "time.sleep(np.random.uniform(2.5,5))\n",
    "wineprice = find_price(newsoup)\n",
    "winename = newsoup.find(attrs={\"data-at\":\"product-breadcrumb-productname-text\"}).text\n",
    "winebrand = newsoup.find(text='BRAND').findNext().text\n",
    "winecountrystate = find_countrystate(newsoup)\n",
    "wineregion = find_region(newsoup)\n",
    "wineappellation = find_appellation(newsoup)\n",
    "winevarietal = find_varietal(newsoup)\n",
    "winestyle = find_style(newsoup)\n",
    "wineabv = find_abv(newsoup)\n",
    "winetaste = find_taste(newsoup)\n",
    "winebody = find_body(newsoup)\n",
    "warating = newsoup.find(attrs={\"data-at\":\"product-badge-container\"}).text\n",
    "customeravgrating = find_avgrating(newsoup)\n",
    "customertotalratings = newsoup.find(class_=\"bv_numReviews_text\").text.strip(\"()\")\n",
    "update_list_w_dict(newsoup)\n",
    "driver.quit()\n",
    "time.sleep(np.random.uniform(2.5,5))"
   ]
  },
  {
   "cell_type": "code",
   "execution_count": 24,
   "id": "8a2c7aa2",
   "metadata": {},
   "outputs": [],
   "source": [
    "url = mini_list10[1]\n",
    "driver = webdriver.Chrome(executable_path='chromedriver.exe')\n",
    "time.sleep(np.random.uniform(2.5,5))\n",
    "driver.get(url)\n",
    "time.sleep(np.random.uniform(2.5,5))\n",
    "newsoup = bs(driver.page_source)\n",
    "time.sleep(np.random.uniform(2.5,5))\n",
    "wineprice = find_price(newsoup)\n",
    "winename = newsoup.find(attrs={\"data-at\":\"product-breadcrumb-productname-text\"}).text\n",
    "winebrand = newsoup.find(text='BRAND').findNext().text\n",
    "winecountrystate = find_countrystate(newsoup)\n",
    "wineregion = find_region(newsoup)\n",
    "wineappellation = find_appellation(newsoup)\n",
    "winevarietal = find_varietal(newsoup)\n",
    "winestyle = find_style(newsoup)\n",
    "wineabv = find_abv(newsoup)\n",
    "winetaste = find_taste(newsoup)\n",
    "winebody = find_body(newsoup)\n",
    "warating = newsoup.find(attrs={\"data-at\":\"product-badge-container\"}).text\n",
    "customeravgrating = find_avgrating(newsoup)\n",
    "customertotalratings = newsoup.find(class_=\"bv_numReviews_text\").text.strip(\"()\")\n",
    "update_list_w_dict(newsoup)\n",
    "driver.quit()\n",
    "time.sleep(np.random.uniform(2.5,5))"
   ]
  },
  {
   "cell_type": "code",
   "execution_count": 25,
   "id": "a9b56b76",
   "metadata": {},
   "outputs": [],
   "source": [
    "url = mini_list10[2]\n",
    "driver = webdriver.Chrome(executable_path='chromedriver.exe')\n",
    "time.sleep(np.random.uniform(2.5,5))\n",
    "driver.get(url)\n",
    "time.sleep(np.random.uniform(2.5,5))\n",
    "newsoup = bs(driver.page_source)\n",
    "time.sleep(np.random.uniform(2.5,5))\n",
    "wineprice = find_price(newsoup)\n",
    "winename = newsoup.find(attrs={\"data-at\":\"product-breadcrumb-productname-text\"}).text\n",
    "winebrand = newsoup.find(text='BRAND').findNext().text\n",
    "winecountrystate = find_countrystate(newsoup)\n",
    "wineregion = find_region(newsoup)\n",
    "wineappellation = find_appellation(newsoup)\n",
    "winevarietal = find_varietal(newsoup)\n",
    "winestyle = find_style(newsoup)\n",
    "wineabv = find_abv(newsoup)\n",
    "winetaste = find_taste(newsoup)\n",
    "winebody = find_body(newsoup)\n",
    "warating = newsoup.find(attrs={\"data-at\":\"product-badge-container\"}).text\n",
    "customeravgrating = find_avgrating(newsoup)\n",
    "customertotalratings = newsoup.find(class_=\"bv_numReviews_text\").text.strip(\"()\")\n",
    "update_list_w_dict(newsoup)\n",
    "driver.quit()\n",
    "time.sleep(np.random.uniform(2.5,5))"
   ]
  },
  {
   "cell_type": "code",
   "execution_count": 26,
   "id": "6f3d98e8",
   "metadata": {},
   "outputs": [],
   "source": [
    "url = mini_list10[3]\n",
    "driver = webdriver.Chrome(executable_path='chromedriver.exe')\n",
    "time.sleep(np.random.uniform(2.5,5))\n",
    "driver.get(url)\n",
    "time.sleep(np.random.uniform(2.5,5))\n",
    "newsoup = bs(driver.page_source)\n",
    "time.sleep(np.random.uniform(2.5,5))\n",
    "wineprice = find_price(newsoup)\n",
    "winename = newsoup.find(attrs={\"data-at\":\"product-breadcrumb-productname-text\"}).text\n",
    "winebrand = newsoup.find(text='BRAND').findNext().text\n",
    "winecountrystate = find_countrystate(newsoup)\n",
    "wineregion = find_region(newsoup)\n",
    "wineappellation = find_appellation(newsoup)\n",
    "winevarietal = find_varietal(newsoup)\n",
    "winestyle = find_style(newsoup)\n",
    "wineabv = find_abv(newsoup)\n",
    "winetaste = find_taste(newsoup)\n",
    "winebody = find_body(newsoup)\n",
    "warating = newsoup.find(attrs={\"data-at\":\"product-badge-container\"}).text\n",
    "customeravgrating = find_avgrating(newsoup)\n",
    "customertotalratings = newsoup.find(class_=\"bv_numReviews_text\").text.strip(\"()\")\n",
    "update_list_w_dict(newsoup)\n",
    "driver.quit()\n",
    "time.sleep(np.random.uniform(2,4))"
   ]
  },
  {
   "cell_type": "code",
   "execution_count": 27,
   "id": "6c89d621",
   "metadata": {},
   "outputs": [],
   "source": [
    "url = mini_list10[4]\n",
    "driver = webdriver.Chrome(executable_path='chromedriver.exe')\n",
    "time.sleep(np.random.uniform(2.5,5))\n",
    "driver.get(url)\n",
    "time.sleep(np.random.uniform(2.5,5))\n",
    "newsoup = bs(driver.page_source)\n",
    "time.sleep(np.random.uniform(2.5,5))\n",
    "wineprice = find_price(newsoup)\n",
    "winename = newsoup.find(attrs={\"data-at\":\"product-breadcrumb-productname-text\"}).text\n",
    "winebrand = newsoup.find(text='BRAND').findNext().text\n",
    "winecountrystate = find_countrystate(newsoup)\n",
    "wineregion = find_region(newsoup)\n",
    "wineappellation = find_appellation(newsoup)\n",
    "winevarietal = find_varietal(newsoup)\n",
    "winestyle = find_style(newsoup)\n",
    "wineabv = find_abv(newsoup)\n",
    "winetaste = find_taste(newsoup)\n",
    "winebody = find_body(newsoup)\n",
    "warating = newsoup.find(attrs={\"data-at\":\"product-badge-container\"}).text\n",
    "customeravgrating = find_avgrating(newsoup)\n",
    "customertotalratings = newsoup.find(class_=\"bv_numReviews_text\").text.strip(\"()\")\n",
    "update_list_w_dict(newsoup)\n",
    "driver.quit()\n",
    "time.sleep(np.random.uniform(2.5,5))"
   ]
  },
  {
   "cell_type": "code",
   "execution_count": 28,
   "id": "0bf43eaf",
   "metadata": {},
   "outputs": [
    {
     "data": {
      "text/plain": [
       "5"
      ]
     },
     "execution_count": 28,
     "metadata": {},
     "output_type": "execute_result"
    }
   ],
   "source": [
    "len(product_data)"
   ]
  },
  {
   "cell_type": "code",
   "execution_count": 29,
   "id": "edf9ef16",
   "metadata": {},
   "outputs": [],
   "source": [
    "df = pd.DataFrame(product_data)\n",
    "df.to_csv('wine_data1.csv', mode='a', header=False)"
   ]
  },
  {
   "cell_type": "code",
   "execution_count": null,
   "id": "16b2ee5b",
   "metadata": {},
   "outputs": [],
   "source": []
  },
  {
   "cell_type": "code",
   "execution_count": 15,
   "id": "58fe05bc-f9d1-4081-8e77-33c3d16d784a",
   "metadata": {},
   "outputs": [
    {
     "name": "stderr",
     "output_type": "stream",
     "text": [
      "100%|██████████| 5/5 [02:06<00:00, 25.38s/it]\n"
     ]
    }
   ],
   "source": [
    "product_data=[]\n",
    "for url in tqdm(mini_list11):\n",
    "    driver = webdriver.Chrome(executable_path='chromedriver.exe')\n",
    "    time.sleep(np.random.uniform(2,5))\n",
    "    driver.get(url)\n",
    "    time.sleep(np.random.uniform(2,4.5))\n",
    "    newsoup = bs(driver.page_source)\n",
    "    time.sleep(np.random.uniform(2,4.5))\n",
    "    wineprice = find_price(newsoup)\n",
    "    winename = newsoup.find(attrs={\"data-at\":\"product-breadcrumb-productname-text\"}).text\n",
    "    winebrand = newsoup.find(text='BRAND').findNext().text\n",
    "    winecountrystate = find_countrystate(newsoup)\n",
    "    wineregion = find_region(newsoup)\n",
    "    wineappellation = find_appellation(newsoup)\n",
    "    winevarietal = find_varietal(newsoup)\n",
    "    winestyle = find_style(newsoup)\n",
    "    wineabv = find_abv(newsoup)\n",
    "    winetaste = find_taste(newsoup)\n",
    "    winebody = find_body(newsoup)\n",
    "    warating = newsoup.find(attrs={\"data-at\":\"product-badge-container\"}).text\n",
    "    customeravgrating = find_avgrating(newsoup)\n",
    "    customertotalratings = newsoup.find(class_=\"bv_numReviews_text\").text.strip(\"()\")\n",
    "    update_list_w_dict(newsoup)\n",
    "    driver.quit()\n",
    "    time.sleep(np.random.uniform(2,4))"
   ]
  },
  {
   "cell_type": "code",
   "execution_count": 16,
   "id": "e206bdf2-a5f6-4181-84c4-d66306d1c983",
   "metadata": {},
   "outputs": [
    {
     "data": {
      "text/plain": [
       "5"
      ]
     },
     "execution_count": 16,
     "metadata": {},
     "output_type": "execute_result"
    }
   ],
   "source": [
    "len(product_data)"
   ]
  },
  {
   "cell_type": "code",
   "execution_count": 17,
   "id": "2e51ec61-ab3f-4958-8ff2-aed7444ff897",
   "metadata": {},
   "outputs": [],
   "source": [
    "df = pd.DataFrame(product_data)\n",
    "df.to_csv('wine_data1.csv', mode='a', header=False)"
   ]
  },
  {
   "cell_type": "code",
   "execution_count": 18,
   "id": "bbc2a2d1-2815-418b-9ea4-e0b6e13cd45f",
   "metadata": {},
   "outputs": [
    {
     "name": "stderr",
     "output_type": "stream",
     "text": [
      " 40%|████      | 2/5 [01:18<01:57, 39.30s/it]\n"
     ]
    },
    {
     "ename": "WebDriverException",
     "evalue": "Message: chrome not reachable\n  (Session info: chrome=101.0.4951.67)\n",
     "output_type": "error",
     "traceback": [
      "\u001b[1;31m---------------------------------------------------------------------------\u001b[0m",
      "\u001b[1;31mWebDriverException\u001b[0m                        Traceback (most recent call last)",
      "Input \u001b[1;32mIn [18]\u001b[0m, in \u001b[0;36m<cell line: 2>\u001b[1;34m()\u001b[0m\n\u001b[0;32m      5\u001b[0m driver\u001b[38;5;241m.\u001b[39mget(url)\n\u001b[0;32m      6\u001b[0m time\u001b[38;5;241m.\u001b[39msleep(np\u001b[38;5;241m.\u001b[39mrandom\u001b[38;5;241m.\u001b[39muniform(\u001b[38;5;241m2\u001b[39m,\u001b[38;5;241m4.5\u001b[39m))\n\u001b[1;32m----> 7\u001b[0m newsoup \u001b[38;5;241m=\u001b[39m bs(\u001b[43mdriver\u001b[49m\u001b[38;5;241;43m.\u001b[39;49m\u001b[43mpage_source\u001b[49m)\n\u001b[0;32m      8\u001b[0m time\u001b[38;5;241m.\u001b[39msleep(np\u001b[38;5;241m.\u001b[39mrandom\u001b[38;5;241m.\u001b[39muniform(\u001b[38;5;241m2\u001b[39m,\u001b[38;5;241m4.5\u001b[39m))\n\u001b[0;32m      9\u001b[0m wineprice \u001b[38;5;241m=\u001b[39m find_price(newsoup)\n",
      "File \u001b[1;32m~\\anaconda3\\lib\\site-packages\\selenium\\webdriver\\remote\\webdriver.py:679\u001b[0m, in \u001b[0;36mWebDriver.page_source\u001b[1;34m(self)\u001b[0m\n\u001b[0;32m    671\u001b[0m \u001b[38;5;129m@property\u001b[39m\n\u001b[0;32m    672\u001b[0m \u001b[38;5;28;01mdef\u001b[39;00m \u001b[38;5;21mpage_source\u001b[39m(\u001b[38;5;28mself\u001b[39m):\n\u001b[0;32m    673\u001b[0m     \u001b[38;5;124;03m\"\"\"\u001b[39;00m\n\u001b[0;32m    674\u001b[0m \u001b[38;5;124;03m    Gets the source of the current page.\u001b[39;00m\n\u001b[0;32m    675\u001b[0m \n\u001b[0;32m    676\u001b[0m \u001b[38;5;124;03m    :Usage:\u001b[39;00m\n\u001b[0;32m    677\u001b[0m \u001b[38;5;124;03m        driver.page_source\u001b[39;00m\n\u001b[0;32m    678\u001b[0m \u001b[38;5;124;03m    \"\"\"\u001b[39;00m\n\u001b[1;32m--> 679\u001b[0m     \u001b[38;5;28;01mreturn\u001b[39;00m \u001b[38;5;28;43mself\u001b[39;49m\u001b[38;5;241;43m.\u001b[39;49m\u001b[43mexecute\u001b[49m\u001b[43m(\u001b[49m\u001b[43mCommand\u001b[49m\u001b[38;5;241;43m.\u001b[39;49m\u001b[43mGET_PAGE_SOURCE\u001b[49m\u001b[43m)\u001b[49m[\u001b[38;5;124m'\u001b[39m\u001b[38;5;124mvalue\u001b[39m\u001b[38;5;124m'\u001b[39m]\n",
      "File \u001b[1;32m~\\anaconda3\\lib\\site-packages\\selenium\\webdriver\\remote\\webdriver.py:321\u001b[0m, in \u001b[0;36mWebDriver.execute\u001b[1;34m(self, driver_command, params)\u001b[0m\n\u001b[0;32m    319\u001b[0m response \u001b[38;5;241m=\u001b[39m \u001b[38;5;28mself\u001b[39m\u001b[38;5;241m.\u001b[39mcommand_executor\u001b[38;5;241m.\u001b[39mexecute(driver_command, params)\n\u001b[0;32m    320\u001b[0m \u001b[38;5;28;01mif\u001b[39;00m response:\n\u001b[1;32m--> 321\u001b[0m     \u001b[38;5;28;43mself\u001b[39;49m\u001b[38;5;241;43m.\u001b[39;49m\u001b[43merror_handler\u001b[49m\u001b[38;5;241;43m.\u001b[39;49m\u001b[43mcheck_response\u001b[49m\u001b[43m(\u001b[49m\u001b[43mresponse\u001b[49m\u001b[43m)\u001b[49m\n\u001b[0;32m    322\u001b[0m     response[\u001b[38;5;124m'\u001b[39m\u001b[38;5;124mvalue\u001b[39m\u001b[38;5;124m'\u001b[39m] \u001b[38;5;241m=\u001b[39m \u001b[38;5;28mself\u001b[39m\u001b[38;5;241m.\u001b[39m_unwrap_value(\n\u001b[0;32m    323\u001b[0m         response\u001b[38;5;241m.\u001b[39mget(\u001b[38;5;124m'\u001b[39m\u001b[38;5;124mvalue\u001b[39m\u001b[38;5;124m'\u001b[39m, \u001b[38;5;28;01mNone\u001b[39;00m))\n\u001b[0;32m    324\u001b[0m     \u001b[38;5;28;01mreturn\u001b[39;00m response\n",
      "File \u001b[1;32m~\\anaconda3\\lib\\site-packages\\selenium\\webdriver\\remote\\errorhandler.py:242\u001b[0m, in \u001b[0;36mErrorHandler.check_response\u001b[1;34m(self, response)\u001b[0m\n\u001b[0;32m    240\u001b[0m         alert_text \u001b[38;5;241m=\u001b[39m value[\u001b[38;5;124m'\u001b[39m\u001b[38;5;124malert\u001b[39m\u001b[38;5;124m'\u001b[39m]\u001b[38;5;241m.\u001b[39mget(\u001b[38;5;124m'\u001b[39m\u001b[38;5;124mtext\u001b[39m\u001b[38;5;124m'\u001b[39m)\n\u001b[0;32m    241\u001b[0m     \u001b[38;5;28;01mraise\u001b[39;00m exception_class(message, screen, stacktrace, alert_text)\n\u001b[1;32m--> 242\u001b[0m \u001b[38;5;28;01mraise\u001b[39;00m exception_class(message, screen, stacktrace)\n",
      "\u001b[1;31mWebDriverException\u001b[0m: Message: chrome not reachable\n  (Session info: chrome=101.0.4951.67)\n"
     ]
    }
   ],
   "source": [
    "product_data=[]\n",
    "for url in tqdm(mini_list12):\n",
    "    driver = webdriver.Chrome(executable_path='chromedriver.exe')\n",
    "    time.sleep(np.random.uniform(2.5,5))\n",
    "    driver.get(url)\n",
    "    time.sleep(np.random.uniform(2,4.5))\n",
    "    newsoup = bs(driver.page_source)\n",
    "    time.sleep(np.random.uniform(2,4.5))\n",
    "    wineprice = find_price(newsoup)\n",
    "    winename = newsoup.find(attrs={\"data-at\":\"product-breadcrumb-productname-text\"}).text\n",
    "    winebrand = newsoup.find(text='BRAND').findNext().text\n",
    "    winecountrystate = find_countrystate(newsoup)\n",
    "    wineregion = find_region(newsoup)\n",
    "    wineappellation = find_appellation(newsoup)\n",
    "    winevarietal = find_varietal(newsoup)\n",
    "    winestyle = find_style(newsoup)\n",
    "    wineabv = find_abv(newsoup)\n",
    "    winetaste = find_taste(newsoup)\n",
    "    winebody = find_body(newsoup)\n",
    "    warating = newsoup.find(attrs={\"data-at\":\"product-badge-container\"}).text\n",
    "    customeravgrating = find_avgrating(newsoup)\n",
    "    customertotalratings = newsoup.find(class_=\"bv_numReviews_text\").text.strip(\"()\")\n",
    "    update_list_w_dict(newsoup)\n",
    "    driver.quit()\n",
    "    time.sleep(np.random.uniform(2,4))"
   ]
  },
  {
   "cell_type": "code",
   "execution_count": 19,
   "id": "636a951f-9c34-4743-860b-521c9b4eaded",
   "metadata": {},
   "outputs": [
    {
     "data": {
      "text/plain": [
       "2"
      ]
     },
     "execution_count": 19,
     "metadata": {},
     "output_type": "execute_result"
    }
   ],
   "source": [
    "len(product_data)"
   ]
  },
  {
   "cell_type": "code",
   "execution_count": 20,
   "id": "46b6a894",
   "metadata": {},
   "outputs": [],
   "source": [
    "url =mini_list12[2]\n",
    "driver = webdriver.Chrome(executable_path='chromedriver.exe')\n",
    "time.sleep(np.random.uniform(2.5,5))\n",
    "driver.get(url)\n",
    "time.sleep(np.random.uniform(2,4.5))\n",
    "newsoup = bs(driver.page_source)\n",
    "time.sleep(np.random.uniform(2,4.5))\n",
    "wineprice = find_price(newsoup)\n",
    "winename = newsoup.find(attrs={\"data-at\":\"product-breadcrumb-productname-text\"}).text\n",
    "winebrand = newsoup.find(text='BRAND').findNext().text\n",
    "winecountrystate = find_countrystate(newsoup)\n",
    "wineregion = find_region(newsoup)\n",
    "wineappellation = find_appellation(newsoup)\n",
    "winevarietal = find_varietal(newsoup)\n",
    "winestyle = find_style(newsoup)\n",
    "wineabv = find_abv(newsoup)\n",
    "winetaste = find_taste(newsoup)\n",
    "winebody = find_body(newsoup)\n",
    "warating = newsoup.find(attrs={\"data-at\":\"product-badge-container\"}).text\n",
    "customeravgrating = find_avgrating(newsoup)\n",
    "customertotalratings = newsoup.find(class_=\"bv_numReviews_text\").text.strip(\"()\")\n",
    "update_list_w_dict(newsoup)\n",
    "driver.quit()\n",
    "time.sleep(np.random.uniform(2,4))"
   ]
  },
  {
   "cell_type": "code",
   "execution_count": 21,
   "id": "de95b4db",
   "metadata": {},
   "outputs": [],
   "source": [
    "url =mini_list12[3]\n",
    "driver = webdriver.Chrome(executable_path='chromedriver.exe')\n",
    "time.sleep(np.random.uniform(2.5,5))\n",
    "driver.get(url)\n",
    "time.sleep(np.random.uniform(2,4.5))\n",
    "newsoup = bs(driver.page_source)\n",
    "time.sleep(np.random.uniform(2,4.5))\n",
    "wineprice = find_price(newsoup)\n",
    "winename = newsoup.find(attrs={\"data-at\":\"product-breadcrumb-productname-text\"}).text\n",
    "winebrand = newsoup.find(text='BRAND').findNext().text\n",
    "winecountrystate = find_countrystate(newsoup)\n",
    "wineregion = find_region(newsoup)\n",
    "wineappellation = find_appellation(newsoup)\n",
    "winevarietal = find_varietal(newsoup)\n",
    "winestyle = find_style(newsoup)\n",
    "wineabv = find_abv(newsoup)\n",
    "winetaste = find_taste(newsoup)\n",
    "winebody = find_body(newsoup)\n",
    "warating = newsoup.find(attrs={\"data-at\":\"product-badge-container\"}).text\n",
    "customeravgrating = find_avgrating(newsoup)\n",
    "customertotalratings = newsoup.find(class_=\"bv_numReviews_text\").text.strip(\"()\")\n",
    "update_list_w_dict(newsoup)\n",
    "driver.quit()\n",
    "time.sleep(np.random.uniform(2,4))"
   ]
  },
  {
   "cell_type": "code",
   "execution_count": 24,
   "id": "640ad355",
   "metadata": {},
   "outputs": [],
   "source": [
    "url =mini_list12[4]\n",
    "driver = webdriver.Chrome(executable_path='chromedriver.exe')\n",
    "time.sleep(np.random.uniform(2.5,5))\n",
    "driver.get(url)\n",
    "time.sleep(np.random.uniform(2,4.5))\n",
    "newsoup = bs(driver.page_source)\n",
    "time.sleep(np.random.uniform(2,4.5))\n",
    "wineprice = find_price(newsoup)\n",
    "winename = newsoup.find(attrs={\"data-at\":\"product-breadcrumb-productname-text\"}).text\n",
    "winebrand = newsoup.find(text='BRAND').findNext().text\n",
    "winecountrystate = find_countrystate(newsoup)\n",
    "wineregion = find_region(newsoup)\n",
    "wineappellation = find_appellation(newsoup)\n",
    "winevarietal = find_varietal(newsoup)\n",
    "winestyle = find_style(newsoup)\n",
    "wineabv = find_abv(newsoup)\n",
    "winetaste = find_taste(newsoup)\n",
    "winebody = find_body(newsoup)\n",
    "warating = newsoup.find(attrs={\"data-at\":\"product-badge-container\"}).text\n",
    "customeravgrating = find_avgrating(newsoup)\n",
    "customertotalratings = newsoup.find(class_=\"bv_numReviews_text\").text.strip(\"()\")\n",
    "update_list_w_dict(newsoup)\n",
    "driver.quit()\n",
    "time.sleep(np.random.uniform(2,4))"
   ]
  },
  {
   "cell_type": "code",
   "execution_count": 25,
   "id": "762dec85",
   "metadata": {},
   "outputs": [
    {
     "data": {
      "text/plain": [
       "5"
      ]
     },
     "execution_count": 25,
     "metadata": {},
     "output_type": "execute_result"
    }
   ],
   "source": [
    "len(product_data)"
   ]
  },
  {
   "cell_type": "code",
   "execution_count": 26,
   "id": "7217465a-3a15-4353-a547-1143d12052d1",
   "metadata": {},
   "outputs": [],
   "source": [
    "df = pd.DataFrame(product_data)\n",
    "df.to_csv('wine_data1.csv', mode='a', header=False)"
   ]
  },
  {
   "cell_type": "code",
   "execution_count": 27,
   "id": "f50fbf4d-6b3a-4f99-805f-549fba06066b",
   "metadata": {},
   "outputs": [
    {
     "name": "stderr",
     "output_type": "stream",
     "text": [
      "100%|██████████| 5/5 [02:15<00:00, 27.17s/it]\n"
     ]
    }
   ],
   "source": [
    "product_data=[]\n",
    "for url in tqdm(mini_list13):\n",
    "    driver = webdriver.Chrome(executable_path='chromedriver.exe')\n",
    "    time.sleep(np.random.uniform(2,5))\n",
    "    driver.get(url)\n",
    "    time.sleep(np.random.uniform(2,4.5))\n",
    "    newsoup = bs(driver.page_source)\n",
    "    time.sleep(np.random.uniform(2,4.5))\n",
    "    wineprice = find_price(newsoup)\n",
    "    winename = newsoup.find(attrs={\"data-at\":\"product-breadcrumb-productname-text\"}).text\n",
    "    winebrand = newsoup.find(text='BRAND').findNext().text\n",
    "    winecountrystate = find_countrystate(newsoup)\n",
    "    wineregion = find_region(newsoup)\n",
    "    wineappellation = find_appellation(newsoup)\n",
    "    winevarietal = find_varietal(newsoup)\n",
    "    winestyle = find_style(newsoup)\n",
    "    wineabv = find_abv(newsoup)\n",
    "    winetaste = find_taste(newsoup)\n",
    "    winebody = find_body(newsoup)\n",
    "    warating = newsoup.find(attrs={\"data-at\":\"product-badge-container\"}).text\n",
    "    customeravgrating = find_avgrating(newsoup)\n",
    "    customertotalratings = newsoup.find(class_=\"bv_numReviews_text\").text.strip(\"()\")\n",
    "    update_list_w_dict(newsoup)\n",
    "    driver.quit()\n",
    "    time.sleep(np.random.uniform(2,4))"
   ]
  },
  {
   "cell_type": "code",
   "execution_count": 28,
   "id": "afce4444-3516-4029-96ec-7d62aeef61eb",
   "metadata": {},
   "outputs": [
    {
     "data": {
      "text/plain": [
       "5"
      ]
     },
     "execution_count": 28,
     "metadata": {},
     "output_type": "execute_result"
    }
   ],
   "source": [
    "len(product_data)"
   ]
  },
  {
   "cell_type": "code",
   "execution_count": 29,
   "id": "71a256f7-3d86-4db0-bd02-35d476e85dd8",
   "metadata": {},
   "outputs": [],
   "source": [
    "df = pd.DataFrame(product_data)\n",
    "df.to_csv('wine_data1.csv', mode='a', header=False)"
   ]
  },
  {
   "cell_type": "code",
   "execution_count": 30,
   "id": "6acbb874-0461-4c0c-b7de-8a779ffc313e",
   "metadata": {},
   "outputs": [
    {
     "name": "stderr",
     "output_type": "stream",
     "text": [
      " 60%|██████    | 3/5 [01:43<01:09, 34.54s/it]\n"
     ]
    },
    {
     "ename": "AttributeError",
     "evalue": "'NoneType' object has no attribute 'text'",
     "output_type": "error",
     "traceback": [
      "\u001b[1;31m---------------------------------------------------------------------------\u001b[0m",
      "\u001b[1;31mAttributeError\u001b[0m                            Traceback (most recent call last)",
      "Input \u001b[1;32mIn [11]\u001b[0m, in \u001b[0;36mfind_price\u001b[1;34m(soup)\u001b[0m\n\u001b[0;32m      3\u001b[0m \u001b[38;5;28;01mtry\u001b[39;00m:\n\u001b[1;32m----> 4\u001b[0m     wineprice \u001b[38;5;241m=\u001b[39m \u001b[43mnewsoup\u001b[49m\u001b[38;5;241;43m.\u001b[39;49m\u001b[43mfind\u001b[49m\u001b[43m(\u001b[49m\u001b[38;5;28;43mid\u001b[39;49m\u001b[38;5;241;43m=\u001b[39;49m\u001b[38;5;124;43m\"\u001b[39;49m\u001b[38;5;124;43medlpPrice\u001b[39;49m\u001b[38;5;124;43m\"\u001b[39;49m\u001b[43m)\u001b[49m\u001b[38;5;241;43m.\u001b[39;49m\u001b[43mtext\u001b[49m\u001b[38;5;241m.\u001b[39mstrip(\u001b[38;5;124m\"\u001b[39m\u001b[38;5;124m$\u001b[39m\u001b[38;5;124m\"\u001b[39m)\n\u001b[0;32m      5\u001b[0m \u001b[38;5;28;01mexcept\u001b[39;00m:\n",
      "\u001b[1;31mAttributeError\u001b[0m: 'NoneType' object has no attribute 'text'",
      "\nDuring handling of the above exception, another exception occurred:\n",
      "\u001b[1;31mAttributeError\u001b[0m                            Traceback (most recent call last)",
      "Input \u001b[1;32mIn [30]\u001b[0m, in \u001b[0;36m<cell line: 2>\u001b[1;34m()\u001b[0m\n\u001b[0;32m      7\u001b[0m newsoup \u001b[38;5;241m=\u001b[39m bs(driver\u001b[38;5;241m.\u001b[39mpage_source)\n\u001b[0;32m      8\u001b[0m time\u001b[38;5;241m.\u001b[39msleep(np\u001b[38;5;241m.\u001b[39mrandom\u001b[38;5;241m.\u001b[39muniform(\u001b[38;5;241m2\u001b[39m,\u001b[38;5;241m4.5\u001b[39m))\n\u001b[1;32m----> 9\u001b[0m wineprice \u001b[38;5;241m=\u001b[39m \u001b[43mfind_price\u001b[49m\u001b[43m(\u001b[49m\u001b[43mnewsoup\u001b[49m\u001b[43m)\u001b[49m\n\u001b[0;32m     10\u001b[0m winename \u001b[38;5;241m=\u001b[39m newsoup\u001b[38;5;241m.\u001b[39mfind(attrs\u001b[38;5;241m=\u001b[39m{\u001b[38;5;124m\"\u001b[39m\u001b[38;5;124mdata-at\u001b[39m\u001b[38;5;124m\"\u001b[39m:\u001b[38;5;124m\"\u001b[39m\u001b[38;5;124mproduct-breadcrumb-productname-text\u001b[39m\u001b[38;5;124m\"\u001b[39m})\u001b[38;5;241m.\u001b[39mtext\n\u001b[0;32m     11\u001b[0m winebrand \u001b[38;5;241m=\u001b[39m newsoup\u001b[38;5;241m.\u001b[39mfind(text\u001b[38;5;241m=\u001b[39m\u001b[38;5;124m'\u001b[39m\u001b[38;5;124mBRAND\u001b[39m\u001b[38;5;124m'\u001b[39m)\u001b[38;5;241m.\u001b[39mfindNext()\u001b[38;5;241m.\u001b[39mtext\n",
      "Input \u001b[1;32mIn [11]\u001b[0m, in \u001b[0;36mfind_price\u001b[1;34m(soup)\u001b[0m\n\u001b[0;32m      4\u001b[0m     wineprice \u001b[38;5;241m=\u001b[39m newsoup\u001b[38;5;241m.\u001b[39mfind(\u001b[38;5;28mid\u001b[39m\u001b[38;5;241m=\u001b[39m\u001b[38;5;124m\"\u001b[39m\u001b[38;5;124medlpPrice\u001b[39m\u001b[38;5;124m\"\u001b[39m)\u001b[38;5;241m.\u001b[39mtext\u001b[38;5;241m.\u001b[39mstrip(\u001b[38;5;124m\"\u001b[39m\u001b[38;5;124m$\u001b[39m\u001b[38;5;124m\"\u001b[39m)\n\u001b[0;32m      5\u001b[0m \u001b[38;5;28;01mexcept\u001b[39;00m:\n\u001b[1;32m----> 6\u001b[0m     wineprice \u001b[38;5;241m=\u001b[39m \u001b[43mnewsoup\u001b[49m\u001b[38;5;241;43m.\u001b[39;49m\u001b[43mfind\u001b[49m\u001b[43m(\u001b[49m\u001b[43mattrs\u001b[49m\u001b[38;5;241;43m=\u001b[39;49m\u001b[43m{\u001b[49m\u001b[38;5;124;43m\"\u001b[39;49m\u001b[38;5;124;43mdata-at\u001b[39;49m\u001b[38;5;124;43m\"\u001b[39;49m\u001b[43m:\u001b[49m\u001b[38;5;124;43m\"\u001b[39;49m\u001b[38;5;124;43mproduct-mix6price-text\u001b[39;49m\u001b[38;5;124;43m\"\u001b[39;49m\u001b[43m}\u001b[49m\u001b[43m)\u001b[49m\u001b[38;5;241;43m.\u001b[39;49m\u001b[43mtext\u001b[49m\u001b[38;5;241m.\u001b[39mstrip(\u001b[38;5;124m\"\u001b[39m\u001b[38;5;124m$\u001b[39m\u001b[38;5;124m\"\u001b[39m)\n\u001b[0;32m      7\u001b[0m \u001b[38;5;28;01mreturn\u001b[39;00m wineprice\n",
      "\u001b[1;31mAttributeError\u001b[0m: 'NoneType' object has no attribute 'text'"
     ]
    }
   ],
   "source": [
    "product_data=[]\n",
    "for url in tqdm(mini_list14):\n",
    "    driver = webdriver.Chrome(executable_path='chromedriver.exe')\n",
    "    time.sleep(np.random.uniform(2.5,5))\n",
    "    driver.get(url)\n",
    "    time.sleep(np.random.uniform(2,4.5))\n",
    "    newsoup = bs(driver.page_source)\n",
    "    time.sleep(np.random.uniform(2,4.5))\n",
    "    wineprice = find_price(newsoup)\n",
    "    winename = newsoup.find(attrs={\"data-at\":\"product-breadcrumb-productname-text\"}).text\n",
    "    winebrand = newsoup.find(text='BRAND').findNext().text\n",
    "    winecountrystate = find_countrystate(newsoup)\n",
    "    wineregion = find_region(newsoup)\n",
    "    wineappellation = find_appellation(newsoup)\n",
    "    winevarietal = find_varietal(newsoup)\n",
    "    winestyle = find_style(newsoup)\n",
    "    wineabv = find_abv(newsoup)\n",
    "    winetaste = find_taste(newsoup)\n",
    "    winebody = find_body(newsoup)\n",
    "    warating = newsoup.find(attrs={\"data-at\":\"product-badge-container\"}).text\n",
    "    customeravgrating = find_avgrating(newsoup)\n",
    "    customertotalratings = newsoup.find(class_=\"bv_numReviews_text\").text.strip(\"()\")\n",
    "    update_list_w_dict(newsoup)\n",
    "    driver.quit()\n",
    "    time.sleep(np.random.uniform(2,4))"
   ]
  },
  {
   "cell_type": "code",
   "execution_count": 32,
   "id": "9777b4fe-f40d-4ddc-829a-577a605c3c96",
   "metadata": {},
   "outputs": [
    {
     "data": {
      "text/plain": [
       "3"
      ]
     },
     "execution_count": 32,
     "metadata": {},
     "output_type": "execute_result"
    }
   ],
   "source": [
    "len(product_data)"
   ]
  },
  {
   "cell_type": "code",
   "execution_count": 33,
   "id": "ac401a43",
   "metadata": {},
   "outputs": [],
   "source": [
    "url =mini_list14[3]\n",
    "driver = webdriver.Chrome(executable_path='chromedriver.exe')\n",
    "time.sleep(np.random.uniform(2.5,5))\n",
    "driver.get(url)\n",
    "time.sleep(np.random.uniform(2,4.5))\n",
    "newsoup = bs(driver.page_source)\n",
    "time.sleep(np.random.uniform(2,4.5))\n",
    "wineprice = find_price(newsoup)\n",
    "winename = newsoup.find(attrs={\"data-at\":\"product-breadcrumb-productname-text\"}).text\n",
    "winebrand = newsoup.find(text='BRAND').findNext().text\n",
    "winecountrystate = find_countrystate(newsoup)\n",
    "wineregion = find_region(newsoup)\n",
    "wineappellation = find_appellation(newsoup)\n",
    "winevarietal = find_varietal(newsoup)\n",
    "winestyle = find_style(newsoup)\n",
    "wineabv = find_abv(newsoup)\n",
    "winetaste = find_taste(newsoup)\n",
    "winebody = find_body(newsoup)\n",
    "warating = newsoup.find(attrs={\"data-at\":\"product-badge-container\"}).text\n",
    "customeravgrating = find_avgrating(newsoup)\n",
    "customertotalratings = newsoup.find(class_=\"bv_numReviews_text\").text.strip(\"()\")\n",
    "update_list_w_dict(newsoup)\n",
    "driver.quit()\n",
    "time.sleep(np.random.uniform(2,4))"
   ]
  },
  {
   "cell_type": "code",
   "execution_count": 34,
   "id": "21591d46",
   "metadata": {},
   "outputs": [],
   "source": [
    "url =mini_list14[4]\n",
    "driver = webdriver.Chrome(executable_path='chromedriver.exe')\n",
    "time.sleep(np.random.uniform(2.5,5))\n",
    "driver.get(url)\n",
    "time.sleep(np.random.uniform(2,4.5))\n",
    "newsoup = bs(driver.page_source)\n",
    "time.sleep(np.random.uniform(2,4.5))\n",
    "wineprice = find_price(newsoup)\n",
    "winename = newsoup.find(attrs={\"data-at\":\"product-breadcrumb-productname-text\"}).text\n",
    "winebrand = newsoup.find(text='BRAND').findNext().text\n",
    "winecountrystate = find_countrystate(newsoup)\n",
    "wineregion = find_region(newsoup)\n",
    "wineappellation = find_appellation(newsoup)\n",
    "winevarietal = find_varietal(newsoup)\n",
    "winestyle = find_style(newsoup)\n",
    "wineabv = find_abv(newsoup)\n",
    "winetaste = find_taste(newsoup)\n",
    "winebody = find_body(newsoup)\n",
    "warating = newsoup.find(attrs={\"data-at\":\"product-badge-container\"}).text\n",
    "customeravgrating = find_avgrating(newsoup)\n",
    "customertotalratings = newsoup.find(class_=\"bv_numReviews_text\").text.strip(\"()\")\n",
    "update_list_w_dict(newsoup)\n",
    "driver.quit()\n",
    "time.sleep(np.random.uniform(2,4))"
   ]
  },
  {
   "cell_type": "code",
   "execution_count": 35,
   "id": "02075037",
   "metadata": {},
   "outputs": [
    {
     "data": {
      "text/plain": [
       "5"
      ]
     },
     "execution_count": 35,
     "metadata": {},
     "output_type": "execute_result"
    }
   ],
   "source": [
    "len(product_data)"
   ]
  },
  {
   "cell_type": "code",
   "execution_count": 36,
   "id": "15476c56-a89c-42be-b1b4-25dadb958ae4",
   "metadata": {},
   "outputs": [],
   "source": [
    "df = pd.DataFrame(product_data)\n",
    "df.to_csv('wine_data1.csv', mode='a', header=False)"
   ]
  },
  {
   "cell_type": "code",
   "execution_count": 39,
   "id": "ce4ac44a-a583-4e95-96eb-98d010676500",
   "metadata": {},
   "outputs": [],
   "source": [
    "product_data=[]\n",
    "#ML 15"
   ]
  },
  {
   "cell_type": "code",
   "execution_count": 40,
   "id": "bdf62424",
   "metadata": {},
   "outputs": [],
   "source": [
    "url = mini_list15[0]\n",
    "driver = webdriver.Chrome(executable_path='chromedriver.exe')\n",
    "time.sleep(np.random.uniform(2.1,5))\n",
    "driver.get(url)\n",
    "time.sleep(np.random.uniform(2,4.5))\n",
    "newsoup = bs(driver.page_source)\n",
    "time.sleep(np.random.uniform(2,4.5))\n",
    "wineprice = find_price(newsoup)\n",
    "winename = newsoup.find(attrs={\"data-at\":\"product-breadcrumb-productname-text\"}).text\n",
    "winebrand = newsoup.find(text='BRAND').findNext().text\n",
    "winecountrystate = find_countrystate(newsoup)\n",
    "wineregion = find_region(newsoup)\n",
    "wineappellation = find_appellation(newsoup)\n",
    "winevarietal = find_varietal(newsoup)\n",
    "winestyle = find_style(newsoup)\n",
    "wineabv = find_abv(newsoup)\n",
    "winetaste = find_taste(newsoup)\n",
    "winebody = find_body(newsoup)\n",
    "warating = newsoup.find(attrs={\"data-at\":\"product-badge-container\"}).text\n",
    "customeravgrating = find_avgrating(newsoup)\n",
    "customertotalratings = newsoup.find(class_=\"bv_numReviews_text\").text.strip(\"()\")\n",
    "update_list_w_dict(newsoup)\n",
    "driver.quit()\n",
    "time.sleep(np.random.uniform(2,4))"
   ]
  },
  {
   "cell_type": "code",
   "execution_count": 41,
   "id": "8ce2a413",
   "metadata": {},
   "outputs": [],
   "source": [
    "url = mini_list15[1]\n",
    "driver = webdriver.Chrome(executable_path='chromedriver.exe')\n",
    "time.sleep(np.random.uniform(2.1,5))\n",
    "driver.get(url)\n",
    "time.sleep(np.random.uniform(2,4.5))\n",
    "newsoup = bs(driver.page_source)\n",
    "time.sleep(np.random.uniform(2,4.5))\n",
    "wineprice = find_price(newsoup)\n",
    "winename = newsoup.find(attrs={\"data-at\":\"product-breadcrumb-productname-text\"}).text\n",
    "winebrand = newsoup.find(text='BRAND').findNext().text\n",
    "winecountrystate = find_countrystate(newsoup)\n",
    "wineregion = find_region(newsoup)\n",
    "wineappellation = find_appellation(newsoup)\n",
    "winevarietal = find_varietal(newsoup)\n",
    "winestyle = find_style(newsoup)\n",
    "wineabv = find_abv(newsoup)\n",
    "winetaste = find_taste(newsoup)\n",
    "winebody = find_body(newsoup)\n",
    "warating = newsoup.find(attrs={\"data-at\":\"product-badge-container\"}).text\n",
    "customeravgrating = find_avgrating(newsoup)\n",
    "customertotalratings = newsoup.find(class_=\"bv_numReviews_text\").text.strip(\"()\")\n",
    "update_list_w_dict(newsoup)\n",
    "driver.quit()\n",
    "time.sleep(np.random.uniform(2,4))"
   ]
  },
  {
   "cell_type": "code",
   "execution_count": 42,
   "id": "9fd3076b",
   "metadata": {},
   "outputs": [],
   "source": [
    "url = mini_list15[2]\n",
    "driver = webdriver.Chrome(executable_path='chromedriver.exe')\n",
    "time.sleep(np.random.uniform(2.1,5))\n",
    "driver.get(url)\n",
    "time.sleep(np.random.uniform(2,4.5))\n",
    "newsoup = bs(driver.page_source)\n",
    "time.sleep(np.random.uniform(2,4.5))\n",
    "wineprice = find_price(newsoup)\n",
    "winename = newsoup.find(attrs={\"data-at\":\"product-breadcrumb-productname-text\"}).text\n",
    "winebrand = newsoup.find(text='BRAND').findNext().text\n",
    "winecountrystate = find_countrystate(newsoup)\n",
    "wineregion = find_region(newsoup)\n",
    "wineappellation = find_appellation(newsoup)\n",
    "winevarietal = find_varietal(newsoup)\n",
    "winestyle = find_style(newsoup)\n",
    "wineabv = find_abv(newsoup)\n",
    "winetaste = find_taste(newsoup)\n",
    "winebody = find_body(newsoup)\n",
    "warating = newsoup.find(attrs={\"data-at\":\"product-badge-container\"}).text\n",
    "customeravgrating = find_avgrating(newsoup)\n",
    "customertotalratings = newsoup.find(class_=\"bv_numReviews_text\").text.strip(\"()\")\n",
    "update_list_w_dict(newsoup)\n",
    "driver.quit()\n",
    "time.sleep(np.random.uniform(2,4))"
   ]
  },
  {
   "cell_type": "code",
   "execution_count": 43,
   "id": "e24f6c5a",
   "metadata": {},
   "outputs": [],
   "source": [
    "url = mini_list15[3]\n",
    "driver = webdriver.Chrome(executable_path='chromedriver.exe')\n",
    "time.sleep(np.random.uniform(2.1,5))\n",
    "driver.get(url)\n",
    "time.sleep(np.random.uniform(2,4.5))\n",
    "newsoup = bs(driver.page_source)\n",
    "time.sleep(np.random.uniform(2,4.5))\n",
    "wineprice = find_price(newsoup)\n",
    "winename = newsoup.find(attrs={\"data-at\":\"product-breadcrumb-productname-text\"}).text\n",
    "winebrand = newsoup.find(text='BRAND').findNext().text\n",
    "winecountrystate = find_countrystate(newsoup)\n",
    "wineregion = find_region(newsoup)\n",
    "wineappellation = find_appellation(newsoup)\n",
    "winevarietal = find_varietal(newsoup)\n",
    "winestyle = find_style(newsoup)\n",
    "wineabv = find_abv(newsoup)\n",
    "winetaste = find_taste(newsoup)\n",
    "winebody = find_body(newsoup)\n",
    "warating = newsoup.find(attrs={\"data-at\":\"product-badge-container\"}).text\n",
    "customeravgrating = find_avgrating(newsoup)\n",
    "customertotalratings = newsoup.find(class_=\"bv_numReviews_text\").text.strip(\"()\")\n",
    "update_list_w_dict(newsoup)\n",
    "driver.quit()\n",
    "time.sleep(np.random.uniform(2,4))"
   ]
  },
  {
   "cell_type": "code",
   "execution_count": 44,
   "id": "0b46ac6d",
   "metadata": {},
   "outputs": [],
   "source": [
    "url = mini_list15[4]\n",
    "driver = webdriver.Chrome(executable_path='chromedriver.exe')\n",
    "time.sleep(np.random.uniform(2.1,5))\n",
    "driver.get(url)\n",
    "time.sleep(np.random.uniform(2,4.5))\n",
    "newsoup = bs(driver.page_source)\n",
    "time.sleep(np.random.uniform(2,4.5))\n",
    "wineprice = find_price(newsoup)\n",
    "winename = newsoup.find(attrs={\"data-at\":\"product-breadcrumb-productname-text\"}).text\n",
    "winebrand = newsoup.find(text='BRAND').findNext().text\n",
    "winecountrystate = find_countrystate(newsoup)\n",
    "wineregion = find_region(newsoup)\n",
    "wineappellation = find_appellation(newsoup)\n",
    "winevarietal = find_varietal(newsoup)\n",
    "winestyle = find_style(newsoup)\n",
    "wineabv = find_abv(newsoup)\n",
    "winetaste = find_taste(newsoup)\n",
    "winebody = find_body(newsoup)\n",
    "warating = newsoup.find(attrs={\"data-at\":\"product-badge-container\"}).text\n",
    "customeravgrating = find_avgrating(newsoup)\n",
    "customertotalratings = newsoup.find(class_=\"bv_numReviews_text\").text.strip(\"()\")\n",
    "update_list_w_dict(newsoup)\n",
    "driver.quit()\n",
    "time.sleep(np.random.uniform(2,4))"
   ]
  },
  {
   "cell_type": "code",
   "execution_count": 45,
   "id": "97ee4540-7274-4bed-9e29-a9c00edbc489",
   "metadata": {},
   "outputs": [
    {
     "data": {
      "text/plain": [
       "5"
      ]
     },
     "execution_count": 45,
     "metadata": {},
     "output_type": "execute_result"
    }
   ],
   "source": [
    "len(product_data)"
   ]
  },
  {
   "cell_type": "code",
   "execution_count": 46,
   "id": "60dbe92e-2ff3-4630-b5a4-c5f5de6ea3d5",
   "metadata": {},
   "outputs": [],
   "source": [
    "df = pd.DataFrame(product_data)\n",
    "df.to_csv('wine_data1.csv', mode='a', header=False)"
   ]
  },
  {
   "cell_type": "code",
   "execution_count": null,
   "id": "58667a1d",
   "metadata": {},
   "outputs": [],
   "source": []
  },
  {
   "cell_type": "code",
   "execution_count": 47,
   "id": "083140fe",
   "metadata": {},
   "outputs": [],
   "source": [
    "product_data=[]\n",
    "#ML 16"
   ]
  },
  {
   "cell_type": "code",
   "execution_count": 48,
   "id": "bc084e87",
   "metadata": {},
   "outputs": [],
   "source": [
    "url = mini_list16[0]\n",
    "driver = webdriver.Chrome(executable_path='chromedriver.exe')\n",
    "time.sleep(np.random.uniform(2.1,5))\n",
    "driver.get(url)\n",
    "time.sleep(np.random.uniform(2,4.5))\n",
    "newsoup = bs(driver.page_source)\n",
    "time.sleep(np.random.uniform(2,4.5))\n",
    "wineprice = find_price(newsoup)\n",
    "winename = newsoup.find(attrs={\"data-at\":\"product-breadcrumb-productname-text\"}).text\n",
    "winebrand = newsoup.find(text='BRAND').findNext().text\n",
    "winecountrystate = find_countrystate(newsoup)\n",
    "wineregion = find_region(newsoup)\n",
    "wineappellation = find_appellation(newsoup)\n",
    "winevarietal = find_varietal(newsoup)\n",
    "winestyle = find_style(newsoup)\n",
    "wineabv = find_abv(newsoup)\n",
    "winetaste = find_taste(newsoup)\n",
    "winebody = find_body(newsoup)\n",
    "warating = newsoup.find(attrs={\"data-at\":\"product-badge-container\"}).text\n",
    "customeravgrating = find_avgrating(newsoup)\n",
    "customertotalratings = newsoup.find(class_=\"bv_numReviews_text\").text.strip(\"()\")\n",
    "update_list_w_dict(newsoup)\n",
    "driver.quit()\n",
    "time.sleep(np.random.uniform(2,4))"
   ]
  },
  {
   "cell_type": "code",
   "execution_count": 49,
   "id": "da0926e8",
   "metadata": {},
   "outputs": [],
   "source": [
    "url = mini_list16[1]\n",
    "driver = webdriver.Chrome(executable_path='chromedriver.exe')\n",
    "time.sleep(np.random.uniform(2.1,5))\n",
    "driver.get(url)\n",
    "time.sleep(np.random.uniform(2,4.5))\n",
    "newsoup = bs(driver.page_source)\n",
    "time.sleep(np.random.uniform(2,4.5))\n",
    "wineprice = find_price(newsoup)\n",
    "winename = newsoup.find(attrs={\"data-at\":\"product-breadcrumb-productname-text\"}).text\n",
    "winebrand = newsoup.find(text='BRAND').findNext().text\n",
    "winecountrystate = find_countrystate(newsoup)\n",
    "wineregion = find_region(newsoup)\n",
    "wineappellation = find_appellation(newsoup)\n",
    "winevarietal = find_varietal(newsoup)\n",
    "winestyle = find_style(newsoup)\n",
    "wineabv = find_abv(newsoup)\n",
    "winetaste = find_taste(newsoup)\n",
    "winebody = find_body(newsoup)\n",
    "warating = newsoup.find(attrs={\"data-at\":\"product-badge-container\"}).text\n",
    "customeravgrating = find_avgrating(newsoup)\n",
    "customertotalratings = newsoup.find(class_=\"bv_numReviews_text\").text.strip(\"()\")\n",
    "update_list_w_dict(newsoup)\n",
    "driver.quit()\n",
    "time.sleep(np.random.uniform(2,4))"
   ]
  },
  {
   "cell_type": "code",
   "execution_count": 50,
   "id": "96e26987",
   "metadata": {},
   "outputs": [],
   "source": [
    "url = mini_list16[2]\n",
    "driver = webdriver.Chrome(executable_path='chromedriver.exe')\n",
    "time.sleep(np.random.uniform(2.1,5))\n",
    "driver.get(url)\n",
    "time.sleep(np.random.uniform(2,4.5))\n",
    "newsoup = bs(driver.page_source)\n",
    "time.sleep(np.random.uniform(2,4.5))\n",
    "wineprice = find_price(newsoup)\n",
    "winename = newsoup.find(attrs={\"data-at\":\"product-breadcrumb-productname-text\"}).text\n",
    "winebrand = newsoup.find(text='BRAND').findNext().text\n",
    "winecountrystate = find_countrystate(newsoup)\n",
    "wineregion = find_region(newsoup)\n",
    "wineappellation = find_appellation(newsoup)\n",
    "winevarietal = find_varietal(newsoup)\n",
    "winestyle = find_style(newsoup)\n",
    "wineabv = find_abv(newsoup)\n",
    "winetaste = find_taste(newsoup)\n",
    "winebody = find_body(newsoup)\n",
    "warating = newsoup.find(attrs={\"data-at\":\"product-badge-container\"}).text\n",
    "customeravgrating = find_avgrating(newsoup)\n",
    "customertotalratings = newsoup.find(class_=\"bv_numReviews_text\").text.strip(\"()\")\n",
    "update_list_w_dict(newsoup)\n",
    "driver.quit()\n",
    "time.sleep(np.random.uniform(2,4))"
   ]
  },
  {
   "cell_type": "code",
   "execution_count": 51,
   "id": "449f62b7",
   "metadata": {},
   "outputs": [],
   "source": [
    "url = mini_list16[3]\n",
    "driver = webdriver.Chrome(executable_path='chromedriver.exe')\n",
    "time.sleep(np.random.uniform(2.1,5))\n",
    "driver.get(url)\n",
    "time.sleep(np.random.uniform(2,4.5))\n",
    "newsoup = bs(driver.page_source)\n",
    "time.sleep(np.random.uniform(2,4.5))\n",
    "wineprice = find_price(newsoup)\n",
    "winename = newsoup.find(attrs={\"data-at\":\"product-breadcrumb-productname-text\"}).text\n",
    "winebrand = newsoup.find(text='BRAND').findNext().text\n",
    "winecountrystate = find_countrystate(newsoup)\n",
    "wineregion = find_region(newsoup)\n",
    "wineappellation = find_appellation(newsoup)\n",
    "winevarietal = find_varietal(newsoup)\n",
    "winestyle = find_style(newsoup)\n",
    "wineabv = find_abv(newsoup)\n",
    "winetaste = find_taste(newsoup)\n",
    "winebody = find_body(newsoup)\n",
    "warating = newsoup.find(attrs={\"data-at\":\"product-badge-container\"}).text\n",
    "customeravgrating = find_avgrating(newsoup)\n",
    "customertotalratings = newsoup.find(class_=\"bv_numReviews_text\").text.strip(\"()\")\n",
    "update_list_w_dict(newsoup)\n",
    "driver.quit()\n",
    "time.sleep(np.random.uniform(2,4))"
   ]
  },
  {
   "cell_type": "code",
   "execution_count": 52,
   "id": "90d6d5f7",
   "metadata": {},
   "outputs": [],
   "source": [
    "url = mini_list16[4]\n",
    "driver = webdriver.Chrome(executable_path='chromedriver.exe')\n",
    "time.sleep(np.random.uniform(2.1,5))\n",
    "driver.get(url)\n",
    "time.sleep(np.random.uniform(2,4.5))\n",
    "newsoup = bs(driver.page_source)\n",
    "time.sleep(np.random.uniform(2,4.5))\n",
    "wineprice = find_price(newsoup)\n",
    "winename = newsoup.find(attrs={\"data-at\":\"product-breadcrumb-productname-text\"}).text\n",
    "winebrand = newsoup.find(text='BRAND').findNext().text\n",
    "winecountrystate = find_countrystate(newsoup)\n",
    "wineregion = find_region(newsoup)\n",
    "wineappellation = find_appellation(newsoup)\n",
    "winevarietal = find_varietal(newsoup)\n",
    "winestyle = find_style(newsoup)\n",
    "wineabv = find_abv(newsoup)\n",
    "winetaste = find_taste(newsoup)\n",
    "winebody = find_body(newsoup)\n",
    "warating = newsoup.find(attrs={\"data-at\":\"product-badge-container\"}).text\n",
    "customeravgrating = find_avgrating(newsoup)\n",
    "customertotalratings = newsoup.find(class_=\"bv_numReviews_text\").text.strip(\"()\")\n",
    "update_list_w_dict(newsoup)\n",
    "driver.quit()\n",
    "time.sleep(np.random.uniform(2,4))"
   ]
  },
  {
   "cell_type": "code",
   "execution_count": 53,
   "id": "dc423c3d",
   "metadata": {},
   "outputs": [
    {
     "data": {
      "text/plain": [
       "5"
      ]
     },
     "execution_count": 53,
     "metadata": {},
     "output_type": "execute_result"
    }
   ],
   "source": [
    "len(product_data)"
   ]
  },
  {
   "cell_type": "code",
   "execution_count": 54,
   "id": "b2e84a54",
   "metadata": {},
   "outputs": [],
   "source": [
    "df = pd.DataFrame(product_data)\n",
    "df.to_csv('wine_data1.csv', mode='a', header=False)"
   ]
  },
  {
   "cell_type": "code",
   "execution_count": null,
   "id": "1aaac324",
   "metadata": {},
   "outputs": [],
   "source": []
  },
  {
   "cell_type": "code",
   "execution_count": 55,
   "id": "2ff9c119",
   "metadata": {},
   "outputs": [],
   "source": [
    "product_data=[]\n",
    "#ML 17"
   ]
  },
  {
   "cell_type": "code",
   "execution_count": 56,
   "id": "ee49ed57",
   "metadata": {},
   "outputs": [],
   "source": [
    "url = mini_list17[0]\n",
    "driver = webdriver.Chrome(executable_path='chromedriver.exe')\n",
    "time.sleep(np.random.uniform(2.1,5))\n",
    "driver.get(url)\n",
    "time.sleep(np.random.uniform(2,4.5))\n",
    "newsoup = bs(driver.page_source)\n",
    "time.sleep(np.random.uniform(2,4.5))\n",
    "wineprice = find_price(newsoup)\n",
    "winename = newsoup.find(attrs={\"data-at\":\"product-breadcrumb-productname-text\"}).text\n",
    "winebrand = newsoup.find(text='BRAND').findNext().text\n",
    "winecountrystate = find_countrystate(newsoup)\n",
    "wineregion = find_region(newsoup)\n",
    "wineappellation = find_appellation(newsoup)\n",
    "winevarietal = find_varietal(newsoup)\n",
    "winestyle = find_style(newsoup)\n",
    "wineabv = find_abv(newsoup)\n",
    "winetaste = find_taste(newsoup)\n",
    "winebody = find_body(newsoup)\n",
    "warating = newsoup.find(attrs={\"data-at\":\"product-badge-container\"}).text\n",
    "customeravgrating = find_avgrating(newsoup)\n",
    "customertotalratings = newsoup.find(class_=\"bv_numReviews_text\").text.strip(\"()\")\n",
    "update_list_w_dict(newsoup)\n",
    "driver.quit()\n",
    "time.sleep(np.random.uniform(2,4))"
   ]
  },
  {
   "cell_type": "code",
   "execution_count": 57,
   "id": "b0390014",
   "metadata": {},
   "outputs": [],
   "source": [
    "url = mini_list17[1]\n",
    "driver = webdriver.Chrome(executable_path='chromedriver.exe')\n",
    "time.sleep(np.random.uniform(2.1,5))\n",
    "driver.get(url)\n",
    "time.sleep(np.random.uniform(2,4.5))\n",
    "newsoup = bs(driver.page_source)\n",
    "time.sleep(np.random.uniform(2,4.5))\n",
    "wineprice = find_price(newsoup)\n",
    "winename = newsoup.find(attrs={\"data-at\":\"product-breadcrumb-productname-text\"}).text\n",
    "winebrand = newsoup.find(text='BRAND').findNext().text\n",
    "winecountrystate = find_countrystate(newsoup)\n",
    "wineregion = find_region(newsoup)\n",
    "wineappellation = find_appellation(newsoup)\n",
    "winevarietal = find_varietal(newsoup)\n",
    "winestyle = find_style(newsoup)\n",
    "wineabv = find_abv(newsoup)\n",
    "winetaste = find_taste(newsoup)\n",
    "winebody = find_body(newsoup)\n",
    "warating = newsoup.find(attrs={\"data-at\":\"product-badge-container\"}).text\n",
    "customeravgrating = find_avgrating(newsoup)\n",
    "customertotalratings = newsoup.find(class_=\"bv_numReviews_text\").text.strip(\"()\")\n",
    "update_list_w_dict(newsoup)\n",
    "driver.quit()\n",
    "time.sleep(np.random.uniform(2,4))"
   ]
  },
  {
   "cell_type": "code",
   "execution_count": 60,
   "id": "aa1f126c",
   "metadata": {},
   "outputs": [],
   "source": [
    "url = mini_list17[2]\n",
    "driver = webdriver.Chrome(executable_path='chromedriver.exe')\n",
    "time.sleep(np.random.uniform(2.1,5))\n",
    "driver.get(url)\n",
    "time.sleep(np.random.uniform(2,4.5))\n",
    "newsoup = bs(driver.page_source)\n",
    "time.sleep(np.random.uniform(2,4.5))\n",
    "wineprice = find_price(newsoup)\n",
    "winename = newsoup.find(attrs={\"data-at\":\"product-breadcrumb-productname-text\"}).text\n",
    "winebrand = newsoup.find(text='BRAND').findNext().text\n",
    "winecountrystate = find_countrystate(newsoup)\n",
    "wineregion = find_region(newsoup)\n",
    "wineappellation = find_appellation(newsoup)\n",
    "winevarietal = find_varietal(newsoup)\n",
    "winestyle = find_style(newsoup)\n",
    "wineabv = find_abv(newsoup)\n",
    "winetaste = find_taste(newsoup)\n",
    "winebody = find_body(newsoup)\n",
    "warating = newsoup.find(attrs={\"data-at\":\"product-badge-container\"}).text\n",
    "customeravgrating = find_avgrating(newsoup)\n",
    "customertotalratings = newsoup.find(class_=\"bv_numReviews_text\").text.strip(\"()\")\n",
    "update_list_w_dict(newsoup)\n",
    "driver.quit()\n",
    "time.sleep(np.random.uniform(2,4))"
   ]
  },
  {
   "cell_type": "code",
   "execution_count": 62,
   "id": "fef2de79",
   "metadata": {},
   "outputs": [],
   "source": [
    "url = mini_list17[3]\n",
    "driver = webdriver.Chrome(executable_path='chromedriver.exe')\n",
    "time.sleep(np.random.uniform(2.1,5))\n",
    "driver.get(url)\n",
    "time.sleep(np.random.uniform(2,4.5))\n",
    "newsoup = bs(driver.page_source)\n",
    "time.sleep(np.random.uniform(2,4.5))\n",
    "wineprice = find_price(newsoup)\n",
    "winename = newsoup.find(attrs={\"data-at\":\"product-breadcrumb-productname-text\"}).text\n",
    "winebrand = newsoup.find(text='BRAND').findNext().text\n",
    "winecountrystate = find_countrystate(newsoup)\n",
    "wineregion = find_region(newsoup)\n",
    "wineappellation = find_appellation(newsoup)\n",
    "winevarietal = find_varietal(newsoup)\n",
    "winestyle = find_style(newsoup)\n",
    "wineabv = find_abv(newsoup)\n",
    "winetaste = find_taste(newsoup)\n",
    "winebody = find_body(newsoup)\n",
    "warating = newsoup.find(attrs={\"data-at\":\"product-badge-container\"}).text\n",
    "customeravgrating = find_avgrating(newsoup)\n",
    "customertotalratings = newsoup.find(class_=\"bv_numReviews_text\").text.strip(\"()\")\n",
    "update_list_w_dict(newsoup)\n",
    "driver.quit()\n",
    "time.sleep(np.random.uniform(2,4))"
   ]
  },
  {
   "cell_type": "code",
   "execution_count": 63,
   "id": "a8521ff8",
   "metadata": {},
   "outputs": [],
   "source": [
    "url = mini_list17[4]\n",
    "driver = webdriver.Chrome(executable_path='chromedriver.exe')\n",
    "time.sleep(np.random.uniform(2.1,5))\n",
    "driver.get(url)\n",
    "time.sleep(np.random.uniform(2,4.5))\n",
    "newsoup = bs(driver.page_source)\n",
    "time.sleep(np.random.uniform(2,4.5))\n",
    "wineprice = find_price(newsoup)\n",
    "winename = newsoup.find(attrs={\"data-at\":\"product-breadcrumb-productname-text\"}).text\n",
    "winebrand = newsoup.find(text='BRAND').findNext().text\n",
    "winecountrystate = find_countrystate(newsoup)\n",
    "wineregion = find_region(newsoup)\n",
    "wineappellation = find_appellation(newsoup)\n",
    "winevarietal = find_varietal(newsoup)\n",
    "winestyle = find_style(newsoup)\n",
    "wineabv = find_abv(newsoup)\n",
    "winetaste = find_taste(newsoup)\n",
    "winebody = find_body(newsoup)\n",
    "warating = newsoup.find(attrs={\"data-at\":\"product-badge-container\"}).text\n",
    "customeravgrating = find_avgrating(newsoup)\n",
    "customertotalratings = newsoup.find(class_=\"bv_numReviews_text\").text.strip(\"()\")\n",
    "update_list_w_dict(newsoup)\n",
    "driver.quit()\n",
    "time.sleep(np.random.uniform(2,4))"
   ]
  },
  {
   "cell_type": "code",
   "execution_count": 64,
   "id": "ff982722",
   "metadata": {},
   "outputs": [
    {
     "data": {
      "text/plain": [
       "5"
      ]
     },
     "execution_count": 64,
     "metadata": {},
     "output_type": "execute_result"
    }
   ],
   "source": [
    "len(product_data)"
   ]
  },
  {
   "cell_type": "code",
   "execution_count": 65,
   "id": "0002691b",
   "metadata": {},
   "outputs": [],
   "source": [
    "df = pd.DataFrame(product_data)\n",
    "df.to_csv('wine_data1.csv', mode='a', header=False)"
   ]
  },
  {
   "cell_type": "code",
   "execution_count": null,
   "id": "77dd482f",
   "metadata": {},
   "outputs": [],
   "source": []
  },
  {
   "cell_type": "code",
   "execution_count": 66,
   "id": "82a25279",
   "metadata": {},
   "outputs": [],
   "source": [
    "product_data=[]\n",
    "#ML 18"
   ]
  },
  {
   "cell_type": "code",
   "execution_count": 67,
   "id": "12ad2598",
   "metadata": {},
   "outputs": [],
   "source": [
    "url = mini_list18[0]\n",
    "driver = webdriver.Chrome(executable_path='chromedriver.exe')\n",
    "time.sleep(np.random.uniform(2.1,5))\n",
    "driver.get(url)\n",
    "time.sleep(np.random.uniform(2,4.5))\n",
    "newsoup = bs(driver.page_source)\n",
    "time.sleep(np.random.uniform(2,4.5))\n",
    "wineprice = find_price(newsoup)\n",
    "winename = newsoup.find(attrs={\"data-at\":\"product-breadcrumb-productname-text\"}).text\n",
    "winebrand = newsoup.find(text='BRAND').findNext().text\n",
    "winecountrystate = find_countrystate(newsoup)\n",
    "wineregion = find_region(newsoup)\n",
    "wineappellation = find_appellation(newsoup)\n",
    "winevarietal = find_varietal(newsoup)\n",
    "winestyle = find_style(newsoup)\n",
    "wineabv = find_abv(newsoup)\n",
    "winetaste = find_taste(newsoup)\n",
    "winebody = find_body(newsoup)\n",
    "warating = newsoup.find(attrs={\"data-at\":\"product-badge-container\"}).text\n",
    "customeravgrating = find_avgrating(newsoup)\n",
    "customertotalratings = newsoup.find(class_=\"bv_numReviews_text\").text.strip(\"()\")\n",
    "update_list_w_dict(newsoup)\n",
    "driver.quit()\n",
    "time.sleep(np.random.uniform(2,4))"
   ]
  },
  {
   "cell_type": "code",
   "execution_count": 68,
   "id": "3a25d3f8",
   "metadata": {},
   "outputs": [],
   "source": [
    "url = mini_list18[1]\n",
    "driver = webdriver.Chrome(executable_path='chromedriver.exe')\n",
    "time.sleep(np.random.uniform(2.1,5))\n",
    "driver.get(url)\n",
    "time.sleep(np.random.uniform(2,4.5))\n",
    "newsoup = bs(driver.page_source)\n",
    "time.sleep(np.random.uniform(2,4.5))\n",
    "wineprice = find_price(newsoup)\n",
    "winename = newsoup.find(attrs={\"data-at\":\"product-breadcrumb-productname-text\"}).text\n",
    "winebrand = newsoup.find(text='BRAND').findNext().text\n",
    "winecountrystate = find_countrystate(newsoup)\n",
    "wineregion = find_region(newsoup)\n",
    "wineappellation = find_appellation(newsoup)\n",
    "winevarietal = find_varietal(newsoup)\n",
    "winestyle = find_style(newsoup)\n",
    "wineabv = find_abv(newsoup)\n",
    "winetaste = find_taste(newsoup)\n",
    "winebody = find_body(newsoup)\n",
    "warating = newsoup.find(attrs={\"data-at\":\"product-badge-container\"}).text\n",
    "customeravgrating = find_avgrating(newsoup)\n",
    "customertotalratings = newsoup.find(class_=\"bv_numReviews_text\").text.strip(\"()\")\n",
    "update_list_w_dict(newsoup)\n",
    "driver.quit()\n",
    "time.sleep(np.random.uniform(2,4))"
   ]
  },
  {
   "cell_type": "code",
   "execution_count": 69,
   "id": "1adcdb30",
   "metadata": {},
   "outputs": [],
   "source": [
    "url = mini_list18[2]\n",
    "driver = webdriver.Chrome(executable_path='chromedriver.exe')\n",
    "time.sleep(np.random.uniform(2.1,5))\n",
    "driver.get(url)\n",
    "time.sleep(np.random.uniform(2,4.5))\n",
    "newsoup = bs(driver.page_source)\n",
    "time.sleep(np.random.uniform(2,4.5))\n",
    "wineprice = find_price(newsoup)\n",
    "winename = newsoup.find(attrs={\"data-at\":\"product-breadcrumb-productname-text\"}).text\n",
    "winebrand = newsoup.find(text='BRAND').findNext().text\n",
    "winecountrystate = find_countrystate(newsoup)\n",
    "wineregion = find_region(newsoup)\n",
    "wineappellation = find_appellation(newsoup)\n",
    "winevarietal = find_varietal(newsoup)\n",
    "winestyle = find_style(newsoup)\n",
    "wineabv = find_abv(newsoup)\n",
    "winetaste = find_taste(newsoup)\n",
    "winebody = find_body(newsoup)\n",
    "warating = newsoup.find(attrs={\"data-at\":\"product-badge-container\"}).text\n",
    "customeravgrating = find_avgrating(newsoup)\n",
    "customertotalratings = newsoup.find(class_=\"bv_numReviews_text\").text.strip(\"()\")\n",
    "update_list_w_dict(newsoup)\n",
    "driver.quit()\n",
    "time.sleep(np.random.uniform(2,4))"
   ]
  },
  {
   "cell_type": "code",
   "execution_count": 70,
   "id": "702248b3",
   "metadata": {},
   "outputs": [],
   "source": [
    "url = mini_list18[3]\n",
    "driver = webdriver.Chrome(executable_path='chromedriver.exe')\n",
    "time.sleep(np.random.uniform(2.1,5))\n",
    "driver.get(url)\n",
    "time.sleep(np.random.uniform(2,4.5))\n",
    "newsoup = bs(driver.page_source)\n",
    "time.sleep(np.random.uniform(2,4.5))\n",
    "wineprice = find_price(newsoup)\n",
    "winename = newsoup.find(attrs={\"data-at\":\"product-breadcrumb-productname-text\"}).text\n",
    "winebrand = newsoup.find(text='BRAND').findNext().text\n",
    "winecountrystate = find_countrystate(newsoup)\n",
    "wineregion = find_region(newsoup)\n",
    "wineappellation = find_appellation(newsoup)\n",
    "winevarietal = find_varietal(newsoup)\n",
    "winestyle = find_style(newsoup)\n",
    "wineabv = find_abv(newsoup)\n",
    "winetaste = find_taste(newsoup)\n",
    "winebody = find_body(newsoup)\n",
    "warating = newsoup.find(attrs={\"data-at\":\"product-badge-container\"}).text\n",
    "customeravgrating = find_avgrating(newsoup)\n",
    "customertotalratings = newsoup.find(class_=\"bv_numReviews_text\").text.strip(\"()\")\n",
    "update_list_w_dict(newsoup)\n",
    "driver.quit()\n",
    "time.sleep(np.random.uniform(2,4))"
   ]
  },
  {
   "cell_type": "code",
   "execution_count": 71,
   "id": "ad7bf9da",
   "metadata": {},
   "outputs": [],
   "source": [
    "url = mini_list18[4]\n",
    "driver = webdriver.Chrome(executable_path='chromedriver.exe')\n",
    "time.sleep(np.random.uniform(2.1,5))\n",
    "driver.get(url)\n",
    "time.sleep(np.random.uniform(2,4.5))\n",
    "newsoup = bs(driver.page_source)\n",
    "time.sleep(np.random.uniform(2,4.5))\n",
    "wineprice = find_price(newsoup)\n",
    "winename = newsoup.find(attrs={\"data-at\":\"product-breadcrumb-productname-text\"}).text\n",
    "winebrand = newsoup.find(text='BRAND').findNext().text\n",
    "winecountrystate = find_countrystate(newsoup)\n",
    "wineregion = find_region(newsoup)\n",
    "wineappellation = find_appellation(newsoup)\n",
    "winevarietal = find_varietal(newsoup)\n",
    "winestyle = find_style(newsoup)\n",
    "wineabv = find_abv(newsoup)\n",
    "winetaste = find_taste(newsoup)\n",
    "winebody = find_body(newsoup)\n",
    "warating = newsoup.find(attrs={\"data-at\":\"product-badge-container\"}).text\n",
    "customeravgrating = find_avgrating(newsoup)\n",
    "customertotalratings = newsoup.find(class_=\"bv_numReviews_text\").text.strip(\"()\")\n",
    "update_list_w_dict(newsoup)\n",
    "driver.quit()\n",
    "time.sleep(np.random.uniform(2,4))"
   ]
  },
  {
   "cell_type": "code",
   "execution_count": 72,
   "id": "78dcdd0e",
   "metadata": {},
   "outputs": [
    {
     "data": {
      "text/plain": [
       "5"
      ]
     },
     "execution_count": 72,
     "metadata": {},
     "output_type": "execute_result"
    }
   ],
   "source": [
    "len(product_data)"
   ]
  },
  {
   "cell_type": "code",
   "execution_count": 73,
   "id": "a30af8a8",
   "metadata": {},
   "outputs": [],
   "source": [
    "df = pd.DataFrame(product_data)\n",
    "df.to_csv('wine_data1.csv', mode='a', header=False)"
   ]
  },
  {
   "cell_type": "code",
   "execution_count": null,
   "id": "91273db9",
   "metadata": {},
   "outputs": [],
   "source": []
  },
  {
   "cell_type": "code",
   "execution_count": 74,
   "id": "148d4d25",
   "metadata": {},
   "outputs": [],
   "source": [
    "product_data=[]\n",
    "#ML 19"
   ]
  },
  {
   "cell_type": "code",
   "execution_count": 75,
   "id": "06e336c8",
   "metadata": {},
   "outputs": [],
   "source": [
    "url = mini_list19[0]\n",
    "driver = webdriver.Chrome(executable_path='chromedriver.exe')\n",
    "time.sleep(np.random.uniform(2.1,5))\n",
    "driver.get(url)\n",
    "time.sleep(np.random.uniform(2,4.5))\n",
    "newsoup = bs(driver.page_source)\n",
    "time.sleep(np.random.uniform(2,4.5))\n",
    "wineprice = find_price(newsoup)\n",
    "winename = newsoup.find(attrs={\"data-at\":\"product-breadcrumb-productname-text\"}).text\n",
    "winebrand = newsoup.find(text='BRAND').findNext().text\n",
    "winecountrystate = find_countrystate(newsoup)\n",
    "wineregion = find_region(newsoup)\n",
    "wineappellation = find_appellation(newsoup)\n",
    "winevarietal = find_varietal(newsoup)\n",
    "winestyle = find_style(newsoup)\n",
    "wineabv = find_abv(newsoup)\n",
    "winetaste = find_taste(newsoup)\n",
    "winebody = find_body(newsoup)\n",
    "warating = newsoup.find(attrs={\"data-at\":\"product-badge-container\"}).text\n",
    "customeravgrating = find_avgrating(newsoup)\n",
    "customertotalratings = newsoup.find(class_=\"bv_numReviews_text\").text.strip(\"()\")\n",
    "update_list_w_dict(newsoup)\n",
    "driver.quit()\n",
    "time.sleep(np.random.uniform(2,4))"
   ]
  },
  {
   "cell_type": "code",
   "execution_count": 76,
   "id": "fcc561ba",
   "metadata": {},
   "outputs": [],
   "source": [
    "url = mini_list19[1]\n",
    "driver = webdriver.Chrome(executable_path='chromedriver.exe')\n",
    "time.sleep(np.random.uniform(2.1,5))\n",
    "driver.get(url)\n",
    "time.sleep(np.random.uniform(2,4.5))\n",
    "newsoup = bs(driver.page_source)\n",
    "time.sleep(np.random.uniform(2,4.5))\n",
    "wineprice = find_price(newsoup)\n",
    "winename = newsoup.find(attrs={\"data-at\":\"product-breadcrumb-productname-text\"}).text\n",
    "winebrand = newsoup.find(text='BRAND').findNext().text\n",
    "winecountrystate = find_countrystate(newsoup)\n",
    "wineregion = find_region(newsoup)\n",
    "wineappellation = find_appellation(newsoup)\n",
    "winevarietal = find_varietal(newsoup)\n",
    "winestyle = find_style(newsoup)\n",
    "wineabv = find_abv(newsoup)\n",
    "winetaste = find_taste(newsoup)\n",
    "winebody = find_body(newsoup)\n",
    "warating = newsoup.find(attrs={\"data-at\":\"product-badge-container\"}).text\n",
    "customeravgrating = find_avgrating(newsoup)\n",
    "customertotalratings = newsoup.find(class_=\"bv_numReviews_text\").text.strip(\"()\")\n",
    "update_list_w_dict(newsoup)\n",
    "driver.quit()\n",
    "time.sleep(np.random.uniform(2,4))"
   ]
  },
  {
   "cell_type": "code",
   "execution_count": 77,
   "id": "6babb3be",
   "metadata": {},
   "outputs": [],
   "source": [
    "url = mini_list19[2]\n",
    "driver = webdriver.Chrome(executable_path='chromedriver.exe')\n",
    "time.sleep(np.random.uniform(2.1,5))\n",
    "driver.get(url)\n",
    "time.sleep(np.random.uniform(2,4.5))\n",
    "newsoup = bs(driver.page_source)\n",
    "time.sleep(np.random.uniform(2,4.5))\n",
    "wineprice = find_price(newsoup)\n",
    "winename = newsoup.find(attrs={\"data-at\":\"product-breadcrumb-productname-text\"}).text\n",
    "winebrand = newsoup.find(text='BRAND').findNext().text\n",
    "winecountrystate = find_countrystate(newsoup)\n",
    "wineregion = find_region(newsoup)\n",
    "wineappellation = find_appellation(newsoup)\n",
    "winevarietal = find_varietal(newsoup)\n",
    "winestyle = find_style(newsoup)\n",
    "wineabv = find_abv(newsoup)\n",
    "winetaste = find_taste(newsoup)\n",
    "winebody = find_body(newsoup)\n",
    "warating = newsoup.find(attrs={\"data-at\":\"product-badge-container\"}).text\n",
    "customeravgrating = find_avgrating(newsoup)\n",
    "customertotalratings = newsoup.find(class_=\"bv_numReviews_text\").text.strip(\"()\")\n",
    "update_list_w_dict(newsoup)\n",
    "driver.quit()\n",
    "time.sleep(np.random.uniform(2,4))"
   ]
  },
  {
   "cell_type": "code",
   "execution_count": 80,
   "id": "a5d3f457",
   "metadata": {},
   "outputs": [],
   "source": [
    "url = mini_list19[3]\n",
    "driver = webdriver.Chrome(executable_path='chromedriver.exe')\n",
    "time.sleep(np.random.uniform(2.1,5.1))\n",
    "driver.get(url)\n",
    "time.sleep(np.random.uniform(2,4.5))\n",
    "newsoup = bs(driver.page_source)\n",
    "time.sleep(np.random.uniform(2,4.5))\n",
    "wineprice = find_price(newsoup)\n",
    "winename = newsoup.find(attrs={\"data-at\":\"product-breadcrumb-productname-text\"}).text\n",
    "winebrand = newsoup.find(text='BRAND').findNext().text\n",
    "winecountrystate = find_countrystate(newsoup)\n",
    "wineregion = find_region(newsoup)\n",
    "wineappellation = find_appellation(newsoup)\n",
    "winevarietal = find_varietal(newsoup)\n",
    "winestyle = find_style(newsoup)\n",
    "wineabv = find_abv(newsoup)\n",
    "winetaste = find_taste(newsoup)\n",
    "winebody = find_body(newsoup)\n",
    "warating = newsoup.find(attrs={\"data-at\":\"product-badge-container\"}).text\n",
    "customeravgrating = find_avgrating(newsoup)\n",
    "customertotalratings = newsoup.find(class_=\"bv_numReviews_text\").text.strip(\"()\")\n",
    "update_list_w_dict(newsoup)\n",
    "driver.quit()\n",
    "time.sleep(np.random.uniform(2,4))"
   ]
  },
  {
   "cell_type": "code",
   "execution_count": 81,
   "id": "5edfebfa",
   "metadata": {},
   "outputs": [],
   "source": [
    "url = mini_list19[4]\n",
    "driver = webdriver.Chrome(executable_path='chromedriver.exe')\n",
    "time.sleep(np.random.uniform(2.1,5))\n",
    "driver.get(url)\n",
    "time.sleep(np.random.uniform(2,4.5))\n",
    "newsoup = bs(driver.page_source)\n",
    "time.sleep(np.random.uniform(2,4.5))\n",
    "wineprice = find_price(newsoup)\n",
    "winename = newsoup.find(attrs={\"data-at\":\"product-breadcrumb-productname-text\"}).text\n",
    "winebrand = newsoup.find(text='BRAND').findNext().text\n",
    "winecountrystate = find_countrystate(newsoup)\n",
    "wineregion = find_region(newsoup)\n",
    "wineappellation = find_appellation(newsoup)\n",
    "winevarietal = find_varietal(newsoup)\n",
    "winestyle = find_style(newsoup)\n",
    "wineabv = find_abv(newsoup)\n",
    "winetaste = find_taste(newsoup)\n",
    "winebody = find_body(newsoup)\n",
    "warating = newsoup.find(attrs={\"data-at\":\"product-badge-container\"}).text\n",
    "customeravgrating = find_avgrating(newsoup)\n",
    "customertotalratings = newsoup.find(class_=\"bv_numReviews_text\").text.strip(\"()\")\n",
    "update_list_w_dict(newsoup)\n",
    "driver.quit()\n",
    "time.sleep(np.random.uniform(2,4))"
   ]
  },
  {
   "cell_type": "code",
   "execution_count": 82,
   "id": "970acb4d",
   "metadata": {},
   "outputs": [
    {
     "data": {
      "text/plain": [
       "5"
      ]
     },
     "execution_count": 82,
     "metadata": {},
     "output_type": "execute_result"
    }
   ],
   "source": [
    "len(product_data)"
   ]
  },
  {
   "cell_type": "code",
   "execution_count": 83,
   "id": "e0512a95",
   "metadata": {},
   "outputs": [],
   "source": [
    "df = pd.DataFrame(product_data)\n",
    "df.to_csv('wine_data1.csv', mode='a', header=False)"
   ]
  },
  {
   "cell_type": "code",
   "execution_count": null,
   "id": "c91016ab",
   "metadata": {},
   "outputs": [],
   "source": []
  },
  {
   "cell_type": "code",
   "execution_count": 84,
   "id": "e166fd31",
   "metadata": {},
   "outputs": [],
   "source": [
    "product_data=[]\n",
    "#ML 20"
   ]
  },
  {
   "cell_type": "code",
   "execution_count": 85,
   "id": "511ff643",
   "metadata": {},
   "outputs": [],
   "source": [
    "url = mini_list20[0]\n",
    "driver = webdriver.Chrome(executable_path='chromedriver.exe')\n",
    "time.sleep(np.random.uniform(2.1,5))\n",
    "driver.get(url)\n",
    "time.sleep(np.random.uniform(2,4.5))\n",
    "newsoup = bs(driver.page_source)\n",
    "time.sleep(np.random.uniform(2,4.5))\n",
    "wineprice = find_price(newsoup)\n",
    "winename = newsoup.find(attrs={\"data-at\":\"product-breadcrumb-productname-text\"}).text\n",
    "winebrand = newsoup.find(text='BRAND').findNext().text\n",
    "winecountrystate = find_countrystate(newsoup)\n",
    "wineregion = find_region(newsoup)\n",
    "wineappellation = find_appellation(newsoup)\n",
    "winevarietal = find_varietal(newsoup)\n",
    "winestyle = find_style(newsoup)\n",
    "wineabv = find_abv(newsoup)\n",
    "winetaste = find_taste(newsoup)\n",
    "winebody = find_body(newsoup)\n",
    "warating = newsoup.find(attrs={\"data-at\":\"product-badge-container\"}).text\n",
    "customeravgrating = find_avgrating(newsoup)\n",
    "customertotalratings = newsoup.find(class_=\"bv_numReviews_text\").text.strip(\"()\")\n",
    "update_list_w_dict(newsoup)\n",
    "driver.quit()\n",
    "time.sleep(np.random.uniform(2,4))"
   ]
  },
  {
   "cell_type": "code",
   "execution_count": 87,
   "id": "33df73b4",
   "metadata": {},
   "outputs": [],
   "source": [
    "url = mini_list20[1]\n",
    "driver = webdriver.Chrome(executable_path='chromedriver.exe')\n",
    "time.sleep(np.random.uniform(2.1,5))\n",
    "driver.get(url)\n",
    "time.sleep(np.random.uniform(2,4.5))\n",
    "newsoup = bs(driver.page_source)\n",
    "time.sleep(np.random.uniform(2,4.5))\n",
    "wineprice = find_price(newsoup)\n",
    "winename = newsoup.find(attrs={\"data-at\":\"product-breadcrumb-productname-text\"}).text\n",
    "winebrand = newsoup.find(text='BRAND').findNext().text\n",
    "winecountrystate = find_countrystate(newsoup)\n",
    "wineregion = find_region(newsoup)\n",
    "wineappellation = find_appellation(newsoup)\n",
    "winevarietal = find_varietal(newsoup)\n",
    "winestyle = find_style(newsoup)\n",
    "wineabv = find_abv(newsoup)\n",
    "winetaste = find_taste(newsoup)\n",
    "winebody = find_body(newsoup)\n",
    "warating = newsoup.find(attrs={\"data-at\":\"product-badge-container\"}).text\n",
    "customeravgrating = find_avgrating(newsoup)\n",
    "customertotalratings = newsoup.find(class_=\"bv_numReviews_text\").text.strip(\"()\")\n",
    "update_list_w_dict(newsoup)\n",
    "driver.quit()\n",
    "time.sleep(np.random.uniform(2,4))"
   ]
  },
  {
   "cell_type": "code",
   "execution_count": 88,
   "id": "c855121a",
   "metadata": {},
   "outputs": [],
   "source": [
    "url = mini_list20[2]\n",
    "driver = webdriver.Chrome(executable_path='chromedriver.exe')\n",
    "time.sleep(np.random.uniform(2.1,5))\n",
    "driver.get(url)\n",
    "time.sleep(np.random.uniform(2,4.5))\n",
    "newsoup = bs(driver.page_source)\n",
    "time.sleep(np.random.uniform(2,4.5))\n",
    "wineprice = find_price(newsoup)\n",
    "winename = newsoup.find(attrs={\"data-at\":\"product-breadcrumb-productname-text\"}).text\n",
    "winebrand = newsoup.find(text='BRAND').findNext().text\n",
    "winecountrystate = find_countrystate(newsoup)\n",
    "wineregion = find_region(newsoup)\n",
    "wineappellation = find_appellation(newsoup)\n",
    "winevarietal = find_varietal(newsoup)\n",
    "winestyle = find_style(newsoup)\n",
    "wineabv = find_abv(newsoup)\n",
    "winetaste = find_taste(newsoup)\n",
    "winebody = find_body(newsoup)\n",
    "warating = newsoup.find(attrs={\"data-at\":\"product-badge-container\"}).text\n",
    "customeravgrating = find_avgrating(newsoup)\n",
    "customertotalratings = newsoup.find(class_=\"bv_numReviews_text\").text.strip(\"()\")\n",
    "update_list_w_dict(newsoup)\n",
    "driver.quit()\n",
    "time.sleep(np.random.uniform(2,4))"
   ]
  },
  {
   "cell_type": "code",
   "execution_count": 89,
   "id": "12a1dcc3",
   "metadata": {},
   "outputs": [],
   "source": [
    "url = mini_list20[3]\n",
    "driver = webdriver.Chrome(executable_path='chromedriver.exe')\n",
    "time.sleep(np.random.uniform(2.1,5.5))\n",
    "driver.get(url)\n",
    "time.sleep(np.random.uniform(2,4.5))\n",
    "newsoup = bs(driver.page_source)\n",
    "time.sleep(np.random.uniform(2,4.5))\n",
    "wineprice = find_price(newsoup)\n",
    "winename = newsoup.find(attrs={\"data-at\":\"product-breadcrumb-productname-text\"}).text\n",
    "winebrand = newsoup.find(text='BRAND').findNext().text\n",
    "winecountrystate = find_countrystate(newsoup)\n",
    "wineregion = find_region(newsoup)\n",
    "wineappellation = find_appellation(newsoup)\n",
    "winevarietal = find_varietal(newsoup)\n",
    "winestyle = find_style(newsoup)\n",
    "wineabv = find_abv(newsoup)\n",
    "winetaste = find_taste(newsoup)\n",
    "winebody = find_body(newsoup)\n",
    "warating = newsoup.find(attrs={\"data-at\":\"product-badge-container\"}).text\n",
    "customeravgrating = find_avgrating(newsoup)\n",
    "customertotalratings = newsoup.find(class_=\"bv_numReviews_text\").text.strip(\"()\")\n",
    "update_list_w_dict(newsoup)\n",
    "driver.quit()\n",
    "time.sleep(np.random.uniform(2,4))"
   ]
  },
  {
   "cell_type": "code",
   "execution_count": 90,
   "id": "5905a76c",
   "metadata": {},
   "outputs": [],
   "source": [
    "url = mini_list20[4]\n",
    "driver = webdriver.Chrome(executable_path='chromedriver.exe')\n",
    "time.sleep(np.random.uniform(2.1,5))\n",
    "driver.get(url)\n",
    "time.sleep(np.random.uniform(2,4.5))\n",
    "newsoup = bs(driver.page_source)\n",
    "time.sleep(np.random.uniform(2,4.5))\n",
    "wineprice = find_price(newsoup)\n",
    "winename = newsoup.find(attrs={\"data-at\":\"product-breadcrumb-productname-text\"}).text\n",
    "winebrand = newsoup.find(text='BRAND').findNext().text\n",
    "winecountrystate = find_countrystate(newsoup)\n",
    "wineregion = find_region(newsoup)\n",
    "wineappellation = find_appellation(newsoup)\n",
    "winevarietal = find_varietal(newsoup)\n",
    "winestyle = find_style(newsoup)\n",
    "wineabv = find_abv(newsoup)\n",
    "winetaste = find_taste(newsoup)\n",
    "winebody = find_body(newsoup)\n",
    "warating = newsoup.find(attrs={\"data-at\":\"product-badge-container\"}).text\n",
    "customeravgrating = find_avgrating(newsoup)\n",
    "customertotalratings = newsoup.find(class_=\"bv_numReviews_text\").text.strip(\"()\")\n",
    "update_list_w_dict(newsoup)\n",
    "driver.quit()\n",
    "time.sleep(np.random.uniform(2,4))"
   ]
  },
  {
   "cell_type": "code",
   "execution_count": 91,
   "id": "527283a5",
   "metadata": {},
   "outputs": [
    {
     "data": {
      "text/plain": [
       "5"
      ]
     },
     "execution_count": 91,
     "metadata": {},
     "output_type": "execute_result"
    }
   ],
   "source": [
    "len(product_data)"
   ]
  },
  {
   "cell_type": "code",
   "execution_count": 92,
   "id": "1b2bc382",
   "metadata": {},
   "outputs": [],
   "source": [
    "df = pd.DataFrame(product_data)\n",
    "df.to_csv('wine_data1.csv', mode='a', header=False)"
   ]
  },
  {
   "cell_type": "code",
   "execution_count": null,
   "id": "45201bc9",
   "metadata": {},
   "outputs": [],
   "source": []
  },
  {
   "cell_type": "code",
   "execution_count": 93,
   "id": "fc35a90c",
   "metadata": {},
   "outputs": [],
   "source": [
    "product_data=[]\n",
    "#ML 21"
   ]
  },
  {
   "cell_type": "code",
   "execution_count": 94,
   "id": "845b59ab",
   "metadata": {},
   "outputs": [],
   "source": [
    "url = mini_list21[0]\n",
    "driver = webdriver.Chrome(executable_path='chromedriver.exe')\n",
    "time.sleep(np.random.uniform(2.1,5))\n",
    "driver.get(url)\n",
    "time.sleep(np.random.uniform(2,4.5))\n",
    "newsoup = bs(driver.page_source)\n",
    "time.sleep(np.random.uniform(2,4.5))\n",
    "wineprice = find_price(newsoup)\n",
    "winename = newsoup.find(attrs={\"data-at\":\"product-breadcrumb-productname-text\"}).text\n",
    "winebrand = newsoup.find(text='BRAND').findNext().text\n",
    "winecountrystate = find_countrystate(newsoup)\n",
    "wineregion = find_region(newsoup)\n",
    "wineappellation = find_appellation(newsoup)\n",
    "winevarietal = find_varietal(newsoup)\n",
    "winestyle = find_style(newsoup)\n",
    "wineabv = find_abv(newsoup)\n",
    "winetaste = find_taste(newsoup)\n",
    "winebody = find_body(newsoup)\n",
    "warating = newsoup.find(attrs={\"data-at\":\"product-badge-container\"}).text\n",
    "customeravgrating = find_avgrating(newsoup)\n",
    "customertotalratings = newsoup.find(class_=\"bv_numReviews_text\").text.strip(\"()\")\n",
    "update_list_w_dict(newsoup)\n",
    "driver.quit()\n",
    "time.sleep(np.random.uniform(2,4))"
   ]
  },
  {
   "cell_type": "code",
   "execution_count": 95,
   "id": "469a6b3c",
   "metadata": {},
   "outputs": [],
   "source": [
    "url = mini_list21[1]\n",
    "driver = webdriver.Chrome(executable_path='chromedriver.exe')\n",
    "time.sleep(np.random.uniform(2.1,5))\n",
    "driver.get(url)\n",
    "time.sleep(np.random.uniform(2,4.5))\n",
    "newsoup = bs(driver.page_source)\n",
    "time.sleep(np.random.uniform(2,4.5))\n",
    "wineprice = find_price(newsoup)\n",
    "winename = newsoup.find(attrs={\"data-at\":\"product-breadcrumb-productname-text\"}).text\n",
    "winebrand = newsoup.find(text='BRAND').findNext().text\n",
    "winecountrystate = find_countrystate(newsoup)\n",
    "wineregion = find_region(newsoup)\n",
    "wineappellation = find_appellation(newsoup)\n",
    "winevarietal = find_varietal(newsoup)\n",
    "winestyle = find_style(newsoup)\n",
    "wineabv = find_abv(newsoup)\n",
    "winetaste = find_taste(newsoup)\n",
    "winebody = find_body(newsoup)\n",
    "warating = newsoup.find(attrs={\"data-at\":\"product-badge-container\"}).text\n",
    "customeravgrating = find_avgrating(newsoup)\n",
    "customertotalratings = newsoup.find(class_=\"bv_numReviews_text\").text.strip(\"()\")\n",
    "update_list_w_dict(newsoup)\n",
    "driver.quit()\n",
    "time.sleep(np.random.uniform(2,4))"
   ]
  },
  {
   "cell_type": "code",
   "execution_count": 98,
   "id": "de907c70",
   "metadata": {},
   "outputs": [],
   "source": [
    "url = mini_list21[2]\n",
    "driver = webdriver.Chrome(executable_path='chromedriver.exe')\n",
    "time.sleep(np.random.uniform(2.1,5.5))\n",
    "driver.get(url)\n",
    "time.sleep(np.random.uniform(2,4.5))\n",
    "newsoup = bs(driver.page_source)\n",
    "time.sleep(np.random.uniform(2,4.5))\n",
    "wineprice = find_price(newsoup)\n",
    "winename = newsoup.find(attrs={\"data-at\":\"product-breadcrumb-productname-text\"}).text\n",
    "winebrand = newsoup.find(text='BRAND').findNext().text\n",
    "winecountrystate = find_countrystate(newsoup)\n",
    "wineregion = find_region(newsoup)\n",
    "wineappellation = find_appellation(newsoup)\n",
    "winevarietal = find_varietal(newsoup)\n",
    "winestyle = find_style(newsoup)\n",
    "wineabv = find_abv(newsoup)\n",
    "winetaste = find_taste(newsoup)\n",
    "winebody = find_body(newsoup)\n",
    "warating = newsoup.find(attrs={\"data-at\":\"product-badge-container\"}).text\n",
    "customeravgrating = find_avgrating(newsoup)\n",
    "customertotalratings = newsoup.find(class_=\"bv_numReviews_text\").text.strip(\"()\")\n",
    "update_list_w_dict(newsoup)\n",
    "driver.quit()\n",
    "time.sleep(np.random.uniform(2,4))"
   ]
  },
  {
   "cell_type": "code",
   "execution_count": 100,
   "id": "5e9cbbb7",
   "metadata": {},
   "outputs": [],
   "source": [
    "url = mini_list21[3]\n",
    "driver = webdriver.Chrome(executable_path='chromedriver.exe')\n",
    "time.sleep(np.random.uniform(2.1,5))\n",
    "driver.get(url)\n",
    "time.sleep(np.random.uniform(2,4.5))\n",
    "newsoup = bs(driver.page_source)\n",
    "time.sleep(np.random.uniform(2,4.5))\n",
    "wineprice = find_price(newsoup)\n",
    "winename = newsoup.find(attrs={\"data-at\":\"product-breadcrumb-productname-text\"}).text\n",
    "winebrand = newsoup.find(text='BRAND').findNext().text\n",
    "winecountrystate = find_countrystate(newsoup)\n",
    "wineregion = find_region(newsoup)\n",
    "wineappellation = find_appellation(newsoup)\n",
    "winevarietal = find_varietal(newsoup)\n",
    "winestyle = find_style(newsoup)\n",
    "wineabv = find_abv(newsoup)\n",
    "winetaste = find_taste(newsoup)\n",
    "winebody = find_body(newsoup)\n",
    "warating = newsoup.find(attrs={\"data-at\":\"product-badge-container\"}).text\n",
    "customeravgrating = find_avgrating(newsoup)\n",
    "customertotalratings = newsoup.find(class_=\"bv_numReviews_text\").text.strip(\"()\")\n",
    "update_list_w_dict(newsoup)\n",
    "driver.quit()\n",
    "time.sleep(np.random.uniform(2,4))"
   ]
  },
  {
   "cell_type": "code",
   "execution_count": 101,
   "id": "e0f00ba9",
   "metadata": {},
   "outputs": [],
   "source": [
    "url = mini_list21[4]\n",
    "driver = webdriver.Chrome(executable_path='chromedriver.exe')\n",
    "time.sleep(np.random.uniform(2.1,5))\n",
    "driver.get(url)\n",
    "time.sleep(np.random.uniform(2,4.5))\n",
    "newsoup = bs(driver.page_source)\n",
    "time.sleep(np.random.uniform(2,4.5))\n",
    "wineprice = find_price(newsoup)\n",
    "winename = newsoup.find(attrs={\"data-at\":\"product-breadcrumb-productname-text\"}).text\n",
    "winebrand = newsoup.find(text='BRAND').findNext().text\n",
    "winecountrystate = find_countrystate(newsoup)\n",
    "wineregion = find_region(newsoup)\n",
    "wineappellation = find_appellation(newsoup)\n",
    "winevarietal = find_varietal(newsoup)\n",
    "winestyle = find_style(newsoup)\n",
    "wineabv = find_abv(newsoup)\n",
    "winetaste = find_taste(newsoup)\n",
    "winebody = find_body(newsoup)\n",
    "warating = newsoup.find(attrs={\"data-at\":\"product-badge-container\"}).text\n",
    "customeravgrating = find_avgrating(newsoup)\n",
    "customertotalratings = newsoup.find(class_=\"bv_numReviews_text\").text.strip(\"()\")\n",
    "update_list_w_dict(newsoup)\n",
    "driver.quit()\n",
    "time.sleep(np.random.uniform(2,4))"
   ]
  },
  {
   "cell_type": "code",
   "execution_count": 102,
   "id": "e36ccfe6",
   "metadata": {},
   "outputs": [
    {
     "data": {
      "text/plain": [
       "5"
      ]
     },
     "execution_count": 102,
     "metadata": {},
     "output_type": "execute_result"
    }
   ],
   "source": [
    "len(product_data)"
   ]
  },
  {
   "cell_type": "code",
   "execution_count": 103,
   "id": "23ea47ac",
   "metadata": {},
   "outputs": [],
   "source": [
    "df = pd.DataFrame(product_data)\n",
    "df.to_csv('wine_data1.csv', mode='a', header=False)"
   ]
  },
  {
   "cell_type": "code",
   "execution_count": null,
   "id": "b0b066b9",
   "metadata": {},
   "outputs": [],
   "source": []
  },
  {
   "cell_type": "code",
   "execution_count": 15,
   "id": "e1d7ee73",
   "metadata": {},
   "outputs": [],
   "source": [
    "product_data=[]\n",
    "#ML 22"
   ]
  },
  {
   "cell_type": "code",
   "execution_count": 16,
   "id": "627ea06c",
   "metadata": {},
   "outputs": [],
   "source": [
    "url = mini_list22[0]\n",
    "driver = webdriver.Chrome(executable_path='chromedriver.exe')\n",
    "time.sleep(np.random.uniform(2.1,5))\n",
    "driver.get(url)\n",
    "time.sleep(np.random.uniform(2,4.5))\n",
    "newsoup = bs(driver.page_source)\n",
    "time.sleep(np.random.uniform(2,4.5))\n",
    "wineprice = find_price(newsoup)\n",
    "winename = newsoup.find(attrs={\"data-at\":\"product-breadcrumb-productname-text\"}).text\n",
    "winebrand = newsoup.find(text='BRAND').findNext().text\n",
    "winecountrystate = find_countrystate(newsoup)\n",
    "wineregion = find_region(newsoup)\n",
    "wineappellation = find_appellation(newsoup)\n",
    "winevarietal = find_varietal(newsoup)\n",
    "winestyle = find_style(newsoup)\n",
    "wineabv = find_abv(newsoup)\n",
    "winetaste = find_taste(newsoup)\n",
    "winebody = find_body(newsoup)\n",
    "warating = newsoup.find(attrs={\"data-at\":\"product-badge-container\"}).text\n",
    "customeravgrating = find_avgrating(newsoup)\n",
    "customertotalratings = newsoup.find(class_=\"bv_numReviews_text\").text.strip(\"()\")\n",
    "update_list_w_dict(newsoup)\n",
    "driver.quit()\n",
    "time.sleep(np.random.uniform(2,4))"
   ]
  },
  {
   "cell_type": "code",
   "execution_count": 19,
   "id": "fde20c9c",
   "metadata": {},
   "outputs": [],
   "source": [
    "url = mini_list22[1]\n",
    "driver = webdriver.Chrome(executable_path='chromedriver.exe')\n",
    "time.sleep(np.random.uniform(2.1,5))\n",
    "driver.get(url)\n",
    "time.sleep(np.random.uniform(2,4.5))\n",
    "newsoup = bs(driver.page_source)\n",
    "time.sleep(np.random.uniform(2,4.5))\n",
    "wineprice = find_price(newsoup)\n",
    "winename = newsoup.find(attrs={\"data-at\":\"product-breadcrumb-productname-text\"}).text\n",
    "winebrand = newsoup.find(text='BRAND').findNext().text\n",
    "winecountrystate = find_countrystate(newsoup)\n",
    "wineregion = find_region(newsoup)\n",
    "wineappellation = find_appellation(newsoup)\n",
    "winevarietal = find_varietal(newsoup)\n",
    "winestyle = find_style(newsoup)\n",
    "wineabv = find_abv(newsoup)\n",
    "winetaste = find_taste(newsoup)\n",
    "winebody = find_body(newsoup)\n",
    "warating = newsoup.find(attrs={\"data-at\":\"product-badge-container\"}).text\n",
    "customeravgrating = find_avgrating(newsoup)\n",
    "customertotalratings = newsoup.find(class_=\"bv_numReviews_text\").text.strip(\"()\")\n",
    "update_list_w_dict(newsoup)\n",
    "driver.quit()\n",
    "time.sleep(np.random.uniform(2,4))"
   ]
  },
  {
   "cell_type": "code",
   "execution_count": 20,
   "id": "591e2535",
   "metadata": {},
   "outputs": [],
   "source": [
    "url = mini_list22[2]\n",
    "driver = webdriver.Chrome(executable_path='chromedriver.exe')\n",
    "time.sleep(np.random.uniform(2,4))\n",
    "driver.get(url)\n",
    "time.sleep(np.random.uniform(2,4.5))\n",
    "newsoup = bs(driver.page_source)\n",
    "time.sleep(np.random.uniform(2,4.5))\n",
    "wineprice = find_price(newsoup)\n",
    "winename = newsoup.find(attrs={\"data-at\":\"product-breadcrumb-productname-text\"}).text\n",
    "winebrand = newsoup.find(text='BRAND').findNext().text\n",
    "winecountrystate = find_countrystate(newsoup)\n",
    "wineregion = find_region(newsoup)\n",
    "wineappellation = find_appellation(newsoup)\n",
    "winevarietal = find_varietal(newsoup)\n",
    "winestyle = find_style(newsoup)\n",
    "wineabv = find_abv(newsoup)\n",
    "winetaste = find_taste(newsoup)\n",
    "winebody = find_body(newsoup)\n",
    "warating = newsoup.find(attrs={\"data-at\":\"product-badge-container\"}).text\n",
    "customeravgrating = find_avgrating(newsoup)\n",
    "customertotalratings = newsoup.find(class_=\"bv_numReviews_text\").text.strip(\"()\")\n",
    "update_list_w_dict(newsoup)\n",
    "driver.quit()\n",
    "time.sleep(np.random.uniform(2,4))"
   ]
  },
  {
   "cell_type": "code",
   "execution_count": 21,
   "id": "48468e42",
   "metadata": {},
   "outputs": [],
   "source": [
    "url = mini_list22[3]\n",
    "driver = webdriver.Chrome(executable_path='chromedriver.exe')\n",
    "time.sleep(np.random.uniform(2.1,5))\n",
    "driver.get(url)\n",
    "time.sleep(np.random.uniform(2,4.5))\n",
    "newsoup = bs(driver.page_source)\n",
    "time.sleep(np.random.uniform(2,4.5))\n",
    "wineprice = find_price(newsoup)\n",
    "winename = newsoup.find(attrs={\"data-at\":\"product-breadcrumb-productname-text\"}).text\n",
    "winebrand = newsoup.find(text='BRAND').findNext().text\n",
    "winecountrystate = find_countrystate(newsoup)\n",
    "wineregion = find_region(newsoup)\n",
    "wineappellation = find_appellation(newsoup)\n",
    "winevarietal = find_varietal(newsoup)\n",
    "winestyle = find_style(newsoup)\n",
    "wineabv = find_abv(newsoup)\n",
    "winetaste = find_taste(newsoup)\n",
    "winebody = find_body(newsoup)\n",
    "warating = newsoup.find(attrs={\"data-at\":\"product-badge-container\"}).text\n",
    "customeravgrating = find_avgrating(newsoup)\n",
    "customertotalratings = newsoup.find(class_=\"bv_numReviews_text\").text.strip(\"()\")\n",
    "update_list_w_dict(newsoup)\n",
    "driver.quit()\n",
    "time.sleep(np.random.uniform(2,4))"
   ]
  },
  {
   "cell_type": "code",
   "execution_count": 24,
   "id": "85bab555",
   "metadata": {},
   "outputs": [],
   "source": [
    "url = mini_list22[4]\n",
    "driver = webdriver.Chrome(executable_path='chromedriver.exe')\n",
    "time.sleep(np.random.uniform(2.1,5.5))\n",
    "driver.get(url)\n",
    "time.sleep(np.random.uniform(2,4.5))\n",
    "newsoup = bs(driver.page_source)\n",
    "time.sleep(np.random.uniform(2,4.5))\n",
    "wineprice = find_price(newsoup)\n",
    "winename = newsoup.find(attrs={\"data-at\":\"product-breadcrumb-productname-text\"}).text\n",
    "winebrand = newsoup.find(text='BRAND').findNext().text\n",
    "winecountrystate = find_countrystate(newsoup)\n",
    "wineregion = find_region(newsoup)\n",
    "wineappellation = find_appellation(newsoup)\n",
    "winevarietal = find_varietal(newsoup)\n",
    "winestyle = find_style(newsoup)\n",
    "wineabv = find_abv(newsoup)\n",
    "winetaste = find_taste(newsoup)\n",
    "winebody = find_body(newsoup)\n",
    "warating = newsoup.find(attrs={\"data-at\":\"product-badge-container\"}).text\n",
    "customeravgrating = find_avgrating(newsoup)\n",
    "customertotalratings = newsoup.find(class_=\"bv_numReviews_text\").text.strip(\"()\")\n",
    "update_list_w_dict(newsoup)\n",
    "driver.quit()\n",
    "time.sleep(np.random.uniform(2,4))"
   ]
  },
  {
   "cell_type": "code",
   "execution_count": 25,
   "id": "b98335c2",
   "metadata": {},
   "outputs": [
    {
     "data": {
      "text/plain": [
       "5"
      ]
     },
     "execution_count": 25,
     "metadata": {},
     "output_type": "execute_result"
    }
   ],
   "source": [
    "len(product_data)"
   ]
  },
  {
   "cell_type": "code",
   "execution_count": 26,
   "id": "3680664a",
   "metadata": {},
   "outputs": [],
   "source": [
    "df = pd.DataFrame(product_data)\n",
    "df.to_csv('wine_data1.csv', mode='a', header=False)"
   ]
  },
  {
   "cell_type": "code",
   "execution_count": null,
   "id": "7d49101a",
   "metadata": {},
   "outputs": [],
   "source": []
  },
  {
   "cell_type": "code",
   "execution_count": 27,
   "id": "ab414494",
   "metadata": {},
   "outputs": [],
   "source": [
    "product_data=[]\n",
    "#ML 23"
   ]
  },
  {
   "cell_type": "code",
   "execution_count": 28,
   "id": "d5f24863",
   "metadata": {},
   "outputs": [],
   "source": [
    "url = mini_list23[0]\n",
    "driver = webdriver.Chrome(executable_path='chromedriver.exe')\n",
    "time.sleep(np.random.uniform(2.1,5))\n",
    "driver.get(url)\n",
    "time.sleep(np.random.uniform(2,4.5))\n",
    "newsoup = bs(driver.page_source)\n",
    "time.sleep(np.random.uniform(2,4.5))\n",
    "wineprice = find_price(newsoup)\n",
    "winename = newsoup.find(attrs={\"data-at\":\"product-breadcrumb-productname-text\"}).text\n",
    "winebrand = newsoup.find(text='BRAND').findNext().text\n",
    "winecountrystate = find_countrystate(newsoup)\n",
    "wineregion = find_region(newsoup)\n",
    "wineappellation = find_appellation(newsoup)\n",
    "winevarietal = find_varietal(newsoup)\n",
    "winestyle = find_style(newsoup)\n",
    "wineabv = find_abv(newsoup)\n",
    "winetaste = find_taste(newsoup)\n",
    "winebody = find_body(newsoup)\n",
    "warating = newsoup.find(attrs={\"data-at\":\"product-badge-container\"}).text\n",
    "customeravgrating = find_avgrating(newsoup)\n",
    "customertotalratings = newsoup.find(class_=\"bv_numReviews_text\").text.strip(\"()\")\n",
    "update_list_w_dict(newsoup)\n",
    "driver.quit()\n",
    "time.sleep(np.random.uniform(2,4))"
   ]
  },
  {
   "cell_type": "code",
   "execution_count": 29,
   "id": "d3a1a109",
   "metadata": {},
   "outputs": [],
   "source": [
    "url = mini_list23[1]\n",
    "driver = webdriver.Chrome(executable_path='chromedriver.exe')\n",
    "time.sleep(np.random.uniform(2.1,5))\n",
    "driver.get(url)\n",
    "time.sleep(np.random.uniform(2,4))\n",
    "newsoup = bs(driver.page_source)\n",
    "time.sleep(np.random.uniform(2,4.5))\n",
    "wineprice = find_price(newsoup)\n",
    "winename = newsoup.find(attrs={\"data-at\":\"product-breadcrumb-productname-text\"}).text\n",
    "winebrand = newsoup.find(text='BRAND').findNext().text\n",
    "winecountrystate = find_countrystate(newsoup)\n",
    "wineregion = find_region(newsoup)\n",
    "wineappellation = find_appellation(newsoup)\n",
    "winevarietal = find_varietal(newsoup)\n",
    "winestyle = find_style(newsoup)\n",
    "wineabv = find_abv(newsoup)\n",
    "winetaste = find_taste(newsoup)\n",
    "winebody = find_body(newsoup)\n",
    "warating = newsoup.find(attrs={\"data-at\":\"product-badge-container\"}).text\n",
    "customeravgrating = find_avgrating(newsoup)\n",
    "customertotalratings = newsoup.find(class_=\"bv_numReviews_text\").text.strip(\"()\")\n",
    "update_list_w_dict(newsoup)\n",
    "driver.quit()\n",
    "time.sleep(np.random.uniform(2,4))"
   ]
  },
  {
   "cell_type": "code",
   "execution_count": 30,
   "id": "86b48d3f",
   "metadata": {},
   "outputs": [],
   "source": [
    "url = mini_list23[2]\n",
    "driver = webdriver.Chrome(executable_path='chromedriver.exe')\n",
    "time.sleep(np.random.uniform(2.1,5))\n",
    "driver.get(url)\n",
    "time.sleep(np.random.uniform(2,4.5))\n",
    "newsoup = bs(driver.page_source)\n",
    "time.sleep(np.random.uniform(2,4.5))\n",
    "wineprice = find_price(newsoup)\n",
    "winename = newsoup.find(attrs={\"data-at\":\"product-breadcrumb-productname-text\"}).text\n",
    "winebrand = newsoup.find(text='BRAND').findNext().text\n",
    "winecountrystate = find_countrystate(newsoup)\n",
    "wineregion = find_region(newsoup)\n",
    "wineappellation = find_appellation(newsoup)\n",
    "winevarietal = find_varietal(newsoup)\n",
    "winestyle = find_style(newsoup)\n",
    "wineabv = find_abv(newsoup)\n",
    "winetaste = find_taste(newsoup)\n",
    "winebody = find_body(newsoup)\n",
    "warating = newsoup.find(attrs={\"data-at\":\"product-badge-container\"}).text\n",
    "customeravgrating = find_avgrating(newsoup)\n",
    "customertotalratings = newsoup.find(class_=\"bv_numReviews_text\").text.strip(\"()\")\n",
    "update_list_w_dict(newsoup)\n",
    "driver.quit()\n",
    "time.sleep(np.random.uniform(2,4))"
   ]
  },
  {
   "cell_type": "code",
   "execution_count": 31,
   "id": "bf82afc6",
   "metadata": {},
   "outputs": [],
   "source": [
    "url = mini_list23[3]\n",
    "driver = webdriver.Chrome(executable_path='chromedriver.exe')\n",
    "time.sleep(np.random.uniform(2.1,5))\n",
    "driver.get(url)\n",
    "time.sleep(np.random.uniform(2,4.5))\n",
    "newsoup = bs(driver.page_source)\n",
    "time.sleep(np.random.uniform(2,4.5))\n",
    "wineprice = find_price(newsoup)\n",
    "winename = newsoup.find(attrs={\"data-at\":\"product-breadcrumb-productname-text\"}).text\n",
    "winebrand = newsoup.find(text='BRAND').findNext().text\n",
    "winecountrystate = find_countrystate(newsoup)\n",
    "wineregion = find_region(newsoup)\n",
    "wineappellation = find_appellation(newsoup)\n",
    "winevarietal = find_varietal(newsoup)\n",
    "winestyle = find_style(newsoup)\n",
    "wineabv = find_abv(newsoup)\n",
    "winetaste = find_taste(newsoup)\n",
    "winebody = find_body(newsoup)\n",
    "warating = newsoup.find(attrs={\"data-at\":\"product-badge-container\"}).text\n",
    "customeravgrating = find_avgrating(newsoup)\n",
    "customertotalratings = newsoup.find(class_=\"bv_numReviews_text\").text.strip(\"()\")\n",
    "update_list_w_dict(newsoup)\n",
    "driver.quit()\n",
    "time.sleep(np.random.uniform(2,4))"
   ]
  },
  {
   "cell_type": "code",
   "execution_count": 32,
   "id": "9b03b9c1",
   "metadata": {},
   "outputs": [],
   "source": [
    "url = mini_list23[4]\n",
    "driver = webdriver.Chrome(executable_path='chromedriver.exe')\n",
    "time.sleep(np.random.uniform(2.1,5))\n",
    "driver.get(url)\n",
    "time.sleep(np.random.uniform(2,4.5))\n",
    "newsoup = bs(driver.page_source)\n",
    "time.sleep(np.random.uniform(2,4.5))\n",
    "wineprice = find_price(newsoup)\n",
    "winename = newsoup.find(attrs={\"data-at\":\"product-breadcrumb-productname-text\"}).text\n",
    "winebrand = newsoup.find(text='BRAND').findNext().text\n",
    "winecountrystate = find_countrystate(newsoup)\n",
    "wineregion = find_region(newsoup)\n",
    "wineappellation = find_appellation(newsoup)\n",
    "winevarietal = find_varietal(newsoup)\n",
    "winestyle = find_style(newsoup)\n",
    "wineabv = find_abv(newsoup)\n",
    "winetaste = find_taste(newsoup)\n",
    "winebody = find_body(newsoup)\n",
    "warating = newsoup.find(attrs={\"data-at\":\"product-badge-container\"}).text\n",
    "customeravgrating = find_avgrating(newsoup)\n",
    "customertotalratings = newsoup.find(class_=\"bv_numReviews_text\").text.strip(\"()\")\n",
    "update_list_w_dict(newsoup)\n",
    "driver.quit()\n",
    "time.sleep(np.random.uniform(2,4))"
   ]
  },
  {
   "cell_type": "code",
   "execution_count": 33,
   "id": "5b8af03e",
   "metadata": {},
   "outputs": [
    {
     "data": {
      "text/plain": [
       "5"
      ]
     },
     "execution_count": 33,
     "metadata": {},
     "output_type": "execute_result"
    }
   ],
   "source": [
    "len(product_data)"
   ]
  },
  {
   "cell_type": "code",
   "execution_count": 34,
   "id": "aa447528",
   "metadata": {},
   "outputs": [],
   "source": [
    "df = pd.DataFrame(product_data)\n",
    "df.to_csv('wine_data1.csv', mode='a', header=False)"
   ]
  },
  {
   "cell_type": "code",
   "execution_count": null,
   "id": "598445f1",
   "metadata": {},
   "outputs": [],
   "source": []
  },
  {
   "cell_type": "code",
   "execution_count": 35,
   "id": "347ffae3",
   "metadata": {},
   "outputs": [],
   "source": [
    "product_data=[]\n",
    "#ML 24"
   ]
  },
  {
   "cell_type": "code",
   "execution_count": 36,
   "id": "753c0d0f",
   "metadata": {},
   "outputs": [],
   "source": [
    "url = mini_list24[0]\n",
    "driver = webdriver.Chrome(executable_path='chromedriver.exe')\n",
    "time.sleep(np.random.uniform(2.1,5))\n",
    "driver.get(url)\n",
    "time.sleep(np.random.uniform(2,4.5))\n",
    "newsoup = bs(driver.page_source)\n",
    "time.sleep(np.random.uniform(2,4.5))\n",
    "wineprice = find_price(newsoup)\n",
    "winename = newsoup.find(attrs={\"data-at\":\"product-breadcrumb-productname-text\"}).text\n",
    "winebrand = newsoup.find(text='BRAND').findNext().text\n",
    "winecountrystate = find_countrystate(newsoup)\n",
    "wineregion = find_region(newsoup)\n",
    "wineappellation = find_appellation(newsoup)\n",
    "winevarietal = find_varietal(newsoup)\n",
    "winestyle = find_style(newsoup)\n",
    "wineabv = find_abv(newsoup)\n",
    "winetaste = find_taste(newsoup)\n",
    "winebody = find_body(newsoup)\n",
    "warating = newsoup.find(attrs={\"data-at\":\"product-badge-container\"}).text\n",
    "customeravgrating = find_avgrating(newsoup)\n",
    "customertotalratings = newsoup.find(class_=\"bv_numReviews_text\").text.strip(\"()\")\n",
    "update_list_w_dict(newsoup)\n",
    "driver.quit()\n",
    "time.sleep(np.random.uniform(2,4))"
   ]
  },
  {
   "cell_type": "code",
   "execution_count": 37,
   "id": "2e0c39c3",
   "metadata": {},
   "outputs": [],
   "source": [
    "url = mini_list24[1]\n",
    "driver = webdriver.Chrome(executable_path='chromedriver.exe')\n",
    "time.sleep(np.random.uniform(2.1,5))\n",
    "driver.get(url)\n",
    "time.sleep(np.random.uniform(2,4.5))\n",
    "newsoup = bs(driver.page_source)\n",
    "time.sleep(np.random.uniform(2,4.5))\n",
    "wineprice = find_price(newsoup)\n",
    "winename = newsoup.find(attrs={\"data-at\":\"product-breadcrumb-productname-text\"}).text\n",
    "winebrand = newsoup.find(text='BRAND').findNext().text\n",
    "winecountrystate = find_countrystate(newsoup)\n",
    "wineregion = find_region(newsoup)\n",
    "wineappellation = find_appellation(newsoup)\n",
    "winevarietal = find_varietal(newsoup)\n",
    "winestyle = find_style(newsoup)\n",
    "wineabv = find_abv(newsoup)\n",
    "winetaste = find_taste(newsoup)\n",
    "winebody = find_body(newsoup)\n",
    "warating = newsoup.find(attrs={\"data-at\":\"product-badge-container\"}).text\n",
    "customeravgrating = find_avgrating(newsoup)\n",
    "customertotalratings = newsoup.find(class_=\"bv_numReviews_text\").text.strip(\"()\")\n",
    "update_list_w_dict(newsoup)\n",
    "driver.quit()\n",
    "time.sleep(np.random.uniform(2,4))"
   ]
  },
  {
   "cell_type": "code",
   "execution_count": 38,
   "id": "362d4b59",
   "metadata": {},
   "outputs": [],
   "source": [
    "url = mini_list24[2]\n",
    "driver = webdriver.Chrome(executable_path='chromedriver.exe')\n",
    "time.sleep(np.random.uniform(2.1,5))\n",
    "driver.get(url)\n",
    "time.sleep(np.random.uniform(2,4.5))\n",
    "newsoup = bs(driver.page_source)\n",
    "time.sleep(np.random.uniform(2,4.5))\n",
    "wineprice = find_price(newsoup)\n",
    "winename = newsoup.find(attrs={\"data-at\":\"product-breadcrumb-productname-text\"}).text\n",
    "winebrand = newsoup.find(text='BRAND').findNext().text\n",
    "winecountrystate = find_countrystate(newsoup)\n",
    "wineregion = find_region(newsoup)\n",
    "wineappellation = find_appellation(newsoup)\n",
    "winevarietal = find_varietal(newsoup)\n",
    "winestyle = find_style(newsoup)\n",
    "wineabv = find_abv(newsoup)\n",
    "winetaste = find_taste(newsoup)\n",
    "winebody = find_body(newsoup)\n",
    "warating = newsoup.find(attrs={\"data-at\":\"product-badge-container\"}).text\n",
    "customeravgrating = find_avgrating(newsoup)\n",
    "customertotalratings = newsoup.find(class_=\"bv_numReviews_text\").text.strip(\"()\")\n",
    "update_list_w_dict(newsoup)\n",
    "driver.quit()\n",
    "time.sleep(np.random.uniform(2,4))"
   ]
  },
  {
   "cell_type": "code",
   "execution_count": 39,
   "id": "06af3c54",
   "metadata": {},
   "outputs": [],
   "source": [
    "url = mini_list24[3]\n",
    "driver = webdriver.Chrome(executable_path='chromedriver.exe')\n",
    "time.sleep(np.random.uniform(2.1,5))\n",
    "driver.get(url)\n",
    "time.sleep(np.random.uniform(2,4.5))\n",
    "newsoup = bs(driver.page_source)\n",
    "time.sleep(np.random.uniform(2,4.5))\n",
    "wineprice = find_price(newsoup)\n",
    "winename = newsoup.find(attrs={\"data-at\":\"product-breadcrumb-productname-text\"}).text\n",
    "winebrand = newsoup.find(text='BRAND').findNext().text\n",
    "winecountrystate = find_countrystate(newsoup)\n",
    "wineregion = find_region(newsoup)\n",
    "wineappellation = find_appellation(newsoup)\n",
    "winevarietal = find_varietal(newsoup)\n",
    "winestyle = find_style(newsoup)\n",
    "wineabv = find_abv(newsoup)\n",
    "winetaste = find_taste(newsoup)\n",
    "winebody = find_body(newsoup)\n",
    "warating = newsoup.find(attrs={\"data-at\":\"product-badge-container\"}).text\n",
    "customeravgrating = find_avgrating(newsoup)\n",
    "customertotalratings = newsoup.find(class_=\"bv_numReviews_text\").text.strip(\"()\")\n",
    "update_list_w_dict(newsoup)\n",
    "driver.quit()\n",
    "time.sleep(np.random.uniform(2,4))"
   ]
  },
  {
   "cell_type": "code",
   "execution_count": 42,
   "id": "b6aff413",
   "metadata": {},
   "outputs": [],
   "source": [
    "url = mini_list24[4]\n",
    "driver = webdriver.Chrome(executable_path='chromedriver.exe')\n",
    "time.sleep(np.random.uniform(2.1,5))\n",
    "driver.get(url)\n",
    "time.sleep(np.random.uniform(2,4.5))\n",
    "newsoup = bs(driver.page_source)\n",
    "time.sleep(np.random.uniform(2,4.5))\n",
    "wineprice = find_price(newsoup)\n",
    "winename = newsoup.find(attrs={\"data-at\":\"product-breadcrumb-productname-text\"}).text\n",
    "winebrand = newsoup.find(text='BRAND').findNext().text\n",
    "winecountrystate = find_countrystate(newsoup)\n",
    "wineregion = find_region(newsoup)\n",
    "wineappellation = find_appellation(newsoup)\n",
    "winevarietal = find_varietal(newsoup)\n",
    "winestyle = find_style(newsoup)\n",
    "wineabv = find_abv(newsoup)\n",
    "winetaste = find_taste(newsoup)\n",
    "winebody = find_body(newsoup)\n",
    "warating = newsoup.find(attrs={\"data-at\":\"product-badge-container\"}).text\n",
    "customeravgrating = find_avgrating(newsoup)\n",
    "customertotalratings = newsoup.find(class_=\"bv_numReviews_text\").text.strip(\"()\")\n",
    "update_list_w_dict(newsoup)\n",
    "driver.quit()\n",
    "time.sleep(np.random.uniform(2,4))"
   ]
  },
  {
   "cell_type": "code",
   "execution_count": 43,
   "id": "0251ac72",
   "metadata": {},
   "outputs": [
    {
     "data": {
      "text/plain": [
       "5"
      ]
     },
     "execution_count": 43,
     "metadata": {},
     "output_type": "execute_result"
    }
   ],
   "source": [
    "len(product_data)"
   ]
  },
  {
   "cell_type": "code",
   "execution_count": 44,
   "id": "2150a989",
   "metadata": {},
   "outputs": [],
   "source": [
    "df = pd.DataFrame(product_data)\n",
    "df.to_csv('wine_data1.csv', mode='a', header=False)"
   ]
  },
  {
   "cell_type": "code",
   "execution_count": null,
   "id": "e191cbaa",
   "metadata": {},
   "outputs": [],
   "source": []
  },
  {
   "cell_type": "code",
   "execution_count": 45,
   "id": "20a54c44",
   "metadata": {},
   "outputs": [],
   "source": [
    "product_data=[]\n",
    "#ML 6"
   ]
  },
  {
   "cell_type": "code",
   "execution_count": 46,
   "id": "cc9cb45d",
   "metadata": {},
   "outputs": [],
   "source": [
    "url = mini_list6[0]\n",
    "driver = webdriver.Chrome(executable_path='chromedriver.exe')\n",
    "time.sleep(np.random.uniform(2.1,5))\n",
    "driver.get(url)\n",
    "time.sleep(np.random.uniform(2,4.5))\n",
    "newsoup = bs(driver.page_source)\n",
    "time.sleep(np.random.uniform(2,4.5))\n",
    "wineprice = find_price(newsoup)\n",
    "winename = newsoup.find(attrs={\"data-at\":\"product-breadcrumb-productname-text\"}).text\n",
    "winebrand = newsoup.find(text='BRAND').findNext().text\n",
    "winecountrystate = find_countrystate(newsoup)\n",
    "wineregion = find_region(newsoup)\n",
    "wineappellation = find_appellation(newsoup)\n",
    "winevarietal = find_varietal(newsoup)\n",
    "winestyle = find_style(newsoup)\n",
    "wineabv = find_abv(newsoup)\n",
    "winetaste = find_taste(newsoup)\n",
    "winebody = find_body(newsoup)\n",
    "warating = newsoup.find(attrs={\"data-at\":\"product-badge-container\"}).text\n",
    "customeravgrating = find_avgrating(newsoup)\n",
    "customertotalratings = newsoup.find(class_=\"bv_numReviews_text\").text.strip(\"()\")\n",
    "update_list_w_dict(newsoup)\n",
    "driver.quit()\n",
    "time.sleep(np.random.uniform(2,4))"
   ]
  },
  {
   "cell_type": "code",
   "execution_count": 47,
   "id": "932488ee",
   "metadata": {},
   "outputs": [],
   "source": [
    "url = mini_list6[1]\n",
    "driver = webdriver.Chrome(executable_path='chromedriver.exe')\n",
    "time.sleep(np.random.uniform(2.1,5))\n",
    "driver.get(url)\n",
    "time.sleep(np.random.uniform(2,4.5))\n",
    "newsoup = bs(driver.page_source)\n",
    "time.sleep(np.random.uniform(2,4.5))\n",
    "wineprice = find_price(newsoup)\n",
    "winename = newsoup.find(attrs={\"data-at\":\"product-breadcrumb-productname-text\"}).text\n",
    "winebrand = newsoup.find(text='BRAND').findNext().text\n",
    "winecountrystate = find_countrystate(newsoup)\n",
    "wineregion = find_region(newsoup)\n",
    "wineappellation = find_appellation(newsoup)\n",
    "winevarietal = find_varietal(newsoup)\n",
    "winestyle = find_style(newsoup)\n",
    "wineabv = find_abv(newsoup)\n",
    "winetaste = find_taste(newsoup)\n",
    "winebody = find_body(newsoup)\n",
    "warating = newsoup.find(attrs={\"data-at\":\"product-badge-container\"}).text\n",
    "customeravgrating = find_avgrating(newsoup)\n",
    "customertotalratings = newsoup.find(class_=\"bv_numReviews_text\").text.strip(\"()\")\n",
    "update_list_w_dict(newsoup)\n",
    "driver.quit()\n",
    "time.sleep(np.random.uniform(2,4))"
   ]
  },
  {
   "cell_type": "code",
   "execution_count": 50,
   "id": "16d9c6fb",
   "metadata": {},
   "outputs": [],
   "source": [
    "url = mini_list6[2]\n",
    "driver = webdriver.Chrome(executable_path='chromedriver.exe')\n",
    "time.sleep(np.random.uniform(2.3,5))\n",
    "driver.get(url)\n",
    "time.sleep(np.random.uniform(2,4.5))\n",
    "newsoup = bs(driver.page_source)\n",
    "time.sleep(np.random.uniform(2,4.5))\n",
    "wineprice = find_price(newsoup)\n",
    "winename = newsoup.find(attrs={\"data-at\":\"product-breadcrumb-productname-text\"}).text\n",
    "winebrand = newsoup.find(text='BRAND').findNext().text\n",
    "winecountrystate = find_countrystate(newsoup)\n",
    "wineregion = find_region(newsoup)\n",
    "wineappellation = find_appellation(newsoup)\n",
    "winevarietal = find_varietal(newsoup)\n",
    "winestyle = find_style(newsoup)\n",
    "wineabv = find_abv(newsoup)\n",
    "winetaste = find_taste(newsoup)\n",
    "winebody = find_body(newsoup)\n",
    "warating = newsoup.find(attrs={\"data-at\":\"product-badge-container\"}).text\n",
    "customeravgrating = find_avgrating(newsoup)\n",
    "customertotalratings = newsoup.find(class_=\"bv_numReviews_text\").text.strip(\"()\")\n",
    "update_list_w_dict(newsoup)\n",
    "driver.quit()\n",
    "time.sleep(np.random.uniform(2,4))"
   ]
  },
  {
   "cell_type": "code",
   "execution_count": 57,
   "id": "51f644df",
   "metadata": {},
   "outputs": [],
   "source": [
    "url = mini_list6[3]\n",
    "driver = webdriver.Chrome(executable_path='chromedriver.exe')\n",
    "time.sleep(np.random.uniform(2.5,5))\n",
    "driver.get(url)\n",
    "time.sleep(np.random.uniform(2,4.1))\n",
    "newsoup = bs(driver.page_source)\n",
    "time.sleep(np.random.uniform(3,6))\n",
    "wineprice = find_price(newsoup)\n",
    "winename = newsoup.find(attrs={\"data-at\":\"product-breadcrumb-productname-text\"}).text\n",
    "winebrand = newsoup.find(text='BRAND').findNext().text\n",
    "winecountrystate = find_countrystate(newsoup)\n",
    "wineregion = find_region(newsoup)\n",
    "wineappellation = find_appellation(newsoup)\n",
    "winevarietal = find_varietal(newsoup)\n",
    "winestyle = find_style(newsoup)\n",
    "wineabv = find_abv(newsoup)\n",
    "winetaste = find_taste(newsoup)\n",
    "winebody = find_body(newsoup)\n",
    "warating = newsoup.find(attrs={\"data-at\":\"product-badge-container\"}).text\n",
    "customeravgrating = find_avgrating(newsoup)\n",
    "customertotalratings = newsoup.find(class_=\"bv_numReviews_text\").text.strip(\"()\")\n",
    "update_list_w_dict(newsoup)\n",
    "driver.quit()\n",
    "time.sleep(np.random.uniform(2,4))"
   ]
  },
  {
   "cell_type": "code",
   "execution_count": 61,
   "id": "84b1021d",
   "metadata": {},
   "outputs": [],
   "source": [
    "url = mini_list6[4]\n",
    "driver = webdriver.Chrome(executable_path='chromedriver.exe')\n",
    "time.sleep(np.random.uniform(2.1,4.5))\n",
    "driver.get(url)\n",
    "time.sleep(np.random.uniform(2,4.5))\n",
    "newsoup = bs(driver.page_source)\n",
    "time.sleep(np.random.uniform(3,6))\n",
    "wineprice = find_price(newsoup)\n",
    "winename = newsoup.find(attrs={\"data-at\":\"product-breadcrumb-productname-text\"}).text\n",
    "winebrand = newsoup.find(text='BRAND').findNext().text\n",
    "winecountrystate = find_countrystate(newsoup)\n",
    "wineregion = find_region(newsoup)\n",
    "wineappellation = find_appellation(newsoup)\n",
    "winevarietal = find_varietal(newsoup)\n",
    "winestyle = find_style(newsoup)\n",
    "wineabv = find_abv(newsoup)\n",
    "winetaste = find_taste(newsoup)\n",
    "winebody = find_body(newsoup)\n",
    "warating = newsoup.find(attrs={\"data-at\":\"product-badge-container\"}).text\n",
    "customeravgrating = find_avgrating(newsoup)\n",
    "customertotalratings = newsoup.find(class_=\"bv_numReviews_text\").text.strip(\"()\")\n",
    "update_list_w_dict(newsoup)\n",
    "driver.quit()\n",
    "time.sleep(np.random.uniform(2,4))"
   ]
  },
  {
   "cell_type": "code",
   "execution_count": 62,
   "id": "2a63e09f",
   "metadata": {},
   "outputs": [
    {
     "data": {
      "text/plain": [
       "5"
      ]
     },
     "execution_count": 62,
     "metadata": {},
     "output_type": "execute_result"
    }
   ],
   "source": [
    "len(product_data)"
   ]
  },
  {
   "cell_type": "code",
   "execution_count": 63,
   "id": "46469ba0",
   "metadata": {},
   "outputs": [],
   "source": [
    "df = pd.DataFrame(product_data)\n",
    "df.to_csv('wine_data1.csv', mode='a', header=False)"
   ]
  },
  {
   "cell_type": "code",
   "execution_count": null,
   "id": "185474e8",
   "metadata": {},
   "outputs": [],
   "source": []
  }
 ],
 "metadata": {
  "kernelspec": {
   "display_name": "Python 3 (ipykernel)",
   "language": "python",
   "name": "python3"
  },
  "language_info": {
   "codemirror_mode": {
    "name": "ipython",
    "version": 3
   },
   "file_extension": ".py",
   "mimetype": "text/x-python",
   "name": "python",
   "nbconvert_exporter": "python",
   "pygments_lexer": "ipython3",
   "version": "3.9.7"
  }
 },
 "nbformat": 4,
 "nbformat_minor": 5
}
