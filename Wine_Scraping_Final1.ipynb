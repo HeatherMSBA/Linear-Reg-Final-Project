{
 "cells": [
  {
   "cell_type": "markdown",
   "id": "9d703d08",
   "metadata": {},
   "source": [
    "# Wine Scraping with BeautifulSoup & Selenium - PAGE 1"
   ]
  },
  {
   "cell_type": "code",
   "execution_count": 1,
   "id": "7ddb573e",
   "metadata": {},
   "outputs": [],
   "source": [
    "import pandas as pd\n",
    "import numpy as np\n",
    "from selenium import webdriver\n",
    "from selenium.webdriver.common.by import By\n",
    "from bs4 import BeautifulSoup as bs\n",
    "import html.parser\n",
    "import time\n",
    "import locale\n",
    "from tqdm import tqdm\n",
    "import requests\n",
    "import re\n",
    "import html.parser\n",
    "from tqdm import tqdm\n",
    "# for i in tqdm(range(100)):"
   ]
  },
  {
   "cell_type": "code",
   "execution_count": 2,
   "id": "27ca740d",
   "metadata": {},
   "outputs": [],
   "source": [
    "driver = webdriver.Chrome(executable_path='chromedriver.exe')"
   ]
  },
  {
   "cell_type": "code",
   "execution_count": 3,
   "id": "264a8323",
   "metadata": {},
   "outputs": [],
   "source": [
    "url = 'https://www.totalwine.com/wine/red-wine/c/000009?&pageSize=120&ratingsource=Wine%20Advocate&aty=1,1,0,1'\n",
    "driver.get(url)\n",
    "time.sleep(2)"
   ]
  },
  {
   "cell_type": "code",
   "execution_count": 4,
   "id": "d41187e6",
   "metadata": {},
   "outputs": [],
   "source": [
    "pageonesoup = bs(driver.page_source)"
   ]
  },
  {
   "cell_type": "code",
   "execution_count": 5,
   "id": "903867bb",
   "metadata": {},
   "outputs": [
    {
     "data": {
      "text/plain": [
       "360"
      ]
     },
     "execution_count": 5,
     "metadata": {},
     "output_type": "execute_result"
    }
   ],
   "source": [
    "list_links = [link['href'] for link in pageonesoup.find(class_=\"grid__1eZnNfL-\").find_all('a')]\n",
    "len(list_links)\n",
    "#triple reference for the 120 wines on the webpage"
   ]
  },
  {
   "cell_type": "code",
   "execution_count": 6,
   "id": "c03fe863",
   "metadata": {},
   "outputs": [],
   "source": [
    "list_links = list(set([link.split('&tab')[0] for link in list_links]))"
   ]
  },
  {
   "cell_type": "code",
   "execution_count": 7,
   "id": "80574c37",
   "metadata": {},
   "outputs": [],
   "source": [
    "list_links = [\"https://www.totalwine.com\"+link for link in list_links]"
   ]
  },
  {
   "cell_type": "code",
   "execution_count": 8,
   "id": "98d4d30a-4199-4229-b9b7-16c87f465954",
   "metadata": {},
   "outputs": [],
   "source": [
    "#need to sort list in place so I can pick up where I left off if site crashes\n",
    "list_links.sort()"
   ]
  },
  {
   "cell_type": "code",
   "execution_count": 9,
   "id": "6a01df2c",
   "metadata": {},
   "outputs": [
    {
     "data": {
      "text/plain": [
       "120"
      ]
     },
     "execution_count": 9,
     "metadata": {},
     "output_type": "execute_result"
    }
   ],
   "source": [
    "len(list_links)"
   ]
  },
  {
   "cell_type": "code",
   "execution_count": 10,
   "id": "fc97f053",
   "metadata": {},
   "outputs": [],
   "source": [
    "driver.close()"
   ]
  },
  {
   "cell_type": "code",
   "execution_count": 11,
   "id": "821044f5",
   "metadata": {},
   "outputs": [],
   "source": [
    "#define 10 helper functions for handling sale price and feature nulls\n",
    "def find_price(soup):\n",
    "    try:\n",
    "        wineprice = newsoup.find(id=\"edlpPrice\").text.strip(\"$\")\n",
    "    except:\n",
    "        wineprice = newsoup.find(attrs={\"data-at\":\"product-mix6price-text\"}).text.strip(\"$\")\n",
    "    return wineprice\n",
    "\n",
    "def find_countrystate(soup):\n",
    "    try:\n",
    "        winecountrystate = newsoup.find(text='COUNTRY / STATE').findNext().text\n",
    "    except:\n",
    "        winecountrystate = ''\n",
    "    return winecountrystate\n",
    "\n",
    "def find_region(soup):\n",
    "    try:\n",
    "        wineregion = newsoup.find(text='REGION').findNext().text\n",
    "    except:\n",
    "        wineregion = ''\n",
    "    return wineregion\n",
    "\n",
    "def find_appellation(soup):\n",
    "    try:\n",
    "        wineappellation = newsoup.find(text='APPELLATION').findNext().text\n",
    "    except:\n",
    "        wineappellation = ''\n",
    "    return wineappellation\n",
    "\n",
    "def find_varietal(soup):\n",
    "    try:\n",
    "        winevarietal = newsoup.find(text='VARIETAL').findNext().text\n",
    "    except:\n",
    "        winevarietal = ''\n",
    "    return winevarietal\n",
    "\n",
    "def find_style(soup):\n",
    "    try:\n",
    "        winestyle = newsoup.find(text='STYLE').findNext().text\n",
    "    except:\n",
    "        winestyle = ''\n",
    "    return winestyle\n",
    "\n",
    "def find_abv(soup):\n",
    "    try:\n",
    "        wineabv = newsoup.find(text='ABV').findNext().text.strip(\"%\")\n",
    "    except:\n",
    "        wineabv = ''\n",
    "    return wineabv\n",
    "\n",
    "def find_taste(soup):\n",
    "    try:\n",
    "        winetaste = newsoup.find(text='TASTE').findNext().text\n",
    "    except:\n",
    "        winetaste = ''\n",
    "    return winetaste\n",
    "\n",
    "def find_body(soup):\n",
    "    try:\n",
    "        winebody = newsoup.find(text='BODY').findNext().text\n",
    "    except:\n",
    "        winebody = ''\n",
    "    return winebody\n",
    "\n",
    "def find_avgrating(soup):\n",
    "    try:\n",
    "        customeravgrating = newsoup.find(class_='bv_avgRating_component_container notranslate').text\n",
    "    except:\n",
    "        customeravgrating = ''\n",
    "    return customeravgrating"
   ]
  },
  {
   "cell_type": "code",
   "execution_count": 12,
   "id": "177e691e",
   "metadata": {},
   "outputs": [],
   "source": [
    "#define function used to update list of dictionaries (1 dictionary per product page)\n",
    "def update_list_w_dict(soup):\n",
    "    headers = ['price','name','brand','country_state','region','appellation','varietal','style','abv','taste','body',\n",
    "           'wine_adv_rating','customer_avg_rating','customer_total_ratings']\n",
    "    product_dict = dict(zip(headers, [wineprice, winename, winebrand, winecountrystate, wineregion, wineappellation,\n",
    "                                  winevarietal, winestyle, wineabv, winetaste, winebody, warating, customeravgrating,\n",
    "                                  customertotalratings]))\n",
    "    product_data.append(product_dict)\n",
    "    return product_data"
   ]
  },
  {
   "cell_type": "code",
   "execution_count": 13,
   "id": "b999e451",
   "metadata": {},
   "outputs": [],
   "source": [
    "#product data needs to be established as empty list, will be appended with dictionaries\n",
    "product_data=[]"
   ]
  },
  {
   "cell_type": "code",
   "execution_count": 14,
   "id": "c3038a42-30a3-4919-8230-4234fe8a45d8",
   "metadata": {},
   "outputs": [],
   "source": [
    "mini_list1 = list_links[:5]\n",
    "mini_list2 = list_links[5:10]\n",
    "mini_list3 = list_links[10:15]\n",
    "mini_list4 = list_links[15:20]\n",
    "mini_list5 = list_links[20:25]\n",
    "mini_list6 = list_links[25:30]\n",
    "mini_list7 = list_links[30:35]\n",
    "mini_list8 = list_links[35:40]\n",
    "mini_list9 = list_links[40:45]\n",
    "mini_list10 = list_links[45:50]\n",
    "mini_list11 = list_links[50:55]\n",
    "mini_list12 = list_links[55:60]\n",
    "mini_list13 = list_links[60:65]\n",
    "mini_list14 = list_links[65:70]\n",
    "mini_list15 = list_links[70:75]\n",
    "mini_list16 = list_links[75:80]\n",
    "mini_list17 = list_links[80:85]\n",
    "mini_list18 = list_links[85:90]\n",
    "mini_list19 = list_links[90:95]\n",
    "mini_list20 = list_links[95:100]\n",
    "mini_list21 = list_links[100:105]\n",
    "mini_list22 = list_links[105:110]\n",
    "mini_list23 = list_links[110:115]\n",
    "mini_list24 = list_links[115:]"
   ]
  },
  {
   "cell_type": "code",
   "execution_count": 38,
   "id": "222f264b",
   "metadata": {},
   "outputs": [
    {
     "name": "stderr",
     "output_type": "stream",
     "text": [
      "100%|██████████| 5/5 [02:06<00:00, 25.29s/it]\n"
     ]
    }
   ],
   "source": [
    "for url in tqdm(mini_list1):\n",
    "    driver = webdriver.Chrome(executable_path='chromedriver.exe')\n",
    "    time.sleep(2)\n",
    "    driver.get(url)\n",
    "    time.sleep(np.random.uniform(2,4))\n",
    "    newsoup = bs(driver.page_source)\n",
    "    time.sleep(2.7+np.random.uniform(1,2))\n",
    "    wineprice = find_price(newsoup)\n",
    "    winename = newsoup.find(attrs={\"data-at\":\"product-breadcrumb-productname-text\"}).text\n",
    "    winebrand = newsoup.find(text='BRAND').findNext().text\n",
    "    winecountrystate = find_countrystate(newsoup)\n",
    "    wineregion = find_region(newsoup)\n",
    "    wineappellation = find_appellation(newsoup)\n",
    "    winevarietal = find_varietal(newsoup)\n",
    "    winestyle = find_style(newsoup)\n",
    "    wineabv = find_abv(newsoup)\n",
    "    winetaste = find_taste(newsoup)\n",
    "    winebody = find_body(newsoup)\n",
    "    warating = newsoup.find(attrs={\"data-at\":\"product-badge-container\"}).text\n",
    "    customeravgrating = find_avgrating(newsoup)\n",
    "    customertotalratings = newsoup.find(class_=\"bv_numReviews_text\").text.strip(\"()\")\n",
    "    update_list_w_dict(newsoup)\n",
    "    driver.quit()\n",
    "    time.sleep(np.random.uniform(2,4))"
   ]
  },
  {
   "cell_type": "code",
   "execution_count": 39,
   "id": "9bce0840",
   "metadata": {},
   "outputs": [
    {
     "data": {
      "text/plain": [
       "5"
      ]
     },
     "execution_count": 39,
     "metadata": {},
     "output_type": "execute_result"
    }
   ],
   "source": [
    "len(product_data)"
   ]
  },
  {
   "cell_type": "code",
   "execution_count": 40,
   "id": "cf3b7988",
   "metadata": {},
   "outputs": [],
   "source": [
    "#turn list of dictionaries into dataframe\n",
    "df = pd.DataFrame(product_data)\n",
    "df.to_csv('wine_data1.csv')\n",
    "#with subsequent loops we'll need to keep resetting product_data & APPEND wine_data1 file"
   ]
  },
  {
   "cell_type": "code",
   "execution_count": 41,
   "id": "a75076cc-19be-4608-a1fe-c7b885088270",
   "metadata": {},
   "outputs": [
    {
     "name": "stderr",
     "output_type": "stream",
     "text": [
      "100%|██████████| 5/5 [02:06<00:00, 25.36s/it]\n"
     ]
    }
   ],
   "source": [
    "product_data=[]\n",
    "for url in tqdm(mini_list2):\n",
    "    driver = webdriver.Chrome(executable_path='chromedriver.exe')\n",
    "    time.sleep(3)\n",
    "    driver.get(url)\n",
    "    time.sleep(2.1)\n",
    "    newsoup = bs(driver.page_source)\n",
    "    time.sleep(3+np.random.uniform(1,3))\n",
    "    wineprice = find_price(newsoup)\n",
    "    winename = newsoup.find(attrs={\"data-at\":\"product-breadcrumb-productname-text\"}).text\n",
    "    winebrand = newsoup.find(text='BRAND').findNext().text\n",
    "    winecountrystate = find_countrystate(newsoup)\n",
    "    wineregion = find_region(newsoup)\n",
    "    wineappellation = find_appellation(newsoup)\n",
    "    winevarietal = find_varietal(newsoup)\n",
    "    winestyle = find_style(newsoup)\n",
    "    wineabv = find_abv(newsoup)\n",
    "    winetaste = find_taste(newsoup)\n",
    "    winebody = find_body(newsoup)\n",
    "    warating = newsoup.find(attrs={\"data-at\":\"product-badge-container\"}).text\n",
    "    customeravgrating = find_avgrating(newsoup)\n",
    "    customertotalratings = newsoup.find(class_=\"bv_numReviews_text\").text.strip(\"()\")\n",
    "    update_list_w_dict(newsoup)\n",
    "    driver.quit()\n",
    "    time.sleep(np.random.uniform(2,4))"
   ]
  },
  {
   "cell_type": "code",
   "execution_count": 42,
   "id": "14d65e7f-62d9-41b5-ab56-11a363b2654b",
   "metadata": {},
   "outputs": [
    {
     "data": {
      "text/plain": [
       "5"
      ]
     },
     "execution_count": 42,
     "metadata": {},
     "output_type": "execute_result"
    }
   ],
   "source": [
    "len(product_data)"
   ]
  },
  {
   "cell_type": "code",
   "execution_count": 43,
   "id": "58eed89c-d7ac-4f04-92e3-da552e33e48d",
   "metadata": {},
   "outputs": [],
   "source": [
    "df = pd.DataFrame(product_data)\n",
    "df.to_csv('wine_data1.csv', mode='a', header=False)"
   ]
  },
  {
   "cell_type": "code",
   "execution_count": 44,
   "id": "ddbe63ad",
   "metadata": {},
   "outputs": [
    {
     "name": "stderr",
     "output_type": "stream",
     "text": [
      "100%|██████████| 5/5 [02:06<00:00, 25.36s/it]\n"
     ]
    }
   ],
   "source": [
    "product_data=[]\n",
    "for url in tqdm(mini_list3):\n",
    "    driver = webdriver.Chrome(executable_path='chromedriver.exe')\n",
    "    time.sleep(2.7)\n",
    "    driver.get(url)\n",
    "    time.sleep(1)\n",
    "    newsoup = bs(driver.page_source)\n",
    "    time.sleep(4+np.random.uniform(1,3))\n",
    "    wineprice = find_price(newsoup)\n",
    "    winename = newsoup.find(attrs={\"data-at\":\"product-breadcrumb-productname-text\"}).text\n",
    "    winebrand = newsoup.find(text='BRAND').findNext().text\n",
    "    winecountrystate = find_countrystate(newsoup)\n",
    "    wineregion = find_region(newsoup)\n",
    "    wineappellation = find_appellation(newsoup)\n",
    "    winevarietal = find_varietal(newsoup)\n",
    "    winestyle = find_style(newsoup)\n",
    "    wineabv = find_abv(newsoup)\n",
    "    winetaste = find_taste(newsoup)\n",
    "    winebody = find_body(newsoup)\n",
    "    warating = newsoup.find(attrs={\"data-at\":\"product-badge-container\"}).text\n",
    "    customeravgrating = find_avgrating(newsoup)\n",
    "    customertotalratings = newsoup.find(class_=\"bv_numReviews_text\").text.strip(\"()\")\n",
    "    update_list_w_dict(newsoup)\n",
    "    driver.quit()\n",
    "    time.sleep(np.random.uniform(2,4))"
   ]
  },
  {
   "cell_type": "code",
   "execution_count": 45,
   "id": "08aab0be-9ecd-450f-bd2c-cd1bf0833258",
   "metadata": {},
   "outputs": [
    {
     "data": {
      "text/plain": [
       "5"
      ]
     },
     "execution_count": 45,
     "metadata": {},
     "output_type": "execute_result"
    }
   ],
   "source": [
    "len(product_data)"
   ]
  },
  {
   "cell_type": "code",
   "execution_count": 46,
   "id": "e5cd842c-ba4f-4b63-829f-26a4a11148e7",
   "metadata": {},
   "outputs": [],
   "source": [
    "df = pd.DataFrame(product_data)\n",
    "df.to_csv('wine_data1.csv', mode='a', header=False)"
   ]
  },
  {
   "cell_type": "code",
   "execution_count": 47,
   "id": "0ab194c0-1583-466b-8b4b-d3fa16ac56b2",
   "metadata": {},
   "outputs": [
    {
     "name": "stderr",
     "output_type": "stream",
     "text": [
      "100%|██████████| 5/5 [02:20<00:00, 28.12s/it]\n"
     ]
    }
   ],
   "source": [
    "product_data=[]\n",
    "for url in tqdm(mini_list4):\n",
    "    driver = webdriver.Chrome(executable_path='chromedriver.exe')\n",
    "    time.sleep(np.random.uniform(2,4))\n",
    "    driver.get(url)\n",
    "    time.sleep(3)\n",
    "    newsoup = bs(driver.page_source)\n",
    "    time.sleep(5+np.random.uniform(1,3))\n",
    "    wineprice = find_price(newsoup)\n",
    "    winename = newsoup.find(attrs={\"data-at\":\"product-breadcrumb-productname-text\"}).text\n",
    "    winebrand = newsoup.find(text='BRAND').findNext().text\n",
    "    winecountrystate = find_countrystate(newsoup)\n",
    "    wineregion = find_region(newsoup)\n",
    "    wineappellation = find_appellation(newsoup)\n",
    "    winevarietal = find_varietal(newsoup)\n",
    "    winestyle = find_style(newsoup)\n",
    "    wineabv = find_abv(newsoup)\n",
    "    winetaste = find_taste(newsoup)\n",
    "    winebody = find_body(newsoup)\n",
    "    warating = newsoup.find(attrs={\"data-at\":\"product-badge-container\"}).text\n",
    "    customeravgrating = find_avgrating(newsoup)\n",
    "    customertotalratings = newsoup.find(class_=\"bv_numReviews_text\").text.strip(\"()\")\n",
    "    update_list_w_dict(newsoup)\n",
    "    driver.quit()\n",
    "    time.sleep(np.random.uniform(2,4))"
   ]
  },
  {
   "cell_type": "code",
   "execution_count": 48,
   "id": "51a8ec25-b15a-4932-8e48-b76d201f54e7",
   "metadata": {},
   "outputs": [
    {
     "data": {
      "text/plain": [
       "5"
      ]
     },
     "execution_count": 48,
     "metadata": {},
     "output_type": "execute_result"
    }
   ],
   "source": [
    "len(product_data)"
   ]
  },
  {
   "cell_type": "code",
   "execution_count": 49,
   "id": "08972ef8-a0af-486a-aa3c-b168d5f24a8b",
   "metadata": {},
   "outputs": [],
   "source": [
    "df = pd.DataFrame(product_data)\n",
    "df.to_csv('wine_data1.csv', mode='a', header=False)"
   ]
  },
  {
   "cell_type": "code",
   "execution_count": 50,
   "id": "81285295-76d6-4214-b143-816240f4ac7d",
   "metadata": {},
   "outputs": [
    {
     "name": "stderr",
     "output_type": "stream",
     "text": [
      "100%|██████████| 5/5 [02:05<00:00, 25.17s/it]\n"
     ]
    }
   ],
   "source": [
    "product_data=[]\n",
    "for url in tqdm(mini_list5):\n",
    "    driver = webdriver.Chrome(executable_path='chromedriver.exe')\n",
    "    time.sleep(np.random.uniform(2,4))\n",
    "    driver.get(url)\n",
    "    time.sleep(2.75)\n",
    "    newsoup = bs(driver.page_source)\n",
    "    time.sleep(1+np.random.uniform(2,3))\n",
    "    wineprice = find_price(newsoup)\n",
    "    winename = newsoup.find(attrs={\"data-at\":\"product-breadcrumb-productname-text\"}).text\n",
    "    winebrand = newsoup.find(text='BRAND').findNext().text\n",
    "    winecountrystate = find_countrystate(newsoup)\n",
    "    wineregion = find_region(newsoup)\n",
    "    wineappellation = find_appellation(newsoup)\n",
    "    winevarietal = find_varietal(newsoup)\n",
    "    winestyle = find_style(newsoup)\n",
    "    wineabv = find_abv(newsoup)\n",
    "    winetaste = find_taste(newsoup)\n",
    "    winebody = find_body(newsoup)\n",
    "    warating = newsoup.find(attrs={\"data-at\":\"product-badge-container\"}).text\n",
    "    customeravgrating = find_avgrating(newsoup)\n",
    "    customertotalratings = newsoup.find(class_=\"bv_numReviews_text\").text.strip(\"()\")\n",
    "    update_list_w_dict(newsoup)\n",
    "    driver.quit()\n",
    "    time.sleep(np.random.uniform(2,4))"
   ]
  },
  {
   "cell_type": "code",
   "execution_count": 51,
   "id": "e134b36e-4170-4b61-945f-5c5e96a7a2a5",
   "metadata": {},
   "outputs": [
    {
     "data": {
      "text/plain": [
       "5"
      ]
     },
     "execution_count": 51,
     "metadata": {},
     "output_type": "execute_result"
    }
   ],
   "source": [
    "len(product_data)"
   ]
  },
  {
   "cell_type": "code",
   "execution_count": 52,
   "id": "a9c579a6-3530-4467-ad18-196c72ba7f5a",
   "metadata": {},
   "outputs": [],
   "source": [
    "df = pd.DataFrame(product_data)\n",
    "df.to_csv('wine_data1.csv', mode='a', header=False)"
   ]
  },
  {
   "cell_type": "code",
   "execution_count": null,
   "id": "1e82450f",
   "metadata": {},
   "outputs": [],
   "source": [
    "#SKIP ML6! somehow wine has null WA rating?"
   ]
  },
  {
   "cell_type": "code",
   "execution_count": 55,
   "id": "e4b9c7fa-8431-4ae7-83a1-348869721947",
   "metadata": {},
   "outputs": [
    {
     "name": "stderr",
     "output_type": "stream",
     "text": [
      " 20%|██        | 1/5 [00:55<03:41, 55.42s/it]\n"
     ]
    },
    {
     "ename": "AttributeError",
     "evalue": "'NoneType' object has no attribute 'text'",
     "output_type": "error",
     "traceback": [
      "\u001b[1;31m---------------------------------------------------------------------------\u001b[0m",
      "\u001b[1;31mAttributeError\u001b[0m                            Traceback (most recent call last)",
      "Input \u001b[1;32mIn [55]\u001b[0m, in \u001b[0;36m<cell line: 2>\u001b[1;34m()\u001b[0m\n\u001b[0;32m     18\u001b[0m winetaste \u001b[38;5;241m=\u001b[39m find_taste(newsoup)\n\u001b[0;32m     19\u001b[0m winebody \u001b[38;5;241m=\u001b[39m find_body(newsoup)\n\u001b[1;32m---> 20\u001b[0m warating \u001b[38;5;241m=\u001b[39m \u001b[43mnewsoup\u001b[49m\u001b[38;5;241;43m.\u001b[39;49m\u001b[43mfind\u001b[49m\u001b[43m(\u001b[49m\u001b[43mattrs\u001b[49m\u001b[38;5;241;43m=\u001b[39;49m\u001b[43m{\u001b[49m\u001b[38;5;124;43m\"\u001b[39;49m\u001b[38;5;124;43mdata-at\u001b[39;49m\u001b[38;5;124;43m\"\u001b[39;49m\u001b[43m:\u001b[49m\u001b[38;5;124;43m\"\u001b[39;49m\u001b[38;5;124;43mproduct-badge-container\u001b[39;49m\u001b[38;5;124;43m\"\u001b[39;49m\u001b[43m}\u001b[49m\u001b[43m)\u001b[49m\u001b[38;5;241;43m.\u001b[39;49m\u001b[43mtext\u001b[49m\n\u001b[0;32m     21\u001b[0m customeravgrating \u001b[38;5;241m=\u001b[39m find_avgrating(newsoup)\n\u001b[0;32m     22\u001b[0m customertotalratings \u001b[38;5;241m=\u001b[39m newsoup\u001b[38;5;241m.\u001b[39mfind(class_\u001b[38;5;241m=\u001b[39m\u001b[38;5;124m\"\u001b[39m\u001b[38;5;124mbv_numReviews_text\u001b[39m\u001b[38;5;124m\"\u001b[39m)\u001b[38;5;241m.\u001b[39mtext\u001b[38;5;241m.\u001b[39mstrip(\u001b[38;5;124m\"\u001b[39m\u001b[38;5;124m()\u001b[39m\u001b[38;5;124m\"\u001b[39m)\n",
      "\u001b[1;31mAttributeError\u001b[0m: 'NoneType' object has no attribute 'text'"
     ]
    }
   ],
   "source": [
    "product_data=[]\n",
    "for url in tqdm(mini_list6):\n",
    "    driver = webdriver.Chrome(executable_path='chromedriver.exe')\n",
    "    time.sleep(np.random.uniform(2,4.7))\n",
    "    driver.get(url)\n",
    "    time.sleep(3.1)\n",
    "    newsoup = bs(driver.page_source)\n",
    "    time.sleep(5+np.random.uniform(1,3))\n",
    "    wineprice = find_price(newsoup)\n",
    "    winename = newsoup.find(attrs={\"data-at\":\"product-breadcrumb-productname-text\"}).text\n",
    "    winebrand = newsoup.find(text='BRAND').findNext().text\n",
    "    winecountrystate = find_countrystate(newsoup)\n",
    "    wineregion = find_region(newsoup)\n",
    "    wineappellation = find_appellation(newsoup)\n",
    "    winevarietal = find_varietal(newsoup)\n",
    "    winestyle = find_style(newsoup)\n",
    "    wineabv = find_abv(newsoup)\n",
    "    winetaste = find_taste(newsoup)\n",
    "    winebody = find_body(newsoup)\n",
    "    warating = newsoup.find(attrs={\"data-at\":\"product-badge-container\"}).text\n",
    "    customeravgrating = find_avgrating(newsoup)\n",
    "    customertotalratings = newsoup.find(class_=\"bv_numReviews_text\").text.strip(\"()\")\n",
    "    update_list_w_dict(newsoup)\n",
    "    driver.quit()\n",
    "    time.sleep(np.random.uniform(2,4))"
   ]
  },
  {
   "cell_type": "code",
   "execution_count": null,
   "id": "16fda95d-ee34-4c89-9950-87b2795458bc",
   "metadata": {},
   "outputs": [],
   "source": [
    "len(product_data)"
   ]
  },
  {
   "cell_type": "code",
   "execution_count": null,
   "id": "37bb871c-88c9-4889-965e-1a550ae9ba40",
   "metadata": {},
   "outputs": [],
   "source": [
    "df = pd.DataFrame(product_data)\n",
    "df.to_csv('wine_data1.csv', mode='a', header=False)"
   ]
  },
  {
   "cell_type": "code",
   "execution_count": 56,
   "id": "eddd9bb2-687a-4239-bab0-85fa1d15ca5a",
   "metadata": {},
   "outputs": [
    {
     "name": "stderr",
     "output_type": "stream",
     "text": [
      "100%|██████████| 5/5 [02:12<00:00, 26.48s/it]\n"
     ]
    }
   ],
   "source": [
    "product_data=[]\n",
    "for url in tqdm(mini_list7):\n",
    "    driver = webdriver.Chrome(executable_path='chromedriver.exe')\n",
    "    time.sleep(np.random.uniform(2,4))\n",
    "    driver.get(url)\n",
    "    time.sleep(1)\n",
    "    newsoup = bs(driver.page_source)\n",
    "    time.sleep(2+np.random.uniform(2,4))\n",
    "    wineprice = find_price(newsoup)\n",
    "    winename = newsoup.find(attrs={\"data-at\":\"product-breadcrumb-productname-text\"}).text\n",
    "    winebrand = newsoup.find(text='BRAND').findNext().text\n",
    "    winecountrystate = find_countrystate(newsoup)\n",
    "    wineregion = find_region(newsoup)\n",
    "    wineappellation = find_appellation(newsoup)\n",
    "    winevarietal = find_varietal(newsoup)\n",
    "    winestyle = find_style(newsoup)\n",
    "    wineabv = find_abv(newsoup)\n",
    "    winetaste = find_taste(newsoup)\n",
    "    winebody = find_body(newsoup)\n",
    "    warating = newsoup.find(attrs={\"data-at\":\"product-badge-container\"}).text\n",
    "    customeravgrating = find_avgrating(newsoup)\n",
    "    customertotalratings = newsoup.find(class_=\"bv_numReviews_text\").text.strip(\"()\")\n",
    "    update_list_w_dict(newsoup)\n",
    "    driver.quit()\n",
    "    time.sleep(np.random.uniform(2,4))"
   ]
  },
  {
   "cell_type": "code",
   "execution_count": 57,
   "id": "3fde6cce-9d95-49e9-8cc3-a11235a7eaa2",
   "metadata": {},
   "outputs": [
    {
     "data": {
      "text/plain": [
       "5"
      ]
     },
     "execution_count": 57,
     "metadata": {},
     "output_type": "execute_result"
    }
   ],
   "source": [
    "len(product_data)"
   ]
  },
  {
   "cell_type": "code",
   "execution_count": 58,
   "id": "a806c3c5-e5ee-42fb-a74f-b777c2f50481",
   "metadata": {},
   "outputs": [],
   "source": [
    "df = pd.DataFrame(product_data)\n",
    "df.to_csv('wine_data1.csv', mode='a', header=False)"
   ]
  },
  {
   "cell_type": "code",
   "execution_count": 61,
   "id": "374b74c4-88f3-42de-bdc1-997d0a55d8cd",
   "metadata": {},
   "outputs": [
    {
     "name": "stderr",
     "output_type": "stream",
     "text": [
      "100%|██████████| 5/5 [02:23<00:00, 28.63s/it]\n"
     ]
    }
   ],
   "source": [
    "product_data=[]\n",
    "for url in tqdm(mini_list8):\n",
    "    driver = webdriver.Chrome(executable_path='chromedriver.exe')\n",
    "    time.sleep(np.random.uniform(2,4))\n",
    "    driver.get(url)\n",
    "    time.sleep(2.9)\n",
    "    newsoup = bs(driver.page_source)\n",
    "    time.sleep(1+np.random.uniform(5,6))\n",
    "    wineprice = find_price(newsoup)\n",
    "    winename = newsoup.find(attrs={\"data-at\":\"product-breadcrumb-productname-text\"}).text\n",
    "    winebrand = newsoup.find(text='BRAND').findNext().text\n",
    "    winecountrystate = find_countrystate(newsoup)\n",
    "    wineregion = find_region(newsoup)\n",
    "    wineappellation = find_appellation(newsoup)\n",
    "    winevarietal = find_varietal(newsoup)\n",
    "    winestyle = find_style(newsoup)\n",
    "    wineabv = find_abv(newsoup)\n",
    "    winetaste = find_taste(newsoup)\n",
    "    winebody = find_body(newsoup)\n",
    "    warating = newsoup.find(attrs={\"data-at\":\"product-badge-container\"}).text\n",
    "    customeravgrating = find_avgrating(newsoup)\n",
    "    customertotalratings = newsoup.find(class_=\"bv_numReviews_text\").text.strip(\"()\")\n",
    "    update_list_w_dict(newsoup)\n",
    "    driver.quit()\n",
    "    time.sleep(np.random.uniform(2,4))"
   ]
  },
  {
   "cell_type": "code",
   "execution_count": 62,
   "id": "b867b8ec-09c7-4d32-b446-ee72b2563e37",
   "metadata": {},
   "outputs": [
    {
     "data": {
      "text/plain": [
       "5"
      ]
     },
     "execution_count": 62,
     "metadata": {},
     "output_type": "execute_result"
    }
   ],
   "source": [
    "len(product_data)"
   ]
  },
  {
   "cell_type": "code",
   "execution_count": 63,
   "id": "be4fd720-a6b5-450d-9d0a-f90196edb76b",
   "metadata": {},
   "outputs": [],
   "source": [
    "df = pd.DataFrame(product_data)\n",
    "df.to_csv('wine_data1.csv', mode='a', header=False)"
   ]
  },
  {
   "cell_type": "code",
   "execution_count": 64,
   "id": "7b17c81b-874f-4698-b4fa-94447c07b48f",
   "metadata": {},
   "outputs": [
    {
     "name": "stderr",
     "output_type": "stream",
     "text": [
      "100%|██████████| 5/5 [02:13<00:00, 26.64s/it]\n"
     ]
    }
   ],
   "source": [
    "product_data=[]\n",
    "for url in tqdm(mini_list9):\n",
    "    driver = webdriver.Chrome(executable_path='chromedriver.exe')\n",
    "    time.sleep(np.random.uniform(2,4))\n",
    "    driver.get(url)\n",
    "    time.sleep(3)\n",
    "    newsoup = bs(driver.page_source)\n",
    "    time.sleep(np.random.uniform(2,5))\n",
    "    wineprice = find_price(newsoup)\n",
    "    winename = newsoup.find(attrs={\"data-at\":\"product-breadcrumb-productname-text\"}).text\n",
    "    winebrand = newsoup.find(text='BRAND').findNext().text\n",
    "    winecountrystate = find_countrystate(newsoup)\n",
    "    wineregion = find_region(newsoup)\n",
    "    wineappellation = find_appellation(newsoup)\n",
    "    winevarietal = find_varietal(newsoup)\n",
    "    winestyle = find_style(newsoup)\n",
    "    wineabv = find_abv(newsoup)\n",
    "    winetaste = find_taste(newsoup)\n",
    "    winebody = find_body(newsoup)\n",
    "    warating = newsoup.find(attrs={\"data-at\":\"product-badge-container\"}).text\n",
    "    customeravgrating = find_avgrating(newsoup)\n",
    "    customertotalratings = newsoup.find(class_=\"bv_numReviews_text\").text.strip(\"()\")\n",
    "    update_list_w_dict(newsoup)\n",
    "    driver.quit()\n",
    "    time.sleep(np.random.uniform(2,4))"
   ]
  },
  {
   "cell_type": "code",
   "execution_count": 65,
   "id": "0b8ab5e6-5f67-4f6c-8068-c2727d6d73bc",
   "metadata": {},
   "outputs": [
    {
     "data": {
      "text/plain": [
       "5"
      ]
     },
     "execution_count": 65,
     "metadata": {},
     "output_type": "execute_result"
    }
   ],
   "source": [
    "len(product_data)"
   ]
  },
  {
   "cell_type": "code",
   "execution_count": 66,
   "id": "d236cb81-cdcc-407d-8d20-a7e53586f4d5",
   "metadata": {},
   "outputs": [],
   "source": [
    "df = pd.DataFrame(product_data)\n",
    "df.to_csv('wine_data1.csv', mode='a', header=False)"
   ]
  },
  {
   "cell_type": "code",
   "execution_count": 69,
   "id": "a9893bda-9fd1-4648-9070-ce2d773e1881",
   "metadata": {},
   "outputs": [
    {
     "name": "stderr",
     "output_type": "stream",
     "text": [
      "100%|██████████| 5/5 [02:15<00:00, 27.06s/it]\n"
     ]
    }
   ],
   "source": [
    "product_data=[]\n",
    "for url in tqdm(mini_list10):\n",
    "    driver = webdriver.Chrome(executable_path='chromedriver.exe')\n",
    "    time.sleep(np.random.uniform(2,4))\n",
    "    driver.get(url)\n",
    "    time.sleep(2+np.random.uniform(1,3))\n",
    "    newsoup = bs(driver.page_source)\n",
    "    time.sleep(3+np.random.uniform(1,3))\n",
    "    wineprice = find_price(newsoup)\n",
    "    winename = newsoup.find(attrs={\"data-at\":\"product-breadcrumb-productname-text\"}).text\n",
    "    winebrand = newsoup.find(text='BRAND').findNext().text\n",
    "    winecountrystate = find_countrystate(newsoup)\n",
    "    wineregion = find_region(newsoup)\n",
    "    wineappellation = find_appellation(newsoup)\n",
    "    winevarietal = find_varietal(newsoup)\n",
    "    winestyle = find_style(newsoup)\n",
    "    wineabv = find_abv(newsoup)\n",
    "    winetaste = find_taste(newsoup)\n",
    "    winebody = find_body(newsoup)\n",
    "    warating = newsoup.find(attrs={\"data-at\":\"product-badge-container\"}).text\n",
    "    customeravgrating = find_avgrating(newsoup)\n",
    "    customertotalratings = newsoup.find(class_=\"bv_numReviews_text\").text.strip(\"()\")\n",
    "    update_list_w_dict(newsoup)\n",
    "    driver.quit()\n",
    "    time.sleep(np.random.uniform(2,4))"
   ]
  },
  {
   "cell_type": "code",
   "execution_count": 70,
   "id": "de93cf2e-a760-4ace-a04b-59585ab5ba31",
   "metadata": {},
   "outputs": [
    {
     "data": {
      "text/plain": [
       "5"
      ]
     },
     "execution_count": 70,
     "metadata": {},
     "output_type": "execute_result"
    }
   ],
   "source": [
    "len(product_data)"
   ]
  },
  {
   "cell_type": "code",
   "execution_count": 71,
   "id": "322bf1b9-22dd-4b05-81b3-a64afa2f84de",
   "metadata": {},
   "outputs": [],
   "source": [
    "df = pd.DataFrame(product_data)\n",
    "df.to_csv('wine_data1.csv', mode='a', header=False)"
   ]
  },
  {
   "cell_type": "code",
   "execution_count": 73,
   "id": "58fe05bc-f9d1-4081-8e77-33c3d16d784a",
   "metadata": {},
   "outputs": [
    {
     "name": "stderr",
     "output_type": "stream",
     "text": [
      "100%|██████████| 5/5 [02:12<00:00, 26.60s/it]\n"
     ]
    }
   ],
   "source": [
    "product_data=[]\n",
    "for url in tqdm(mini_list11):\n",
    "    driver = webdriver.Chrome(executable_path='chromedriver.exe')\n",
    "    time.sleep(np.random.uniform(2,4))\n",
    "    driver.get(url)\n",
    "    time.sleep(np.random.uniform(2,4))\n",
    "    newsoup = bs(driver.page_source)\n",
    "    time.sleep(4+np.random.uniform(1,2))\n",
    "    wineprice = find_price(newsoup)\n",
    "    winename = newsoup.find(attrs={\"data-at\":\"product-breadcrumb-productname-text\"}).text\n",
    "    winebrand = newsoup.find(text='BRAND').findNext().text\n",
    "    winecountrystate = find_countrystate(newsoup)\n",
    "    wineregion = find_region(newsoup)\n",
    "    wineappellation = find_appellation(newsoup)\n",
    "    winevarietal = find_varietal(newsoup)\n",
    "    winestyle = find_style(newsoup)\n",
    "    wineabv = find_abv(newsoup)\n",
    "    winetaste = find_taste(newsoup)\n",
    "    winebody = find_body(newsoup)\n",
    "    warating = newsoup.find(attrs={\"data-at\":\"product-badge-container\"}).text\n",
    "    customeravgrating = find_avgrating(newsoup)\n",
    "    customertotalratings = newsoup.find(class_=\"bv_numReviews_text\").text.strip(\"()\")\n",
    "    update_list_w_dict(newsoup)\n",
    "    driver.quit()\n",
    "    time.sleep(np.random.uniform(2,4))"
   ]
  },
  {
   "cell_type": "code",
   "execution_count": 74,
   "id": "e206bdf2-a5f6-4181-84c4-d66306d1c983",
   "metadata": {},
   "outputs": [
    {
     "data": {
      "text/plain": [
       "5"
      ]
     },
     "execution_count": 74,
     "metadata": {},
     "output_type": "execute_result"
    }
   ],
   "source": [
    "len(product_data)"
   ]
  },
  {
   "cell_type": "code",
   "execution_count": 75,
   "id": "2e51ec61-ab3f-4958-8ff2-aed7444ff897",
   "metadata": {},
   "outputs": [],
   "source": [
    "df = pd.DataFrame(product_data)\n",
    "df.to_csv('wine_data1.csv', mode='a', header=False)"
   ]
  },
  {
   "cell_type": "code",
   "execution_count": 78,
   "id": "bbc2a2d1-2815-418b-9ea4-e0b6e13cd45f",
   "metadata": {},
   "outputs": [
    {
     "name": "stderr",
     "output_type": "stream",
     "text": [
      "100%|██████████| 5/5 [02:10<00:00, 26.07s/it]\n"
     ]
    }
   ],
   "source": [
    "product_data=[]\n",
    "for url in tqdm(mini_list12):\n",
    "    driver = webdriver.Chrome(executable_path='chromedriver.exe')\n",
    "    time.sleep(np.random.uniform(2,5))\n",
    "    driver.get(url)\n",
    "    time.sleep(np.random.uniform(2,4))\n",
    "    newsoup = bs(driver.page_source)\n",
    "    time.sleep(2+np.random.uniform(1,3))\n",
    "    wineprice = find_price(newsoup)\n",
    "    winename = newsoup.find(attrs={\"data-at\":\"product-breadcrumb-productname-text\"}).text\n",
    "    winebrand = newsoup.find(text='BRAND').findNext().text\n",
    "    winecountrystate = find_countrystate(newsoup)\n",
    "    wineregion = find_region(newsoup)\n",
    "    wineappellation = find_appellation(newsoup)\n",
    "    winevarietal = find_varietal(newsoup)\n",
    "    winestyle = find_style(newsoup)\n",
    "    wineabv = find_abv(newsoup)\n",
    "    winetaste = find_taste(newsoup)\n",
    "    winebody = find_body(newsoup)\n",
    "    warating = newsoup.find(attrs={\"data-at\":\"product-badge-container\"}).text\n",
    "    customeravgrating = find_avgrating(newsoup)\n",
    "    customertotalratings = newsoup.find(class_=\"bv_numReviews_text\").text.strip(\"()\")\n",
    "    update_list_w_dict(newsoup)\n",
    "    driver.quit()\n",
    "    time.sleep(np.random.uniform(2.5,4.5))"
   ]
  },
  {
   "cell_type": "code",
   "execution_count": 79,
   "id": "636a951f-9c34-4743-860b-521c9b4eaded",
   "metadata": {},
   "outputs": [
    {
     "data": {
      "text/plain": [
       "5"
      ]
     },
     "execution_count": 79,
     "metadata": {},
     "output_type": "execute_result"
    }
   ],
   "source": [
    "len(product_data)"
   ]
  },
  {
   "cell_type": "code",
   "execution_count": 80,
   "id": "7217465a-3a15-4353-a547-1143d12052d1",
   "metadata": {},
   "outputs": [],
   "source": [
    "df = pd.DataFrame(product_data)\n",
    "df.to_csv('wine_data1.csv', mode='a', header=False)"
   ]
  },
  {
   "cell_type": "code",
   "execution_count": 38,
   "id": "f50fbf4d-6b3a-4f99-805f-549fba06066b",
   "metadata": {},
   "outputs": [
    {
     "name": "stderr",
     "output_type": "stream",
     "text": [
      "100%|████████████████████████████████████████████████████████████████████████████████████| 5/5 [02:41<00:00, 32.36s/it]\n"
     ]
    }
   ],
   "source": [
    "product_data=[]\n",
    "for url in tqdm(mini_list13):\n",
    "    driver = webdriver.Chrome(executable_path='chromedriver.exe')\n",
    "    time.sleep(np.random.uniform(2,5))\n",
    "    driver.get(url)\n",
    "    time.sleep(np.random.uniform(2,5))\n",
    "    newsoup = bs(driver.page_source)\n",
    "    time.sleep(np.random.uniform(2,5))\n",
    "    wineprice = find_price(newsoup)\n",
    "    winename = newsoup.find(attrs={\"data-at\":\"product-breadcrumb-productname-text\"}).text\n",
    "    winebrand = newsoup.find(text='BRAND').findNext().text\n",
    "    winecountrystate = find_countrystate(newsoup)\n",
    "    wineregion = find_region(newsoup)\n",
    "    wineappellation = find_appellation(newsoup)\n",
    "    winevarietal = find_varietal(newsoup)\n",
    "    winestyle = find_style(newsoup)\n",
    "    wineabv = find_abv(newsoup)\n",
    "    winetaste = find_taste(newsoup)\n",
    "    winebody = find_body(newsoup)\n",
    "    warating = newsoup.find(attrs={\"data-at\":\"product-badge-container\"}).text\n",
    "    customeravgrating = find_avgrating(newsoup)\n",
    "    customertotalratings = newsoup.find(class_=\"bv_numReviews_text\").text.strip(\"()\")\n",
    "    update_list_w_dict(newsoup)\n",
    "    driver.quit()\n",
    "    time.sleep(np.random.uniform(2,5))"
   ]
  },
  {
   "cell_type": "code",
   "execution_count": 39,
   "id": "afce4444-3516-4029-96ec-7d62aeef61eb",
   "metadata": {},
   "outputs": [
    {
     "data": {
      "text/plain": [
       "5"
      ]
     },
     "execution_count": 39,
     "metadata": {},
     "output_type": "execute_result"
    }
   ],
   "source": [
    "len(product_data)"
   ]
  },
  {
   "cell_type": "code",
   "execution_count": 40,
   "id": "71a256f7-3d86-4db0-bd02-35d476e85dd8",
   "metadata": {},
   "outputs": [],
   "source": [
    "df = pd.DataFrame(product_data)\n",
    "df.to_csv('wine_data1.csv', mode='a', header=False)"
   ]
  },
  {
   "cell_type": "code",
   "execution_count": 40,
   "id": "6acbb874-0461-4c0c-b7de-8a779ffc313e",
   "metadata": {},
   "outputs": [
    {
     "name": "stderr",
     "output_type": "stream",
     "text": [
      "100%|██████████| 5/5 [02:18<00:00, 27.78s/it]\n"
     ]
    }
   ],
   "source": [
    "product_data=[]\n",
    "for url in tqdm(mini_list14):\n",
    "    driver = webdriver.Chrome(executable_path='chromedriver.exe')\n",
    "    time.sleep(np.random.uniform(2,4.5))\n",
    "    driver.get(url)\n",
    "    time.sleep(1+np.random.uniform(2,4))\n",
    "    newsoup = bs(driver.page_source)\n",
    "    time.sleep(3.5+np.random.uniform(1,2))\n",
    "    wineprice = find_price(newsoup)\n",
    "    winename = newsoup.find(attrs={\"data-at\":\"product-breadcrumb-productname-text\"}).text\n",
    "    winebrand = newsoup.find(text='BRAND').findNext().text\n",
    "    winecountrystate = find_countrystate(newsoup)\n",
    "    wineregion = find_region(newsoup)\n",
    "    wineappellation = find_appellation(newsoup)\n",
    "    winevarietal = find_varietal(newsoup)\n",
    "    winestyle = find_style(newsoup)\n",
    "    wineabv = find_abv(newsoup)\n",
    "    winetaste = find_taste(newsoup)\n",
    "    winebody = find_body(newsoup)\n",
    "    warating = newsoup.find(attrs={\"data-at\":\"product-badge-container\"}).text\n",
    "    customeravgrating = find_avgrating(newsoup)\n",
    "    customertotalratings = newsoup.find(class_=\"bv_numReviews_text\").text.strip(\"()\")\n",
    "    update_list_w_dict(newsoup)\n",
    "    driver.quit()\n",
    "    time.sleep(np.random.uniform(2,5))"
   ]
  },
  {
   "cell_type": "code",
   "execution_count": 41,
   "id": "9777b4fe-f40d-4ddc-829a-577a605c3c96",
   "metadata": {},
   "outputs": [
    {
     "data": {
      "text/plain": [
       "5"
      ]
     },
     "execution_count": 41,
     "metadata": {},
     "output_type": "execute_result"
    }
   ],
   "source": [
    "len(product_data)"
   ]
  },
  {
   "cell_type": "code",
   "execution_count": 42,
   "id": "15476c56-a89c-42be-b1b4-25dadb958ae4",
   "metadata": {},
   "outputs": [],
   "source": [
    "df = pd.DataFrame(product_data)\n",
    "df.to_csv('wine_data1.csv', mode='a', header=False)"
   ]
  },
  {
   "cell_type": "code",
   "execution_count": 44,
   "id": "ce4ac44a-a583-4e95-96eb-98d010676500",
   "metadata": {},
   "outputs": [
    {
     "name": "stderr",
     "output_type": "stream",
     "text": [
      "100%|████████████████████████████████████████████████████████████████████████████████████| 5/5 [02:31<00:00, 30.32s/it]\n"
     ]
    }
   ],
   "source": [
    "product_data=[]\n",
    "for url in tqdm(mini_list15):\n",
    "    driver = webdriver.Chrome(executable_path='chromedriver.exe')\n",
    "    time.sleep(np.random.uniform(2,4.75))\n",
    "    driver.get(url)\n",
    "    time.sleep(np.random.uniform(2,5))\n",
    "    newsoup = bs(driver.page_source)\n",
    "    time.sleep(np.random.uniform(2,4.5))\n",
    "    wineprice = find_price(newsoup)\n",
    "    winename = newsoup.find(attrs={\"data-at\":\"product-breadcrumb-productname-text\"}).text\n",
    "    winebrand = newsoup.find(text='BRAND').findNext().text\n",
    "    winecountrystate = find_countrystate(newsoup)\n",
    "    wineregion = find_region(newsoup)\n",
    "    wineappellation = find_appellation(newsoup)\n",
    "    winevarietal = find_varietal(newsoup)\n",
    "    winestyle = find_style(newsoup)\n",
    "    wineabv = find_abv(newsoup)\n",
    "    winetaste = find_taste(newsoup)\n",
    "    winebody = find_body(newsoup)\n",
    "    warating = newsoup.find(attrs={\"data-at\":\"product-badge-container\"}).text\n",
    "    customeravgrating = find_avgrating(newsoup)\n",
    "    customertotalratings = newsoup.find(class_=\"bv_numReviews_text\").text.strip(\"()\")\n",
    "    update_list_w_dict(newsoup)\n",
    "    driver.quit()\n",
    "    time.sleep(np.random.uniform(2,5))"
   ]
  },
  {
   "cell_type": "code",
   "execution_count": 45,
   "id": "97ee4540-7274-4bed-9e29-a9c00edbc489",
   "metadata": {},
   "outputs": [
    {
     "data": {
      "text/plain": [
       "5"
      ]
     },
     "execution_count": 45,
     "metadata": {},
     "output_type": "execute_result"
    }
   ],
   "source": [
    "len(product_data)"
   ]
  },
  {
   "cell_type": "code",
   "execution_count": 46,
   "id": "60dbe92e-2ff3-4630-b5a4-c5f5de6ea3d5",
   "metadata": {},
   "outputs": [],
   "source": [
    "df = pd.DataFrame(product_data)\n",
    "df.to_csv('wine_data1.csv', mode='a', header=False)"
   ]
  },
  {
   "cell_type": "code",
   "execution_count": 27,
   "id": "26c2295f-18ea-45bc-8e02-ee8490d4bc2c",
   "metadata": {},
   "outputs": [
    {
     "name": "stderr",
     "output_type": "stream",
     "text": [
      "100%|██████████| 5/5 [02:13<00:00, 26.70s/it]\n"
     ]
    }
   ],
   "source": [
    "product_data=[]\n",
    "for url in tqdm(mini_list16):\n",
    "    driver = webdriver.Chrome(executable_path='chromedriver.exe')\n",
    "    time.sleep(np.random.uniform(2,5))\n",
    "    driver.get(url)\n",
    "    time.sleep(np.random.uniform(2,4.5))\n",
    "    newsoup = bs(driver.page_source)\n",
    "    time.sleep(np.random.uniform(2,4.5))\n",
    "    wineprice = find_price(newsoup)\n",
    "    winename = newsoup.find(attrs={\"data-at\":\"product-breadcrumb-productname-text\"}).text\n",
    "    winebrand = newsoup.find(text='BRAND').findNext().text\n",
    "    winecountrystate = find_countrystate(newsoup)\n",
    "    wineregion = find_region(newsoup)\n",
    "    wineappellation = find_appellation(newsoup)\n",
    "    winevarietal = find_varietal(newsoup)\n",
    "    winestyle = find_style(newsoup)\n",
    "    wineabv = find_abv(newsoup)\n",
    "    winetaste = find_taste(newsoup)\n",
    "    winebody = find_body(newsoup)\n",
    "    warating = newsoup.find(attrs={\"data-at\":\"product-badge-container\"}).text\n",
    "    customeravgrating = find_avgrating(newsoup)\n",
    "    customertotalratings = newsoup.find(class_=\"bv_numReviews_text\").text.strip(\"()\")\n",
    "    update_list_w_dict(newsoup)\n",
    "    driver.quit()\n",
    "    time.sleep(np.random.uniform(2,4))"
   ]
  },
  {
   "cell_type": "code",
   "execution_count": 28,
   "id": "a73d0608-5260-433e-94ab-3893cb45eee3",
   "metadata": {},
   "outputs": [
    {
     "data": {
      "text/plain": [
       "5"
      ]
     },
     "execution_count": 28,
     "metadata": {},
     "output_type": "execute_result"
    }
   ],
   "source": [
    "len(product_data)"
   ]
  },
  {
   "cell_type": "code",
   "execution_count": 29,
   "id": "b11571ee-cb0f-4df8-bb61-cdd2459be8cb",
   "metadata": {},
   "outputs": [],
   "source": [
    "df = pd.DataFrame(product_data)\n",
    "df.to_csv('wine_data1.csv', mode='a', header=False)"
   ]
  },
  {
   "cell_type": "code",
   "execution_count": 39,
   "id": "fb4dc6ae-9192-4c3c-96da-f0561453a7bd",
   "metadata": {},
   "outputs": [
    {
     "name": "stderr",
     "output_type": "stream",
     "text": [
      "100%|██████████| 5/5 [02:12<00:00, 26.53s/it]\n"
     ]
    }
   ],
   "source": [
    "product_data=[]\n",
    "for url in tqdm(mini_list17):\n",
    "    driver = webdriver.Chrome(executable_path='chromedriver.exe')\n",
    "    time.sleep(np.random.uniform(2,5))\n",
    "    driver.get(url)\n",
    "    time.sleep(np.random.uniform(2,4.5))\n",
    "    newsoup = bs(driver.page_source)\n",
    "    time.sleep(np.random.uniform(2,5))\n",
    "    wineprice = find_price(newsoup)\n",
    "    winename = newsoup.find(attrs={\"data-at\":\"product-breadcrumb-productname-text\"}).text\n",
    "    winebrand = newsoup.find(text='BRAND').findNext().text\n",
    "    winecountrystate = find_countrystate(newsoup)\n",
    "    wineregion = find_region(newsoup)\n",
    "    wineappellation = find_appellation(newsoup)\n",
    "    winevarietal = find_varietal(newsoup)\n",
    "    winestyle = find_style(newsoup)\n",
    "    wineabv = find_abv(newsoup)\n",
    "    winetaste = find_taste(newsoup)\n",
    "    winebody = find_body(newsoup)\n",
    "    warating = newsoup.find(attrs={\"data-at\":\"product-badge-container\"}).text\n",
    "    customeravgrating = find_avgrating(newsoup)\n",
    "    customertotalratings = newsoup.find(class_=\"bv_numReviews_text\").text.strip(\"()\")\n",
    "    update_list_w_dict(newsoup)\n",
    "    driver.quit()\n",
    "    time.sleep(np.random.uniform(2,4.5))"
   ]
  },
  {
   "cell_type": "code",
   "execution_count": 40,
   "id": "528be889-8fa0-4d7e-be64-5b8bec9474ba",
   "metadata": {},
   "outputs": [
    {
     "data": {
      "text/plain": [
       "5"
      ]
     },
     "execution_count": 40,
     "metadata": {},
     "output_type": "execute_result"
    }
   ],
   "source": [
    "len(product_data)"
   ]
  },
  {
   "cell_type": "code",
   "execution_count": 41,
   "id": "53222918-4ceb-4efe-958f-d5d9006d1608",
   "metadata": {},
   "outputs": [],
   "source": [
    "df = pd.DataFrame(product_data)\n",
    "df.to_csv('wine_data1.csv', mode='a', header=False)"
   ]
  },
  {
   "cell_type": "code",
   "execution_count": 43,
   "id": "eef99b01-0db1-4d3f-bfe1-35ff15d834de",
   "metadata": {},
   "outputs": [
    {
     "name": "stderr",
     "output_type": "stream",
     "text": [
      "100%|██████████| 5/5 [02:15<00:00, 27.01s/it]\n"
     ]
    }
   ],
   "source": [
    "product_data=[]\n",
    "for url in tqdm(mini_list18):\n",
    "    driver = webdriver.Chrome(executable_path='chromedriver.exe')\n",
    "    time.sleep(np.random.uniform(2,4.5))\n",
    "    driver.get(url)\n",
    "    time.sleep(np.random.uniform(2,5))\n",
    "    newsoup = bs(driver.page_source)\n",
    "    time.sleep(np.random.uniform(2,4.5))\n",
    "    wineprice = find_price(newsoup)\n",
    "    winename = newsoup.find(attrs={\"data-at\":\"product-breadcrumb-productname-text\"}).text\n",
    "    winebrand = newsoup.find(text='BRAND').findNext().text\n",
    "    winecountrystate = find_countrystate(newsoup)\n",
    "    wineregion = find_region(newsoup)\n",
    "    wineappellation = find_appellation(newsoup)\n",
    "    winevarietal = find_varietal(newsoup)\n",
    "    winestyle = find_style(newsoup)\n",
    "    wineabv = find_abv(newsoup)\n",
    "    winetaste = find_taste(newsoup)\n",
    "    winebody = find_body(newsoup)\n",
    "    warating = newsoup.find(attrs={\"data-at\":\"product-badge-container\"}).text\n",
    "    customeravgrating = find_avgrating(newsoup)\n",
    "    customertotalratings = newsoup.find(class_=\"bv_numReviews_text\").text.strip(\"()\")\n",
    "    update_list_w_dict(newsoup)\n",
    "    driver.quit()\n",
    "    time.sleep(np.random.uniform(2,5.4))"
   ]
  },
  {
   "cell_type": "code",
   "execution_count": 44,
   "id": "7a53cc93-7748-4e6e-b80b-944d5aad2bee",
   "metadata": {},
   "outputs": [
    {
     "data": {
      "text/plain": [
       "5"
      ]
     },
     "execution_count": 44,
     "metadata": {},
     "output_type": "execute_result"
    }
   ],
   "source": [
    "len(product_data)"
   ]
  },
  {
   "cell_type": "code",
   "execution_count": 45,
   "id": "850e2174-402d-4e9f-85b0-3dd032dee2b2",
   "metadata": {},
   "outputs": [],
   "source": [
    "df = pd.DataFrame(product_data)\n",
    "df.to_csv('wine_data1.csv', mode='a', header=False)"
   ]
  },
  {
   "cell_type": "code",
   "execution_count": 38,
   "id": "e3b017fe-606e-4130-b471-c4f75ae8acbd",
   "metadata": {},
   "outputs": [
    {
     "name": "stderr",
     "output_type": "stream",
     "text": [
      "100%|██████████| 5/5 [02:06<00:00, 25.22s/it]\n"
     ]
    }
   ],
   "source": [
    "product_data=[]\n",
    "for url in tqdm(mini_list19):\n",
    "    driver = webdriver.Chrome(executable_path='chromedriver.exe')\n",
    "    time.sleep(np.random.uniform(2,4.5))\n",
    "    driver.get(url)\n",
    "    time.sleep(np.random.uniform(2,5))\n",
    "    newsoup = bs(driver.page_source)\n",
    "    time.sleep(np.random.uniform(2,4.5))\n",
    "    wineprice = find_price(newsoup)\n",
    "    winename = newsoup.find(attrs={\"data-at\":\"product-breadcrumb-productname-text\"}).text\n",
    "    winebrand = newsoup.find(text='BRAND').findNext().text\n",
    "    winecountrystate = find_countrystate(newsoup)\n",
    "    wineregion = find_region(newsoup)\n",
    "    wineappellation = find_appellation(newsoup)\n",
    "    winevarietal = find_varietal(newsoup)\n",
    "    winestyle = find_style(newsoup)\n",
    "    wineabv = find_abv(newsoup)\n",
    "    winetaste = find_taste(newsoup)\n",
    "    winebody = find_body(newsoup)\n",
    "    warating = newsoup.find(attrs={\"data-at\":\"product-badge-container\"}).text\n",
    "    customeravgrating = find_avgrating(newsoup)\n",
    "    customertotalratings = newsoup.find(class_=\"bv_numReviews_text\").text.strip(\"()\")\n",
    "    update_list_w_dict(newsoup)\n",
    "    driver.quit()\n",
    "    time.sleep(np.random.uniform(2,4))"
   ]
  },
  {
   "cell_type": "code",
   "execution_count": 39,
   "id": "55e87700-5012-48ae-bf2d-4e4e94654b5b",
   "metadata": {},
   "outputs": [
    {
     "data": {
      "text/plain": [
       "5"
      ]
     },
     "execution_count": 39,
     "metadata": {},
     "output_type": "execute_result"
    }
   ],
   "source": [
    "len(product_data)"
   ]
  },
  {
   "cell_type": "code",
   "execution_count": 40,
   "id": "4674ad81-de55-4ba2-a02b-65526836339c",
   "metadata": {},
   "outputs": [],
   "source": [
    "df = pd.DataFrame(product_data)\n",
    "df.to_csv('wine_data1.csv', mode='a', header=False)"
   ]
  },
  {
   "cell_type": "code",
   "execution_count": 41,
   "id": "a6b9d364-44bd-4fdf-9971-5a8ca88c3d4f",
   "metadata": {},
   "outputs": [
    {
     "name": "stderr",
     "output_type": "stream",
     "text": [
      "100%|██████████| 5/5 [02:10<00:00, 26.17s/it]\n"
     ]
    }
   ],
   "source": [
    "product_data=[]\n",
    "for url in tqdm(mini_list20):\n",
    "    driver = webdriver.Chrome(executable_path='chromedriver.exe')\n",
    "    time.sleep(np.random.uniform(2,4.5))\n",
    "    driver.get(url)\n",
    "    time.sleep(np.random.uniform(2,5))\n",
    "    newsoup = bs(driver.page_source)\n",
    "    time.sleep(np.random.uniform(2,4.5))\n",
    "    wineprice = find_price(newsoup)\n",
    "    winename = newsoup.find(attrs={\"data-at\":\"product-breadcrumb-productname-text\"}).text\n",
    "    winebrand = newsoup.find(text='BRAND').findNext().text\n",
    "    winecountrystate = find_countrystate(newsoup)\n",
    "    wineregion = find_region(newsoup)\n",
    "    wineappellation = find_appellation(newsoup)\n",
    "    winevarietal = find_varietal(newsoup)\n",
    "    winestyle = find_style(newsoup)\n",
    "    wineabv = find_abv(newsoup)\n",
    "    winetaste = find_taste(newsoup)\n",
    "    winebody = find_body(newsoup)\n",
    "    warating = newsoup.find(attrs={\"data-at\":\"product-badge-container\"}).text\n",
    "    customeravgrating = find_avgrating(newsoup)\n",
    "    customertotalratings = newsoup.find(class_=\"bv_numReviews_text\").text.strip(\"()\")\n",
    "    update_list_w_dict(newsoup)\n",
    "    driver.quit()\n",
    "    time.sleep(np.random.uniform(2,4))"
   ]
  },
  {
   "cell_type": "code",
   "execution_count": 42,
   "id": "4c5358bd-7497-4d08-9f28-c5f38d244a53",
   "metadata": {},
   "outputs": [
    {
     "data": {
      "text/plain": [
       "5"
      ]
     },
     "execution_count": 42,
     "metadata": {},
     "output_type": "execute_result"
    }
   ],
   "source": [
    "len(product_data)"
   ]
  },
  {
   "cell_type": "code",
   "execution_count": 43,
   "id": "7fcac7ab-0fc5-4d69-b4ad-d3eb6d831ae4",
   "metadata": {},
   "outputs": [],
   "source": [
    "df = pd.DataFrame(product_data)\n",
    "df.to_csv('wine_data1.csv', mode='a', header=False)"
   ]
  },
  {
   "cell_type": "code",
   "execution_count": 15,
   "id": "be42d32c-6540-4b1d-a64e-a096cb7ecf83",
   "metadata": {},
   "outputs": [
    {
     "name": "stderr",
     "output_type": "stream",
     "text": [
      "100%|██████████| 5/5 [02:18<00:00, 27.64s/it]\n"
     ]
    }
   ],
   "source": [
    "product_data=[]\n",
    "for url in tqdm(mini_list21):\n",
    "    driver = webdriver.Chrome(executable_path='chromedriver.exe')\n",
    "    time.sleep(np.random.uniform(2.5,5))\n",
    "    driver.get(url)\n",
    "    time.sleep(np.random.uniform(2,4.5))\n",
    "    newsoup = bs(driver.page_source)\n",
    "    time.sleep(np.random.uniform(2,4))\n",
    "    wineprice = find_price(newsoup)\n",
    "    winename = newsoup.find(attrs={\"data-at\":\"product-breadcrumb-productname-text\"}).text\n",
    "    winebrand = newsoup.find(text='BRAND').findNext().text\n",
    "    winecountrystate = find_countrystate(newsoup)\n",
    "    wineregion = find_region(newsoup)\n",
    "    wineappellation = find_appellation(newsoup)\n",
    "    winevarietal = find_varietal(newsoup)\n",
    "    winestyle = find_style(newsoup)\n",
    "    wineabv = find_abv(newsoup)\n",
    "    winetaste = find_taste(newsoup)\n",
    "    winebody = find_body(newsoup)\n",
    "    warating = newsoup.find(attrs={\"data-at\":\"product-badge-container\"}).text\n",
    "    customeravgrating = find_avgrating(newsoup)\n",
    "    customertotalratings = newsoup.find(class_=\"bv_numReviews_text\").text.strip(\"()\")\n",
    "    update_list_w_dict(newsoup)\n",
    "    driver.quit()\n",
    "    time.sleep(np.random.uniform(2,4.9))"
   ]
  },
  {
   "cell_type": "code",
   "execution_count": 16,
   "id": "def59127-d831-40f6-a417-6a5923e6b400",
   "metadata": {},
   "outputs": [
    {
     "data": {
      "text/plain": [
       "5"
      ]
     },
     "execution_count": 16,
     "metadata": {},
     "output_type": "execute_result"
    }
   ],
   "source": [
    "len(product_data)"
   ]
  },
  {
   "cell_type": "code",
   "execution_count": 17,
   "id": "0fc4fe59-f766-4811-9795-9262fa1c26ec",
   "metadata": {},
   "outputs": [],
   "source": [
    "df = pd.DataFrame(product_data)\n",
    "df.to_csv('wine_data1.csv', mode='a', header=False)"
   ]
  },
  {
   "cell_type": "code",
   "execution_count": 18,
   "id": "6d640440-c6ca-4da8-9f30-ba938b64dc49",
   "metadata": {},
   "outputs": [
    {
     "name": "stderr",
     "output_type": "stream",
     "text": [
      "100%|██████████| 5/5 [02:10<00:00, 26.19s/it]\n"
     ]
    }
   ],
   "source": [
    "product_data=[]\n",
    "for url in tqdm(mini_list22):\n",
    "    driver = webdriver.Chrome(executable_path='chromedriver.exe')\n",
    "    time.sleep(np.random.uniform(2,5))\n",
    "    driver.get(url)\n",
    "    time.sleep(np.random.uniform(2,4.5))\n",
    "    newsoup = bs(driver.page_source)\n",
    "    time.sleep(np.random.uniform(2,4.5))\n",
    "    wineprice = find_price(newsoup)\n",
    "    winename = newsoup.find(attrs={\"data-at\":\"product-breadcrumb-productname-text\"}).text\n",
    "    winebrand = newsoup.find(text='BRAND').findNext().text\n",
    "    winecountrystate = find_countrystate(newsoup)\n",
    "    wineregion = find_region(newsoup)\n",
    "    wineappellation = find_appellation(newsoup)\n",
    "    winevarietal = find_varietal(newsoup)\n",
    "    winestyle = find_style(newsoup)\n",
    "    wineabv = find_abv(newsoup)\n",
    "    winetaste = find_taste(newsoup)\n",
    "    winebody = find_body(newsoup)\n",
    "    warating = newsoup.find(attrs={\"data-at\":\"product-badge-container\"}).text\n",
    "    customeravgrating = find_avgrating(newsoup)\n",
    "    customertotalratings = newsoup.find(class_=\"bv_numReviews_text\").text.strip(\"()\")\n",
    "    update_list_w_dict(newsoup)\n",
    "    driver.quit()\n",
    "    time.sleep(np.random.uniform(2,4))"
   ]
  },
  {
   "cell_type": "code",
   "execution_count": 19,
   "id": "205199f0-61ee-4414-8bbb-044e29f60889",
   "metadata": {},
   "outputs": [
    {
     "data": {
      "text/plain": [
       "5"
      ]
     },
     "execution_count": 19,
     "metadata": {},
     "output_type": "execute_result"
    }
   ],
   "source": [
    "len(product_data)"
   ]
  },
  {
   "cell_type": "code",
   "execution_count": 20,
   "id": "fd4268e4-6615-47bc-83d4-b781ee7c74ab",
   "metadata": {},
   "outputs": [],
   "source": [
    "df = pd.DataFrame(product_data)\n",
    "df.to_csv('wine_data1.csv', mode='a', header=False)"
   ]
  },
  {
   "cell_type": "code",
   "execution_count": 21,
   "id": "6727a3c3-56aa-4443-bb7d-223348a1bdb5",
   "metadata": {},
   "outputs": [
    {
     "name": "stderr",
     "output_type": "stream",
     "text": [
      "100%|██████████| 5/5 [02:13<00:00, 26.65s/it]\n"
     ]
    }
   ],
   "source": [
    "product_data=[]\n",
    "for url in tqdm(mini_list23):\n",
    "    driver = webdriver.Chrome(executable_path='chromedriver.exe')\n",
    "    time.sleep(np.random.uniform(2.5,5))\n",
    "    driver.get(url)\n",
    "    time.sleep(np.random.uniform(2,4.5))\n",
    "    newsoup = bs(driver.page_source)\n",
    "    time.sleep(np.random.uniform(2,4.5))\n",
    "    wineprice = find_price(newsoup)\n",
    "    winename = newsoup.find(attrs={\"data-at\":\"product-breadcrumb-productname-text\"}).text\n",
    "    winebrand = newsoup.find(text='BRAND').findNext().text\n",
    "    winecountrystate = find_countrystate(newsoup)\n",
    "    wineregion = find_region(newsoup)\n",
    "    wineappellation = find_appellation(newsoup)\n",
    "    winevarietal = find_varietal(newsoup)\n",
    "    winestyle = find_style(newsoup)\n",
    "    wineabv = find_abv(newsoup)\n",
    "    winetaste = find_taste(newsoup)\n",
    "    winebody = find_body(newsoup)\n",
    "    warating = newsoup.find(attrs={\"data-at\":\"product-badge-container\"}).text\n",
    "    customeravgrating = find_avgrating(newsoup)\n",
    "    customertotalratings = newsoup.find(class_=\"bv_numReviews_text\").text.strip(\"()\")\n",
    "    update_list_w_dict(newsoup)\n",
    "    driver.quit()\n",
    "    time.sleep(np.random.uniform(2,4))"
   ]
  },
  {
   "cell_type": "code",
   "execution_count": 22,
   "id": "50c4acd7-ec42-4679-b172-34512c0f24fa",
   "metadata": {},
   "outputs": [
    {
     "data": {
      "text/plain": [
       "5"
      ]
     },
     "execution_count": 22,
     "metadata": {},
     "output_type": "execute_result"
    }
   ],
   "source": [
    "len(product_data)"
   ]
  },
  {
   "cell_type": "code",
   "execution_count": 23,
   "id": "4a97c8fa-e07d-4d46-9c4e-e527c2ed6d42",
   "metadata": {},
   "outputs": [],
   "source": [
    "df = pd.DataFrame(product_data)\n",
    "df.to_csv('wine_data1.csv', mode='a', header=False)"
   ]
  },
  {
   "cell_type": "code",
   "execution_count": 24,
   "id": "ee15abf5-8d0e-4482-9543-1a83312cb874",
   "metadata": {},
   "outputs": [
    {
     "name": "stderr",
     "output_type": "stream",
     "text": [
      "100%|██████████| 5/5 [02:11<00:00, 26.34s/it]\n"
     ]
    }
   ],
   "source": [
    "product_data=[]\n",
    "for url in tqdm(mini_list24):\n",
    "    driver = webdriver.Chrome(executable_path='chromedriver.exe')\n",
    "    time.sleep(np.random.uniform(2.5,5))\n",
    "    driver.get(url)\n",
    "    time.sleep(np.random.uniform(2,4.5))\n",
    "    newsoup = bs(driver.page_source)\n",
    "    time.sleep(np.random.uniform(2,4.5))\n",
    "    wineprice = find_price(newsoup)\n",
    "    winename = newsoup.find(attrs={\"data-at\":\"product-breadcrumb-productname-text\"}).text\n",
    "    winebrand = newsoup.find(text='BRAND').findNext().text\n",
    "    winecountrystate = find_countrystate(newsoup)\n",
    "    wineregion = find_region(newsoup)\n",
    "    wineappellation = find_appellation(newsoup)\n",
    "    winevarietal = find_varietal(newsoup)\n",
    "    winestyle = find_style(newsoup)\n",
    "    wineabv = find_abv(newsoup)\n",
    "    winetaste = find_taste(newsoup)\n",
    "    winebody = find_body(newsoup)\n",
    "    warating = newsoup.find(attrs={\"data-at\":\"product-badge-container\"}).text\n",
    "    customeravgrating = find_avgrating(newsoup)\n",
    "    customertotalratings = newsoup.find(class_=\"bv_numReviews_text\").text.strip(\"()\")\n",
    "    update_list_w_dict(newsoup)\n",
    "    driver.quit()\n",
    "    time.sleep(np.random.uniform(2,4))"
   ]
  },
  {
   "cell_type": "code",
   "execution_count": 25,
   "id": "b9c7d73f-33e8-4ace-89b0-b4493c1ba885",
   "metadata": {},
   "outputs": [
    {
     "data": {
      "text/plain": [
       "5"
      ]
     },
     "execution_count": 25,
     "metadata": {},
     "output_type": "execute_result"
    }
   ],
   "source": [
    "len(product_data)"
   ]
  },
  {
   "cell_type": "code",
   "execution_count": 26,
   "id": "040aa8e4-2648-4bc7-8dfe-1b4dce74f62c",
   "metadata": {},
   "outputs": [],
   "source": [
    "df = pd.DataFrame(product_data)\n",
    "df.to_csv('wine_data1.csv', mode='a', header=False)"
   ]
  },
  {
   "cell_type": "code",
   "execution_count": null,
   "id": "15f4434f-e812-4205-bd0f-421ba97a396a",
   "metadata": {},
   "outputs": [],
   "source": []
  }
 ],
 "metadata": {
  "kernelspec": {
   "display_name": "Python 3 (ipykernel)",
   "language": "python",
   "name": "python3"
  },
  "language_info": {
   "codemirror_mode": {
    "name": "ipython",
    "version": 3
   },
   "file_extension": ".py",
   "mimetype": "text/x-python",
   "name": "python",
   "nbconvert_exporter": "python",
   "pygments_lexer": "ipython3",
   "version": "3.9.7"
  }
 },
 "nbformat": 4,
 "nbformat_minor": 5
}
